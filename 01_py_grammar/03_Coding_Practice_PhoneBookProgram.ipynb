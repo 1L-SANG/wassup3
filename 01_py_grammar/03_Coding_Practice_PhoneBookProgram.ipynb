{
 "cells": [
  {
   "cell_type": "markdown",
   "metadata": {},
   "source": [
    "# 전화번호 프로그램 만들기\n",
    "\n",
    "* 홍길동 010-123-4567\n",
    "* 기능1 : 연락처 추가\n",
    "* 기능2 : 연락처 전체 보기\n",
    "* 기능3 : 검색, 이름을 입력받아서 전화번호 조회\n",
    "* 기능4 : 수정, 이름을 입력받아서 전화번호 입력수정\n",
    "* 기능5 : 삭제, 이름 입력받아서 삭제\n",
    "* 기능6 : 프로그램 종료"
   ]
  },
  {
   "cell_type": "code",
   "execution_count": 2,
   "metadata": {},
   "outputs": [
    {
     "name": "stdin",
     "output_type": "stream",
     "text": [
      "이름:  일상\n",
      "번호:  1233\n"
     ]
    },
    {
     "name": "stdout",
     "output_type": "stream",
     "text": [
      "일상의 연락처 : 1233가 추가되었습니다.\n"
     ]
    }
   ],
   "source": [
    "contact = {}\n",
    "\n",
    "# 1\n",
    "name = input(\"이름: \")  \n",
    "phone = input(\"번호: \")  \n",
    "contact[name] = phone\n",
    "print(f'{name}의 연락처 : {phone}가 추가되었습니다.') "
   ]
  },
  {
   "cell_type": "code",
   "execution_count": 4,
   "metadata": {},
   "outputs": [
    {
     "name": "stdout",
     "output_type": "stream",
     "text": [
      "{'일상': '1233'}\n"
     ]
    }
   ],
   "source": [
    "print(contact)"
   ]
  },
  {
   "cell_type": "code",
   "execution_count": 6,
   "metadata": {},
   "outputs": [
    {
     "data": {
      "text/plain": [
       "'1233'"
      ]
     },
     "execution_count": 6,
     "metadata": {},
     "output_type": "execute_result"
    }
   ],
   "source": [
    "contact.get(\"일상\")"
   ]
  },
  {
   "cell_type": "code",
   "execution_count": 22,
   "metadata": {},
   "outputs": [
    {
     "name": "stdout",
     "output_type": "stream",
     "text": [
      "=====전화번호부 프로그램=====\n",
      "\n",
      "1. 연락처 추가\n",
      "2. 연락처 전체보기\n",
      "3. 전화번호 조회\n",
      "4. 전화번호 수정\n",
      "5. 전화번호 삭제\n",
      "6. 프로그램 종료\n",
      "\n",
      "Enter number :\n"
     ]
    },
    {
     "name": "stdin",
     "output_type": "stream",
     "text": [
      " 6\n"
     ]
    }
   ],
   "source": [
    "print('=====전화번호부 프로그램=====')\n",
    "prompt = \"\"\"\n",
    "1. 연락처 추가\n",
    "2. 연락처 전체보기\n",
    "3. 전화번호 조회\n",
    "4. 전화번호 수정\n",
    "5. 전화번호 삭제\n",
    "6. 프로그램 종료\n",
    "\n",
    "Enter number :\"\"\"\n",
    "\n",
    "contact = {}\n",
    "number = 0\n",
    "\n",
    "while number != 6:\n",
    "    print(prompt)\n",
    "    number = int(input())\n",
    "    if number ==1:\n",
    "        name = input(\"이름: \")  \n",
    "        phone = input(\"번호: \")  \n",
    "        contact[name] = phone\n",
    "        print(f'{name}의 연락처 : {phone}가 추가되었습니다.')\n",
    "\n",
    "    elif number ==2:\n",
    "        print(contact)\n",
    "\n",
    "    elif number ==3:\n",
    "        name = input(\"이름: \")\n",
    "        phone = contact.get(name)\n",
    "        if phone :\n",
    "            print(f'{name}의 번호는 {phone}입니다.')\n",
    "        else:\n",
    "            print(\"번호가 없습니다.\")\n",
    "\n",
    "    elif number ==4:\n",
    "        name = input(\"이름: \")\n",
    "        phone = contact.get(name)\n",
    "        if phone :\n",
    "            phone2 = input(\"변경할 전화번호: \")\n",
    "            phone =phone2\n",
    "            print(f'{name}의 번호가 {phone2}로 변경되었습니다.')\n",
    "        else:\n",
    "            print(\"번호가 없습니다.\")"
   ]
  },
  {
   "cell_type": "code",
   "execution_count": null,
   "metadata": {},
   "outputs": [],
   "source": [
    "f = open('새파일3.py', 'w')\n",
    "contacts = {}\n",
    "\n",
    "def add_contact(name, number):\n",
    "    if '011' in number:\n",
    "        print(\"011을 요즘 누가 쓰니?\")\n",
    "        return\n",
    "    contacts[name] = number\n",
    "    print(f\"연락처에 {name}의 번호 {number}가 추가되었습니다.\")\n",
    "\n",
    "def show_all_contacts():\n",
    "    if contacts:\n",
    "        print(\"전체 연락처:\")\n",
    "        for name, number in contacts.items():\n",
    "            print(f\"{name}: {number}\")\n",
    "    else:\n",
    "        print(\"연락처가 비어 있습니다.\")\n",
    "\n",
    "def search_contact(name):\n",
    "    if name in contacts:\n",
    "        print(f\"{name}의 번호는 {contacts[name]}입니다.\")\n",
    "    else:\n",
    "        print(f\"{name}을(를) 찾을 수 없습니다.\")\n",
    "\n",
    "def edit_contact(name, new_number):\n",
    "    if '011' in new_number:\n",
    "        print(\"'011'을 사용할 수 없습니다. '011'을 요즘 누가 쓰니?\")\n",
    "        return\n",
    "    if name in contacts:\n",
    "        contacts[name] = new_number\n",
    "        print(f\"{name}의 번호가 {new_number}로 수정되었습니다.\")\n",
    "    else:\n",
    "        print(f\"{name}을(를) 찾을 수 없습니다.\")\n",
    "\n",
    "def delete_contact(name):\n",
    "    if name in contacts:\n",
    "        del contacts[name]\n",
    "        print(f\"{name}의 연락처가 삭제되었습니다.\")\n",
    "    else:\n",
    "        print(f\"{name}을(를) 찾을 수 없습니다.\")\n",
    "\n",
    "def main():\n",
    "    while True:\n",
    "        print(' < 전화번호부 프로그램 > ')\n",
    "        print('1.추가   2.보기   3.검색   4.수정   5.삭제   9.종료')\n",
    "        choice = input('메뉴를 선택해주세요!(숫자only): ')\n",
    "\n",
    "        if choice == '1':\n",
    "            name = input(\"이름을 입력하세요: \")\n",
    "            number = input(\"전화번호를 입력하세요: \")\n",
    "            add_contact(name, number)\n",
    "        elif choice == '2':\n",
    "            show_all_contacts()\n",
    "        elif choice == '3':\n",
    "            name = input(\"검색할 이름을 입력하세요: \")\n",
    "            search_contact(name)\n",
    "        elif choice == '4':\n",
    "            name = input(\"수정할 연락처의 이름을 입력하세요: \")\n",
    "            new_number = input(\"새로운 전화번호를 입력하세요: \")\n",
    "            edit_contact(name, new_number)\n",
    "        elif choice == '5':\n",
    "            name = input(\"삭제할 연락처의 이름을 입력하세요: \")\n",
    "            delete_contact(name)\n",
    "        elif choice == '6':\n",
    "            print(\"프로그램을 종료합니다.\")\n",
    "            break\n",
    "        else:\n",
    "            print(\"올바른 기능을 선택해주세요.\")\n",
    "\n",
    "if __name__ == \"__main__\":\n",
    "    main()\n",
    "\n",
    "f.close()"
   ]
  },
  {
   "cell_type": "code",
   "execution_count": null,
   "metadata": {},
   "outputs": [],
   "source": []
  }
 ],
 "metadata": {
  "kernelspec": {
   "display_name": "Python 3 (ipykernel)",
   "language": "python",
   "name": "python3"
  },
  "language_info": {
   "codemirror_mode": {
    "name": "ipython",
    "version": 3
   },
   "file_extension": ".py",
   "mimetype": "text/x-python",
   "name": "python",
   "nbconvert_exporter": "python",
   "pygments_lexer": "ipython3",
   "version": "3.11.7"
  },
  "toc": {
   "base_numbering": 1,
   "nav_menu": {},
   "number_sections": true,
   "sideBar": true,
   "skip_h1_title": false,
   "title_cell": "Table of Contents",
   "title_sidebar": "Contents",
   "toc_cell": false,
   "toc_position": {},
   "toc_section_display": true,
   "toc_window_display": false
  },
  "varInspector": {
   "cols": {
    "lenName": 16,
    "lenType": 16,
    "lenVar": 40
   },
   "kernels_config": {
    "python": {
     "delete_cmd_postfix": "",
     "delete_cmd_prefix": "del ",
     "library": "var_list.py",
     "varRefreshCmd": "print(var_dic_list())"
    },
    "r": {
     "delete_cmd_postfix": ") ",
     "delete_cmd_prefix": "rm(",
     "library": "var_list.r",
     "varRefreshCmd": "cat(var_dic_list()) "
    }
   },
   "types_to_exclude": [
    "module",
    "function",
    "builtin_function_or_method",
    "instance",
    "_Feature"
   ],
   "window_display": false
  }
 },
 "nbformat": 4,
 "nbformat_minor": 4
}
