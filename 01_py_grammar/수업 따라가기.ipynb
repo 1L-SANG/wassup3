{
 "cells": [
  {
   "cell_type": "code",
   "execution_count": 1,
   "id": "8a46696e-e0ef-4278-a965-ddad8a5894dd",
   "metadata": {},
   "outputs": [
    {
     "data": {
      "text/plain": [
       "{'name': 'pey', 'phone': '010-9999-1234', 'birth': '1118'}"
      ]
     },
     "execution_count": 1,
     "metadata": {},
     "output_type": "execute_result"
    }
   ],
   "source": [
    "dic = {'name': 'pey', 'phone': '010-9999-1234', 'birth': '1118'}\n",
    "dic"
   ]
  },
  {
   "cell_type": "markdown",
   "id": "bd9c8899-157e-4b29-9139-35505079782f",
   "metadata": {},
   "source": [
    "a = {1:'a'}\n",
    "a[2] = 'b' (없는 키를 조회하면서 입력이 가능)"
   ]
  },
  {
   "cell_type": "markdown",
   "id": "c6d1b6c6-ab64-44b6-824f-97df92e23a8f",
   "metadata": {},
   "source": [
    "시퀀스에서 인덱스는 0,1,2,3,4 키는 문자열로도 가능\n",
    "a['name'] = 'pay'이렇게"
   ]
  },
  {
   "cell_type": "code",
   "execution_count": null,
   "id": "09eb7c7f-a7cd-4c03-88e2-28d2e602fe12",
   "metadata": {},
   "outputs": [],
   "source": [
    "시퀀스에선 0부터 조회지만 이건 키기때문에 ??"
   ]
  },
  {
   "cell_type": "code",
   "execution_count": null,
   "id": "59751fc8-9802-4522-b79c-34a785144a78",
   "metadata": {},
   "outputs": [],
   "source": [
    "키가 1인 요소 삭제하기 del a[1]\n",
    "1이라는 키가 없어지는 거지, 2번째 키가 사라지는게 X"
   ]
  },
  {
   "cell_type": "code",
   "execution_count": null,
   "id": "4e781983-b83e-4f07-9ec3-d67b8af7fb85",
   "metadata": {},
   "outputs": [],
   "source": []
  },
  {
   "cell_type": "markdown",
   "id": "ea32254a-ca41-463d-8fca-76355a450240",
   "metadata": {},
   "source": [
    "## 딕셔너리 주의사항"
   ]
  },
  {
   "cell_type": "markdown",
   "id": "1fbc9252-8ec7-46c0-a470-55661ac7b2fb",
   "metadata": {},
   "source": [
    "리스트 키로 넣지 X\n",
    "리스트는 뮤터블해서? 복수개라서?"
   ]
  },
  {
   "cell_type": "markdown",
   "id": "588d75b2-b7a2-4f5d-b262-fcdb8306262e",
   "metadata": {},
   "source": [
    "## 딕셔너리 관련 함수"
   ]
  },
  {
   "cell_type": "code",
   "execution_count": null,
   "id": "46386c0b-9c7f-4dc3-be6c-4ba40f4e2a95",
   "metadata": {},
   "outputs": [],
   "source": [
    ".keys : 키만 뽑아줘~"
   ]
  },
  {
   "cell_type": "code",
   "execution_count": null,
   "id": "e0668498-9bdf-49b4-ac75-f40eb79dfdd1",
   "metadata": {},
   "outputs": [],
   "source": [
    "a = {'name': 'pey', 'phone': '010-9999-1234', 'birth': '1118'}\n",
    ">>> a.keys()"
   ]
  },
  {
   "cell_type": "markdown",
   "id": "3dcfa6a3-8253-448e-8b0b-b7ed34357d29",
   "metadata": {},
   "source": [
    "for k in a.keys(): 콜론은 코드블록을 시작한다는 뜻 아래 프린트 보면 탭이 있음. 이 프린트는 상위 코드에 종속되어있다는 뜻\n",
    "    print(k) \n",
    "for 문은 반복문 (반복하기 위해서 만들어진 제어문)\n",
    "for 문의 재료는 iternable 해야함 (반복가능한 개체 : 시퀀스 혹은 시퀀스로 이루어진 객체) 위에껀 리스트를 품고 있는 dict_keys 라는 객체"
   ]
  },
  {
   "cell_type": "code",
   "execution_count": null,
   "id": "a9479a91-669f-4c0b-8679-86c3019cb9a7",
   "metadata": {},
   "outputs": [],
   "source": [
    "list(a.keys()) 리스트로 키들을 뽑아줘~"
   ]
  },
  {
   "cell_type": "markdown",
   "id": "fc952e40-8792-497e-8e5d-b13d7a4d4602",
   "metadata": {},
   "source": [
    "## value list"
   ]
  },
  {
   "cell_type": "code",
   "execution_count": null,
   "id": "74e72bb5-fac8-4d03-84f5-565a4b23748b",
   "metadata": {},
   "outputs": [],
   "source": [
    "a.values()\n",
    "밸류 뽑기\n",
    "쌍으로 뽑는건 -> a.items() : 키와 밸류가 튜플로 튀어나옴"
   ]
  },
  {
   "cell_type": "markdown",
   "id": "51aedcab-d9aa-4cfb-a834-aa0d360a72b6",
   "metadata": {},
   "source": [
    "## 쌍 모두 지우기"
   ]
  },
  {
   "cell_type": "code",
   "execution_count": null,
   "id": "5f27f8b6-c1c5-487a-b35c-6030e07bb321",
   "metadata": {},
   "outputs": [],
   "source": [
    "a.clear()"
   ]
  },
  {
   "cell_type": "markdown",
   "id": "aad35489-94ee-4513-b739-2e3a17e19905",
   "metadata": {},
   "source": [
    " ## 키로 밸류 얻기"
   ]
  },
  {
   "cell_type": "markdown",
   "id": "ce5bebd7-67ac-41b0-a1e1-2df62a52f191",
   "metadata": {},
   "source": [
    "a = {'name': 'pey', 'phone': '010-9999-1234', 'birth': '1118'}\n",
    ">>> a.keys()\n",
    "\n",
    "인덱스 말고 메소드로 조회\n",
    "a.get('phone')\n",
    "\n",
    "find와 index의 차이처럼 오류를 나게할지말지\n",
    "인덱스로 없는거 조회하면 오류, get은 ㄴㄴ\n",
    "메서드는 내가 찾으려는 게 없으면 미리 정해둔 디폴트값을 실행시키게 할 수 있음\n",
    "없는거 치면 '꽝' 뜨게끔"
   ]
  },
  {
   "cell_type": "markdown",
   "id": "74386c69-2114-4959-9e49-3e3b974b442d",
   "metadata": {},
   "source": [
    "## 해당 키가 딕셔너리 안에 있음?"
   ]
  },
  {
   "cell_type": "markdown",
   "id": "77cce46c-77e7-42de-8481-7c0925d367ff",
   "metadata": {},
   "source": [
    "\" \" in a"
   ]
  },
  {
   "cell_type": "markdown",
   "id": "fa3e1885-1589-4b03-8bde-f63116d40ad4",
   "metadata": {},
   "source": [
    "# 집합 자료형\n"
   ]
  },
  {
   "cell_type": "code",
   "execution_count": 8,
   "id": "ea80ea95-26fb-4f1f-9c0c-911afb09c88d",
   "metadata": {},
   "outputs": [
    {
     "data": {
      "text/plain": [
       "({1, 2, 3}, set)"
      ]
     },
     "execution_count": 8,
     "metadata": {},
     "output_type": "execute_result"
    }
   ],
   "source": [
    "s1 = set([1,2,3])\n",
    "s1,type(s1)"
   ]
  },
  {
   "cell_type": "code",
   "execution_count": 9,
   "id": "3e443dfd-76e7-47ec-8a02-b5243a163e67",
   "metadata": {},
   "outputs": [
    {
     "data": {
      "text/plain": [
       "{'e', 'h', 'l', 'o'}"
      ]
     },
     "execution_count": 9,
     "metadata": {},
     "output_type": "execute_result"
    }
   ],
   "source": [
    "s2 = set('hello')\n",
    "s2"
   ]
  },
  {
   "cell_type": "markdown",
   "id": "dffb4835-2a3d-44b3-8631-c315f9dc1a16",
   "metadata": {},
   "source": [
    "hello가 산산조각나고 l이 하나 사라짐 ㄷㄷ\n",
    "이건 유니크한 값만 독립적으로 유지해줌 \n",
    "set은 중복허용을 안해서 중복제거해주는 기능을 함, 순서도 없음"
   ]
  },
  {
   "cell_type": "code",
   "execution_count": null,
   "id": "5793b7ba-787b-4859-9a18-f1336341a151",
   "metadata": {},
   "outputs": [],
   "source": [
    "순서가 없으니 순서를 부여하려면 abc = list(s1) 이렇게 설정해줘야함"
   ]
  },
  {
   "cell_type": "markdown",
   "id": "ae33ff6c-dcd7-4201-a0c7-714cc144ce58",
   "metadata": {},
   "source": [
    "## 교집합,합집합,차집합 구하기"
   ]
  },
  {
   "cell_type": "code",
   "execution_count": null,
   "id": "78b619e2-8890-47f7-a250-fb2789e5767a",
   "metadata": {},
   "outputs": [],
   "source": [
    "교집합은 inner join\n",
    "s1.intersection(s2) 이라는 함수, s1의 교집합 대상 : s2\n"
   ]
  },
  {
   "cell_type": "code",
   "execution_count": null,
   "id": "d697ab1d-a213-4c3a-bdc2-5f1105639343",
   "metadata": {},
   "outputs": [],
   "source": [
    "합집합은 s1.union(s2)이라는 함수\n",
    "또는 s1|s2"
   ]
  },
  {
   "cell_type": "code",
   "execution_count": null,
   "id": "652fb51c-4242-44ae-88b3-b3ef99dbe8c8",
   "metadata": {},
   "outputs": [],
   "source": [
    "차집합은 s1.difference(s2)라는 함수 \n",
    "또는 s1 - s2"
   ]
  },
  {
   "cell_type": "markdown",
   "id": "5742d852-2b81-4989-9a19-4b4a52ac0425",
   "metadata": {},
   "source": [
    "## 집합 자료형 관련 함수"
   ]
  },
  {
   "cell_type": "code",
   "execution_count": null,
   "id": "d2cda473-c46e-4340-a7af-4b3d4a4b5759",
   "metadata": {},
   "outputs": [],
   "source": [
    "1. 값 1개 추가하기 : add\n",
    "s1.add()\n",
    "순서 있는건 아님! (집합에 순서가 어디쓰)"
   ]
  },
  {
   "cell_type": "markdown",
   "id": "c7307fbd-0363-4501-b869-867b436bcd2c",
   "metadata": {},
   "source": [
    "2. 값 여러개 추가하기 : update\n",
    "s1.update([n,m,k])\n",
    "update도 set에서 파생된거라 중복혀용 x"
   ]
  },
  {
   "cell_type": "code",
   "execution_count": null,
   "id": "8fe6251a-17b8-43c8-b2da-9e6009e56378",
   "metadata": {},
   "outputs": [],
   "source": [
    "3. 특정값 제거하기 : remove\n",
    "s1.remove()"
   ]
  },
  {
   "cell_type": "code",
   "execution_count": null,
   "id": "811553c5-82ef-46a2-ae51-f3f64cfbbf29",
   "metadata": {},
   "outputs": [],
   "source": [
    "## boolean 자료형"
   ]
  },
  {
   "cell_type": "code",
   "execution_count": null,
   "id": "7ae3a1f1-f59c-40ec-903c-49dd22329b9d",
   "metadata": {},
   "outputs": [],
   "source": [
    "true도 아닌 TRUE아닌 True, False만 알아들음"
   ]
  },
  {
   "cell_type": "code",
   "execution_count": 13,
   "id": "2f0d7ad5-56fc-40e6-99eb-fd0087e73bc8",
   "metadata": {},
   "outputs": [
    {
     "data": {
      "text/plain": [
       "(bool, bool)"
      ]
     },
     "execution_count": 13,
     "metadata": {},
     "output_type": "execute_result"
    }
   ],
   "source": [
    "a = True \n",
    "b = False\n",
    "type(a),type(b)"
   ]
  },
  {
   "cell_type": "code",
   "execution_count": 14,
   "id": "1b2b23e4-9e7f-4883-b19c-b201914eea02",
   "metadata": {},
   "outputs": [
    {
     "data": {
      "text/plain": [
       "True"
      ]
     },
     "execution_count": 14,
     "metadata": {},
     "output_type": "execute_result"
    }
   ],
   "source": [
    "3<34"
   ]
  },
  {
   "cell_type": "markdown",
   "id": "6924c5aa-ba70-4e6f-8662-de195c0df61c",
   "metadata": {},
   "source": [
    "## 자료형의 참과 거짓\n",
    "while은 조건 반복문. 조건에 해당하면 계속 실행 a:이 조건문"
   ]
  },
  {
   "cell_type": "code",
   "execution_count": 15,
   "id": "c5239363-9e96-4728-9216-020128361249",
   "metadata": {},
   "outputs": [
    {
     "name": "stdout",
     "output_type": "stream",
     "text": [
      "4\n",
      "3\n",
      "2\n",
      "1\n"
     ]
    }
   ],
   "source": [
    "a = [1,2,3,4]\n",
    "while a:\n",
    "    print(a.pop())"
   ]
  },
  {
   "cell_type": "code",
   "execution_count": null,
   "id": "b4167cdd-c3b1-4d41-8ee6-d7594b85bb4c",
   "metadata": {},
   "outputs": [],
   "source": [
    "리스트트 값이 있으면 참 없으면 거짓\n",
    "숫자 하나씩 빠지면서 다 빠지면 종료"
   ]
  },
  {
   "cell_type": "markdown",
   "id": "b150fc35-8b04-4b7e-9430-a8e985b7be01",
   "metadata": {},
   "source": [
    "## if\n",
    "if []: -> 이게 해당하면 참 출력\n",
    "print('참')\n",
    "else : -> 위에 해당안하면 거짓 출력\n",
    "print('거짓')"
   ]
  },
  {
   "cell_type": "code",
   "execution_count": 16,
   "id": "fbe62df6-a08f-432d-b525-52eef8f8bd9c",
   "metadata": {},
   "outputs": [
    {
     "data": {
      "text/plain": [
       "True"
      ]
     },
     "execution_count": 16,
     "metadata": {},
     "output_type": "execute_result"
    }
   ],
   "source": [
    "bool('abc')"
   ]
  },
  {
   "cell_type": "code",
   "execution_count": 17,
   "id": "6e1293cd-0a58-4101-97ba-3570d3ba3f03",
   "metadata": {},
   "outputs": [
    {
     "data": {
      "text/plain": [
       "True"
      ]
     },
     "execution_count": 17,
     "metadata": {},
     "output_type": "execute_result"
    }
   ],
   "source": [
    "bool(' ')"
   ]
  },
  {
   "cell_type": "code",
   "execution_count": 18,
   "id": "b40592c8-829e-4012-ad47-57db5581f7f5",
   "metadata": {},
   "outputs": [
    {
     "data": {
      "text/plain": [
       "False"
      ]
     },
     "execution_count": 18,
     "metadata": {},
     "output_type": "execute_result"
    }
   ],
   "source": [
    "bool(0)"
   ]
  },
  {
   "cell_type": "code",
   "execution_count": 19,
   "id": "1bef9d97-32ed-46ea-99b4-ae53dec145f3",
   "metadata": {},
   "outputs": [
    {
     "data": {
      "text/plain": [
       "True"
      ]
     },
     "execution_count": 19,
     "metadata": {},
     "output_type": "execute_result"
    }
   ],
   "source": [
    "bool(12333)"
   ]
  },
  {
   "cell_type": "code",
   "execution_count": 20,
   "id": "db54b744-923b-4360-a566-9b225340c7fd",
   "metadata": {},
   "outputs": [
    {
     "data": {
      "text/plain": [
       "2"
      ]
     },
     "execution_count": 20,
     "metadata": {},
     "output_type": "execute_result"
    }
   ],
   "source": [
    "True + True"
   ]
  },
  {
   "cell_type": "code",
   "execution_count": 21,
   "id": "86426281-41d2-4666-8de8-fe7db3c9e132",
   "metadata": {},
   "outputs": [
    {
     "data": {
      "text/plain": [
       "1"
      ]
     },
     "execution_count": 21,
     "metadata": {},
     "output_type": "execute_result"
    }
   ],
   "source": [
    "True + False"
   ]
  },
  {
   "cell_type": "markdown",
   "id": "5df3e9d6-aa25-4bd5-ba93-4fcb35da9af5",
   "metadata": {},
   "source": [
    "# 제어문~!~!~!"
   ]
  },
  {
   "cell_type": "markdown",
   "id": "f61edfb2-d6f3-4602-af9e-92841a7bdf30",
   "metadata": {},
   "source": [
    "if \n",
    "while \n",
    "for\n",
    "3가지"
   ]
  },
  {
   "cell_type": "markdown",
   "id": "ad77d1fe-d1de-4ba2-981c-a3864f4fd8ce",
   "metadata": {},
   "source": [
    "## if문"
   ]
  },
  {
   "cell_type": "markdown",
   "id": "6f797973-9588-468d-a2ad-0a33d2dc569a",
   "metadata": {},
   "source": [
    "### 조건문 : 비교연산자 사용"
   ]
  },
  {
   "cell_type": "code",
   "execution_count": 24,
   "id": "26b5fe6a-6fbf-4145-920d-300dc9bf2af1",
   "metadata": {},
   "outputs": [
    {
     "ename": "SyntaxError",
     "evalue": "invalid syntax (1784133097.py, line 2)",
     "output_type": "error",
     "traceback": [
      "\u001b[1;36m  Cell \u001b[1;32mIn[24], line 2\u001b[1;36m\u001b[0m\n\u001b[1;33m    if money: > [3000]\u001b[0m\n\u001b[1;37m              ^\u001b[0m\n\u001b[1;31mSyntaxError\u001b[0m\u001b[1;31m:\u001b[0m invalid syntax\n"
     ]
    }
   ],
   "source": [
    "money = True\n",
    "if money: > [3000]\n",
    "    print(\"택시를 타고 가라\")\n",
    "else:\n",
    "    print(\"걸어 가라\")"
   ]
  },
  {
   "cell_type": "code",
   "execution_count": 25,
   "id": "66ca074b-3e29-4023-8ec8-5ace905b0eba",
   "metadata": {},
   "outputs": [
    {
     "name": "stdout",
     "output_type": "stream",
     "text": [
      "택시를 타고 가라\n"
     ]
    }
   ],
   "source": [
    "money = 4000\n",
    "if money >= 3000:\n",
    "    print(\"택시를 타고 가라\")\n",
    "else:\n",
    "    print(\"걸어 가라\")\n",
    "\n",
    "지금 갖고 있는 돈 설정 먼저하고"
   ]
  },
  {
   "cell_type": "markdown",
   "id": "00c2ee63-2b28-4227-95c2-0f831cc4d42a",
   "metadata": {},
   "source": [
    "### and,or,not"
   ]
  },
  {
   "cell_type": "code",
   "execution_count": 27,
   "id": "f0cab9af-6178-4067-a420-da59812ba444",
   "metadata": {},
   "outputs": [
    {
     "name": "stdout",
     "output_type": "stream",
     "text": [
      "택시를 타고 가라\n"
     ]
    }
   ],
   "source": [
    "money = 4000\n",
    "card = True\n",
    "if money >= 3000 or card:\n",
    "    print(\"택시를 타고 가라\")\n",
    "else:\n",
    "    print(\"걸어 가라\")"
   ]
  },
  {
   "cell_type": "markdown",
   "id": "8046af2d-1c62-4071-b607-1bb5ed732896",
   "metadata": {},
   "source": [
    "### in, not in"
   ]
  },
  {
   "cell_type": "code",
   "execution_count": 28,
   "id": "dffb27d2-f783-47d8-ab85-f5b6bb1e7072",
   "metadata": {},
   "outputs": [
    {
     "data": {
      "text/plain": [
       "True"
      ]
     },
     "execution_count": 28,
     "metadata": {},
     "output_type": "execute_result"
    }
   ],
   "source": [
    "1 in [1,2,3]"
   ]
  },
  {
   "cell_type": "code",
   "execution_count": 29,
   "id": "8ca949e1-64f1-4cc8-8a51-88c0468267cd",
   "metadata": {},
   "outputs": [
    {
     "name": "stdout",
     "output_type": "stream",
     "text": [
      "걸어 가라\n"
     ]
    }
   ],
   "source": [
    "주머니 = [\"돈\",\"키링\",\"핸드폰\"]\n",
    "\n",
    "if money in 주머니:\n",
    "    print(\"택시를 타고 가라\")\n",
    "else:\n",
    "    print(\"걸어 가라\")"
   ]
  },
  {
   "cell_type": "markdown",
   "id": "a7f6f3ee-bdd8-4a99-9640-745ac7663f99",
   "metadata": {},
   "source": [
    "### 조건문에서 아무 일도 하지 않게 설정 (통과)"
   ]
  },
  {
   "cell_type": "code",
   "execution_count": 30,
   "id": "f6dee2e4-2326-43da-a676-1577d9dae741",
   "metadata": {},
   "outputs": [
    {
     "name": "stdout",
     "output_type": "stream",
     "text": [
      "걸어 가라\n"
     ]
    }
   ],
   "source": [
    "주머니 = [\"돈\",\"키링\",\"핸드폰\"]\n",
    "\n",
    "if money in 주머니:\n",
    "    pass\n",
    "else:\n",
    "    print(\"걸어 가라\")"
   ]
  },
  {
   "cell_type": "code",
   "execution_count": 33,
   "id": "1f45f0f5-cd8c-4489-a9f2-c70648c67f07",
   "metadata": {},
   "outputs": [],
   "source": [
    "주머니 = [\"돈\",\"키링\",\"핸드폰\"]\n",
    "\n",
    "if \"돈\" in 주머니:\n",
    "    pass\n",
    "else:\n",
    "    print(\"걸어 가라\")"
   ]
  },
  {
   "cell_type": "markdown",
   "id": "e3dfbabc-14ff-4ddd-89d9-cc16603e58e8",
   "metadata": {},
   "source": [
    "### 다양한 조건을 판단하는 elif"
   ]
  },
  {
   "cell_type": "code",
   "execution_count": 35,
   "id": "368b822c-1e49-4d24-b093-1787fe598ef5",
   "metadata": {},
   "outputs": [
    {
     "name": "stdout",
     "output_type": "stream",
     "text": [
      "taxi\n"
     ]
    }
   ],
   "source": [
    "p = [\"m\",\"k\",\"c\"]\n",
    "if \"m\" in p:\n",
    "    print(\"taxi\")\n",
    "elif \"c\" in p: \n",
    "    print(\"taxi\")\n",
    "else:\n",
    "    print(\"walk\")"
   ]
  },
  {
   "cell_type": "code",
   "execution_count": 36,
   "id": "33025b0d-1a68-4896-b8c2-56f01d4e0d83",
   "metadata": {},
   "outputs": [
    {
     "name": "stdout",
     "output_type": "stream",
     "text": [
      "taxi\n"
     ]
    }
   ],
   "source": [
    "p = [\"k\"]\n",
    "card = True\n",
    "if \"m\" in p:\n",
    "    print(\"taxi\")\n",
    "elif \"c\" : \n",
    "    print(\"taxi\")\n",
    "else:\n",
    "    print(\"walk\")"
   ]
  },
  {
   "cell_type": "code",
   "execution_count": null,
   "id": "e5b764ee-1908-4123-988d-d41629fb79c7",
   "metadata": {},
   "outputs": [],
   "source": [
    "elif는 앞에서 조건이 해당되면 실행이 X"
   ]
  },
  {
   "cell_type": "markdown",
   "id": "3c8ff276-5048-4713-9ff3-d56bbc239d4f",
   "metadata": {},
   "source": [
    "### 조건부 표현식"
   ]
  },
  {
   "cell_type": "code",
   "execution_count": 38,
   "id": "4314e42e-6bfd-4597-89d9-658e33a5ceea",
   "metadata": {},
   "outputs": [
    {
     "name": "stdout",
     "output_type": "stream",
     "text": [
      "success\n"
     ]
    }
   ],
   "source": [
    "score = 100\n",
    "if score >= 60:\n",
    "    message = \"success\"\n",
    "else:\n",
    "    message = \"failure\"\n",
    "print(message)"
   ]
  },
  {
   "cell_type": "code",
   "execution_count": 39,
   "id": "35de64f4-1cd7-45fc-abb4-cd969cc65d99",
   "metadata": {},
   "outputs": [
    {
     "name": "stdout",
     "output_type": "stream",
     "text": [
      "success\n"
     ]
    }
   ],
   "source": [
    "message = \"success\" if score >= 60 else \"fail\"\n",
    "print(message)\n",
    "어차피 message 중복되는거 굳이 두번 안쓰고 축약하기 60 기준 왼쪽이 참, 오른쪽이 거짓"
   ]
  },
  {
   "cell_type": "code",
   "execution_count": null,
   "id": "700f570b-3b87-4f13-a72b-496b4d4a6357",
   "metadata": {},
   "outputs": [],
   "source": [
    "pocket = []\n",
    "if pocket: -> false임\n",
    "\n",
    "if 'card' in pocket -> false임\n",
    "\n",
    "2가지로 표현가능"
   ]
  },
  {
   "cell_type": "markdown",
   "id": "8c5e30ef-94ba-452b-a34c-d510927c2831",
   "metadata": {},
   "source": [
    "## while 조건반복문"
   ]
  },
  {
   "cell_type": "code",
   "execution_count": 40,
   "id": "a484479d-843c-4b27-8fca-c0e26d950317",
   "metadata": {},
   "outputs": [
    {
     "name": "stdout",
     "output_type": "stream",
     "text": [
      "나무를 1번 찍었습니다.\n",
      "나무를 2번 찍었습니다.\n",
      "나무를 3번 찍었습니다.\n",
      "나무를 4번 찍었습니다.\n",
      "나무를 5번 찍었습니다.\n",
      "나무를 6번 찍었습니다.\n",
      "나무를 7번 찍었습니다.\n",
      "나무를 8번 찍었습니다.\n",
      "나무를 9번 찍었습니다.\n",
      "나무를 10번 찍었습니다.\n",
      "나무 넘어갑니다.\n"
     ]
    }
   ],
   "source": [
    "treeHit = 0\n",
    "while treeHit < 10:\n",
    "    treeHit = treeHit +1\n",
    "    print(\"나무를 %d번 찍었습니다.\" % treeHit)\n",
    "    if treeHit == 10:\n",
    "        print(\"나무 넘어갑니다.\")"
   ]
  },
  {
   "cell_type": "markdown",
   "id": "a86febfd-f1d8-44e4-af9e-d15ff34d4d35",
   "metadata": {},
   "source": [
    "### while문 만들기"
   ]
  },
  {
   "cell_type": "code",
   "execution_count": null,
   "id": "a126a40f-4d8b-43a9-b25d-81f57be7d16c",
   "metadata": {},
   "outputs": [],
   "source": [
    "\"\"\" \"\"\" 는 단락 만드는거임"
   ]
  },
  {
   "cell_type": "code",
   "execution_count": 41,
   "id": "7cfdf597-4f65-4bdf-b77b-b3adf0ebec78",
   "metadata": {},
   "outputs": [
    {
     "name": "stdout",
     "output_type": "stream",
     "text": [
      "\n",
      "1. Add\n",
      "2. Del\n",
      "3. List\n",
      "4. Quit\n",
      "\n",
      " Enter number: \n"
     ]
    }
   ],
   "source": [
    "prompt = \"\"\"\n",
    "1. Add\n",
    "2. Del\n",
    "3. List\n",
    "4. Quit\n",
    "\n",
    " Enter number: \"\"\"\n",
    "print(prompt)"
   ]
  },
  {
   "cell_type": "code",
   "execution_count": 42,
   "id": "67c6041b-dfb3-4c10-8bd5-30344fb69a41",
   "metadata": {},
   "outputs": [
    {
     "ename": "NameError",
     "evalue": "name 'number' is not defined",
     "output_type": "error",
     "traceback": [
      "\u001b[1;31m---------------------------------------------------------------------------\u001b[0m",
      "\u001b[1;31mNameError\u001b[0m                                 Traceback (most recent call last)",
      "Cell \u001b[1;32mIn[42], line 1\u001b[0m\n\u001b[1;32m----> 1\u001b[0m \u001b[38;5;28;01mwhile\u001b[39;00m number \u001b[38;5;241m!=\u001b[39m \u001b[38;5;241m4\u001b[39m:\n\u001b[0;32m      2\u001b[0m     \u001b[38;5;28mprint\u001b[39m(prompt)\n\u001b[0;32m      3\u001b[0m     number \u001b[38;5;241m=\u001b[39m \u001b[38;5;28mint\u001b[39m(\u001b[38;5;28minput\u001b[39m())\n",
      "\u001b[1;31mNameError\u001b[0m: name 'number' is not defined"
     ]
    }
   ],
   "source": [
    "number = 0 (처음 실행값 지정)\n",
    "while number != 4:\n",
    "    print(prompt)\n",
    "    number = int(input())\n",
    "    "
   ]
  },
  {
   "cell_type": "code",
   "execution_count": 44,
   "id": "80a8ebe3-ae31-4f97-8dc0-0225b9b79f26",
   "metadata": {},
   "outputs": [
    {
     "name": "stdout",
     "output_type": "stream",
     "text": [
      "\n",
      "1. Add\n",
      "2. Del\n",
      "3. List\n",
      "4. Quit\n",
      "\n",
      " Enter number: \n"
     ]
    },
    {
     "name": "stdin",
     "output_type": "stream",
     "text": [
      " 1\n"
     ]
    },
    {
     "name": "stdout",
     "output_type": "stream",
     "text": [
      "\n",
      "1. Add\n",
      "2. Del\n",
      "3. List\n",
      "4. Quit\n",
      "\n",
      " Enter number: \n"
     ]
    },
    {
     "name": "stdin",
     "output_type": "stream",
     "text": [
      " 2\n"
     ]
    },
    {
     "name": "stdout",
     "output_type": "stream",
     "text": [
      "\n",
      "1. Add\n",
      "2. Del\n",
      "3. List\n",
      "4. Quit\n",
      "\n",
      " Enter number: \n"
     ]
    },
    {
     "name": "stdin",
     "output_type": "stream",
     "text": [
      " 3\n"
     ]
    },
    {
     "name": "stdout",
     "output_type": "stream",
     "text": [
      "\n",
      "1. Add\n",
      "2. Del\n",
      "3. List\n",
      "4. Quit\n",
      "\n",
      " Enter number: \n"
     ]
    },
    {
     "name": "stdin",
     "output_type": "stream",
     "text": [
      " 4\n"
     ]
    }
   ],
   "source": [
    "number = 0\n",
    "while number != 4:\n",
    "    print(prompt)\n",
    "    number = int(input())\n",
    "    "
   ]
  },
  {
   "cell_type": "markdown",
   "id": "3a688bef-2ccc-44ad-ae0a-a2e44ffc958c",
   "metadata": {},
   "source": [
    "### while문 강제탈출!"
   ]
  },
  {
   "cell_type": "code",
   "execution_count": null,
   "id": "a3519196-2032-40c7-95d7-9574dddf86e9",
   "metadata": {},
   "outputs": [],
   "source": [
    "money = 300 (초기 값들 지정을 항상 해줘야함)"
   ]
  },
  {
   "cell_type": "code",
   "execution_count": 47,
   "id": "458c95df-34ba-40de-9a43-4a65f4e1e7c0",
   "metadata": {},
   "outputs": [
    {
     "name": "stdout",
     "output_type": "stream",
     "text": [
      "커피 가져가라잉\n",
      "남은 커피의 양은 9개 입니다\n",
      "커피 가져가라잉\n",
      "남은 커피의 양은 8개 입니다\n",
      "커피 가져가라잉\n",
      "남은 커피의 양은 7개 입니다\n",
      "커피 가져가라잉\n",
      "남은 커피의 양은 6개 입니다\n",
      "커피 가져가라잉\n",
      "남은 커피의 양은 5개 입니다\n",
      "커피 가져가라잉\n",
      "남은 커피의 양은 4개 입니다\n",
      "커피 가져가라잉\n",
      "남은 커피의 양은 3개 입니다\n",
      "커피 가져가라잉\n",
      "남은 커피의 양은 2개 입니다\n",
      "커피 가져가라잉\n",
      "남은 커피의 양은 1개 입니다\n",
      "커피 가져가라잉\n",
      "남은 커피의 양은 0개 입니다\n",
      "오늘 커피 마감함다\n"
     ]
    }
   ],
   "source": [
    "money = 300\n",
    "coffee = 10\n",
    "while money : \n",
    "    print(\"커피 가져가라잉\")\n",
    "    coffee = coffee - 1\n",
    "    print(f'남은 커피의 양은 {coffee}개 입니다')\n",
    "    if coffee == 0:\n",
    "        print(\"오늘 커피 마감함다\")\n",
    "        break\n",
    "    "
   ]
  },
  {
   "cell_type": "code",
   "execution_count": null,
   "id": "dc414799-441f-493e-9097-0b16a9dfeb77",
   "metadata": {},
   "outputs": [],
   "source": [
    "### quiz\n",
    "money는 사용자가 입력. 커피 값은 300원. 일치해야만 구입 가능. 틀리면 잔돈 주기. 커피 재고가 떨어지면 종료"
   ]
  },
  {
   "cell_type": "code",
   "execution_count": 50,
   "id": "daa2b752-9d6e-4bb3-b1ac-35530c6e1fc7",
   "metadata": {},
   "outputs": [
    {
     "name": "stdout",
     "output_type": "stream",
     "text": [
      "커피 가져가세요\n"
     ]
    },
    {
     "name": "stdin",
     "output_type": "stream",
     "text": [
      " 400\n"
     ]
    },
    {
     "name": "stdout",
     "output_type": "stream",
     "text": [
      "100 가져가세요\n",
      "커피 가져가세요\n"
     ]
    },
    {
     "name": "stdin",
     "output_type": "stream",
     "text": [
      " 300\n"
     ]
    },
    {
     "name": "stdout",
     "output_type": "stream",
     "text": [
      "0 가져가세요\n",
      "커피 가져가세요\n"
     ]
    },
    {
     "name": "stdin",
     "output_type": "stream",
     "text": [
      " 300\n"
     ]
    },
    {
     "name": "stdout",
     "output_type": "stream",
     "text": [
      "0 가져가세요\n",
      "커피 가져가세요\n"
     ]
    },
    {
     "name": "stdin",
     "output_type": "stream",
     "text": [
      " 300\n"
     ]
    },
    {
     "name": "stdout",
     "output_type": "stream",
     "text": [
      "0 가져가세요\n",
      "커피 가져가세요\n"
     ]
    },
    {
     "name": "stdin",
     "output_type": "stream",
     "text": [
      " 300\n"
     ]
    },
    {
     "name": "stdout",
     "output_type": "stream",
     "text": [
      "0 가져가세요\n",
      "커피 마감\n"
     ]
    }
   ],
   "source": [
    "coffee = 5\n",
    "money = 300\n",
    "while money >= 300:\n",
    "    print(\"커피 가져가세요\")\n",
    "    coffee = coffee - 1\n",
    "    money = int(input())\n",
    "    extra_money = money - 300 \n",
    "    print(f'{extra_money}원 거스름돈 가져가세요')\n",
    "    if coffee == 0:\n",
    "        print(\"커피 마감\")\n",
    "        break"
   ]
  },
  {
   "cell_type": "code",
   "execution_count": 51,
   "id": "d8c1d4d2-0221-4185-8a2b-13868c60bb72",
   "metadata": {},
   "outputs": [
    {
     "name": "stdout",
     "output_type": "stream",
     "text": [
      "커피 가져가세요\n"
     ]
    },
    {
     "name": "stdin",
     "output_type": "stream",
     "text": [
      " 1000\n"
     ]
    },
    {
     "name": "stdout",
     "output_type": "stream",
     "text": [
      "700원 거스름돈 가져가세요\n",
      "커피 가져가세요\n"
     ]
    },
    {
     "name": "stdin",
     "output_type": "stream",
     "text": [
      " 400\n"
     ]
    },
    {
     "name": "stdout",
     "output_type": "stream",
     "text": [
      "100원 거스름돈 가져가세요\n",
      "커피 가져가세요\n"
     ]
    },
    {
     "name": "stdin",
     "output_type": "stream",
     "text": [
      " 200\n"
     ]
    },
    {
     "name": "stdout",
     "output_type": "stream",
     "text": [
      "-100원 거스름돈 가져가세요\n"
     ]
    }
   ],
   "source": [
    "coffee = 5\n",
    "money = 300\n",
    "while money >= 300:\n",
    "    print(\"커피 사실 분?\")\n",
    "    coffee = coffee - 1\n",
    "    money = int(input()) \n",
    "    extra_money = money - 300 \n",
    "    print(f'{extra_money}원 거스름돈 가져가세요')\n",
    "    if coffee == 0:\n",
    "        print(\"커피 마감\")\n",
    "        break"
   ]
  },
  {
   "cell_type": "code",
   "execution_count": 53,
   "id": "ed04c91a-945e-4475-8564-656596b31ef6",
   "metadata": {},
   "outputs": [
    {
     "ename": "IndentationError",
     "evalue": "unexpected indent (2264679289.py, line 7)",
     "output_type": "error",
     "traceback": [
      "\u001b[1;36m  Cell \u001b[1;32mIn[53], line 7\u001b[1;36m\u001b[0m\n\u001b[1;33m    if money < 300:\u001b[0m\n\u001b[1;37m    ^\u001b[0m\n\u001b[1;31mIndentationError\u001b[0m\u001b[1;31m:\u001b[0m unexpected indent\n"
     ]
    }
   ],
   "source": [
    "coffee = 5\n",
    "money = 300\n",
    "while money >= 300:\n",
    "    print(\"커피 사실 분?\")\n",
    "    coffee = coffee - 1\n",
    "    money = int(input())\n",
    "        if money < 300:\n",
    "            print(\"돈이 부족해요\")\n",
    "        else:\n",
    "             extra_money = money - 300 \n",
    "             print(f'{extra_money}원 거스름돈 가져가세요')\n",
    "    if coffee == 0:\n",
    "        print(\"커피 마감\")\n",
    "        break"
   ]
  },
  {
   "cell_type": "code",
   "execution_count": 54,
   "id": "47956b03-4a14-4a05-81a3-3db5a173b0fb",
   "metadata": {},
   "outputs": [
    {
     "ename": "IndentationError",
     "evalue": "unexpected indent (2264679289.py, line 7)",
     "output_type": "error",
     "traceback": [
      "\u001b[1;36m  Cell \u001b[1;32mIn[54], line 7\u001b[1;36m\u001b[0m\n\u001b[1;33m    if money < 300:\u001b[0m\n\u001b[1;37m    ^\u001b[0m\n\u001b[1;31mIndentationError\u001b[0m\u001b[1;31m:\u001b[0m unexpected indent\n"
     ]
    }
   ],
   "source": [
    "coffee = 5\n",
    "money = 300\n",
    "while money >= 300:\n",
    "    print(\"커피 사실 분?\")\n",
    "    coffee = coffee - 1\n",
    "    money = int(input())\n",
    "        if money < 300:\n",
    "            print(\"돈이 부족해요\")\n",
    "        else:\n",
    "             extra_money = money - 300 \n",
    "             print(f'{extra_money}원 거스름돈 가져가세요')\n",
    "    if coffee == 0:\n",
    "        print(\"커피 마감\")\n",
    "        break"
   ]
  },
  {
   "cell_type": "code",
   "execution_count": 56,
   "id": "f71b4c8b-342a-4be1-bfec-e99174c2b31f",
   "metadata": {},
   "outputs": [
    {
     "ename": "IndentationError",
     "evalue": "unexpected indent (2264679289.py, line 7)",
     "output_type": "error",
     "traceback": [
      "\u001b[1;36m  Cell \u001b[1;32mIn[56], line 7\u001b[1;36m\u001b[0m\n\u001b[1;33m    if money < 300:\u001b[0m\n\u001b[1;37m    ^\u001b[0m\n\u001b[1;31mIndentationError\u001b[0m\u001b[1;31m:\u001b[0m unexpected indent\n"
     ]
    }
   ],
   "source": [
    "coffee = 5\n",
    "money = 300\n",
    "while money >= 300:\n",
    "    print(\"커피 사실 분?\")\n",
    "    coffee = coffee - 1\n",
    "    money = int(input())\n",
    "        if money < 300:\n",
    "            print(\"돈이 부족해요\")\n",
    "        else:\n",
    "             extra_money = money - 300 \n",
    "             print(f'{extra_money}원 거스름돈 가져가세요')\n",
    "    if coffee == 0:\n",
    "        print(\"커피 마감\")\n",
    "        break"
   ]
  },
  {
   "cell_type": "code",
   "execution_count": 57,
   "id": "1297768f-fda5-4145-9d50-fd81150bf05d",
   "metadata": {},
   "outputs": [
    {
     "name": "stdout",
     "output_type": "stream",
     "text": [
      "커피 사실 분?\n"
     ]
    },
    {
     "name": "stdin",
     "output_type": "stream",
     "text": [
      " 500\n"
     ]
    },
    {
     "name": "stdout",
     "output_type": "stream",
     "text": [
      "200원 거스름돈 가져가세요\n",
      "커피 사실 분?\n"
     ]
    },
    {
     "name": "stdin",
     "output_type": "stream",
     "text": [
      " 400\n"
     ]
    },
    {
     "name": "stdout",
     "output_type": "stream",
     "text": [
      "100원 거스름돈 가져가세요\n",
      "커피 사실 분?\n"
     ]
    },
    {
     "name": "stdin",
     "output_type": "stream",
     "text": [
      " 3--\n"
     ]
    },
    {
     "ename": "ValueError",
     "evalue": "invalid literal for int() with base 10: '3--'",
     "output_type": "error",
     "traceback": [
      "\u001b[1;31m---------------------------------------------------------------------------\u001b[0m",
      "\u001b[1;31mValueError\u001b[0m                                Traceback (most recent call last)",
      "Cell \u001b[1;32mIn[57], line 6\u001b[0m\n\u001b[0;32m      4\u001b[0m \u001b[38;5;28mprint\u001b[39m(\u001b[38;5;124m\"\u001b[39m\u001b[38;5;124m커피 사실 분?\u001b[39m\u001b[38;5;124m\"\u001b[39m)\n\u001b[0;32m      5\u001b[0m coffee \u001b[38;5;241m=\u001b[39m coffee \u001b[38;5;241m-\u001b[39m \u001b[38;5;241m1\u001b[39m\n\u001b[1;32m----> 6\u001b[0m money \u001b[38;5;241m=\u001b[39m \u001b[38;5;28mint\u001b[39m(\u001b[38;5;28minput\u001b[39m()) \n\u001b[0;32m      7\u001b[0m extra_money \u001b[38;5;241m=\u001b[39m money \u001b[38;5;241m-\u001b[39m \u001b[38;5;241m300\u001b[39m \n\u001b[0;32m      8\u001b[0m \u001b[38;5;28mprint\u001b[39m(\u001b[38;5;124mf\u001b[39m\u001b[38;5;124m'\u001b[39m\u001b[38;5;132;01m{\u001b[39;00mextra_money\u001b[38;5;132;01m}\u001b[39;00m\u001b[38;5;124m원 거스름돈 가져가세요\u001b[39m\u001b[38;5;124m'\u001b[39m)\n",
      "\u001b[1;31mValueError\u001b[0m: invalid literal for int() with base 10: '3--'"
     ]
    }
   ],
   "source": [
    "coffee = 5\n",
    "money = 300\n",
    "while money >= 300:\n",
    "    print(\"커피 사실 분? 돈 내세요\")\n",
    "    coffee = coffee - 1\n",
    "    money = int(input()) \n",
    "    extra_money = money - 300 \n",
    "    print(f'{extra_money}원 거스름돈 가져가세요')\n",
    "    if coffee == 0:\n",
    "        print(\"커피 마감\")\n",
    "        break"
   ]
  },
  {
   "cell_type": "code",
   "execution_count": 58,
   "id": "dcc30ef9-af51-4f6b-a079-d5b52ecef90c",
   "metadata": {},
   "outputs": [
    {
     "name": "stdin",
     "output_type": "stream",
     "text": [
      "돈을 입력하세요:  2\n"
     ]
    },
    {
     "name": "stdout",
     "output_type": "stream",
     "text": [
      "돈이 부족합니다.298원 더 넣으세요\n"
     ]
    },
    {
     "name": "stdin",
     "output_type": "stream",
     "text": [
      "돈을 입력하세요:  1000\n"
     ]
    },
    {
     "name": "stdout",
     "output_type": "stream",
     "text": [
      "커피를 구매했습니다. 잔돈은 700원 입니다.\n",
      "남은 커피 재고: 1개\n"
     ]
    },
    {
     "name": "stdin",
     "output_type": "stream",
     "text": [
      "돈을 입력하세요:  300\n"
     ]
    },
    {
     "name": "stdout",
     "output_type": "stream",
     "text": [
      "커피를 구매했습니다. 잔돈은 0원 입니다.\n",
      "남은 커피 재고: 0개\n",
      "+++++ 오늘 커피는 끝 +++++\n"
     ]
    }
   ],
   "source": [
    "coffee = 300\n",
    "stock = 2 #커피 재고\n",
    "\n",
    "while coffee > 0:\n",
    "    money = int(input(\"돈을 입력하세요: \"))\n",
    "\n",
    "    if money >= coffee:\n",
    "        change = money - coffee\n",
    "        stock -= 1\n",
    "        print(f\"커피를 구매했습니다. 잔돈은 {change}원 입니다.\")\n",
    "        print(f\"남은 커피 재고: {stock}개\")\n",
    "    else:\n",
    "        print(f\"돈이 부족합니다.{coffee-money}원 더 넣으세요\")\n",
    "\n",
    "    if stock == 0:\n",
    "        print(\"+++++ 오늘 커피는 끝 +++++\")\n",
    "        break"
   ]
  },
  {
   "cell_type": "markdown",
   "id": "80360b15-7987-4720-bce0-c146a6f884ce",
   "metadata": {},
   "source": [
    "인풋,아웃풋을 먼저 정의해야함\n",
    "데이터 : 커피가격 300원 , 커피 재고(상수로 입력) , 사용자 입력금액 (input)\n",
    "조건 분석 : \n",
    "1. 커피값 == 300 -> 커피 제공 + 커피재고 차감 + 재고 안내\n",
    "커피 제공: print\n",
    "커피재고 차감:coffee= coffee-userinput\n",
    "재고 안내:coffee print\n",
    "\n",
    "2.커피값>300 -> 커피 제공 + 커피재고 차감 + 재고 안내 + 거스름돈 제공\n",
    "거스름돈:userinput - 300\n",
    "\n",
    "3.커피값<300 ->커피 미제공 + 넣은 돈 돌려줌\n",
    "커피 미제공:print\n",
    "\n",
    "4.커피재고 ==0 -> 재고소진 안내 + 마감 안내\n",
    "재고소진 : print\n",
    "마감 : print\n",
    "break"
   ]
  },
  {
   "cell_type": "code",
   "execution_count": null,
   "id": "8913b86f-ac0c-4bff-bfd7-6b83ee6be789",
   "metadata": {},
   "outputs": [],
   "source": [
    "커피재고는 사용자의 인풋에 달려있음\n",
    "예정이 안되있으니까 계속 실행해줘야함\n",
    "input은 문자열로 나와서 int로 형변환을 해줘야함\n",
    "\n",
    "돈 먼저 넣게 하고 조건 구현\n",
    "조건이 4개니까 elif 사용\n",
    "\n",
    "money의 조건과 coffee의 조건은 다르니 coffee에서 다시 if 사용"
   ]
  },
  {
   "cell_type": "code",
   "execution_count": null,
   "id": "dba43106-9645-4224-859e-a0254c91657e",
   "metadata": {},
   "outputs": [],
   "source": []
  }
 ],
 "metadata": {
  "kernelspec": {
   "display_name": "Python 3 (ipykernel)",
   "language": "python",
   "name": "python3"
  },
  "language_info": {
   "codemirror_mode": {
    "name": "ipython",
    "version": 3
   },
   "file_extension": ".py",
   "mimetype": "text/x-python",
   "name": "python",
   "nbconvert_exporter": "python",
   "pygments_lexer": "ipython3",
   "version": "3.11.7"
  }
 },
 "nbformat": 4,
 "nbformat_minor": 5
}
