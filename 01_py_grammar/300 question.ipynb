{
 "cells": [
  {
   "cell_type": "code",
   "execution_count": 1,
   "id": "0211fdd5-225f-4758-a6e5-63ca45fc0d16",
   "metadata": {},
   "outputs": [],
   "source": [
    "#화면에 Hello World 문자열을 출력하세요."
   ]
  },
  {
   "cell_type": "code",
   "execution_count": 3,
   "id": "c80b0a85-531b-433b-b0f0-07627869daad",
   "metadata": {},
   "outputs": [
    {
     "name": "stdout",
     "output_type": "stream",
     "text": [
      "Hello world\n"
     ]
    }
   ],
   "source": [
    "print(\"Hello world\")"
   ]
  },
  {
   "cell_type": "code",
   "execution_count": 4,
   "id": "f072438f-c96f-48f2-b0d7-d25a4ccb5f47",
   "metadata": {},
   "outputs": [],
   "source": [
    "#화면에 Mary's cosmetics을 출력하세요. (중간에 '가 있음에 주의하세요)"
   ]
  },
  {
   "cell_type": "code",
   "execution_count": 5,
   "id": "0a8bd528-09ff-4c98-89a8-b2af8d85d4f2",
   "metadata": {},
   "outputs": [
    {
     "name": "stdout",
     "output_type": "stream",
     "text": [
      "Mary's cosmetics\n"
     ]
    }
   ],
   "source": [
    "print(\"Mary's cosmetics\")"
   ]
  },
  {
   "cell_type": "markdown",
   "id": "9bf7ff54-e62e-4701-bb22-97834116ee47",
   "metadata": {},
   "source": [
    "#화면에 아래 문장을 출력하세요. (중간에 \"가 있음에 주의하세요.)\n",
    "\n",
    "신씨가 소리질렀다. \"도둑이야\"."
   ]
  },
  {
   "cell_type": "code",
   "execution_count": 7,
   "id": "db1616a5-f3c2-4d3f-b828-7605a77855cf",
   "metadata": {},
   "outputs": [
    {
     "name": "stdout",
     "output_type": "stream",
     "text": [
      "신씨가 소리질렀다. \"도둑이야\".\n"
     ]
    }
   ],
   "source": [
    "print('신씨가 소리질렀다. \"도둑이야\".')"
   ]
  },
  {
   "cell_type": "markdown",
   "id": "02065fb7-031d-4689-a716-556b7718bed1",
   "metadata": {},
   "source": [
    "\n",
    "화면에 C:\\Windows를 출력하세요."
   ]
  },
  {
   "cell_type": "code",
   "execution_count": 9,
   "id": "f63716cf-7f26-4d18-8acf-f100a7dfcd1f",
   "metadata": {},
   "outputs": [
    {
     "name": "stdout",
     "output_type": "stream",
     "text": [
      "C:\\Windows\n"
     ]
    }
   ],
   "source": [
    "print(\"C:\\Windows\")"
   ]
  },
  {
   "cell_type": "code",
   "execution_count": 10,
   "id": "895f677f-5f22-4c7d-ae4d-22f3e96d795a",
   "metadata": {},
   "outputs": [],
   "source": [
    "#다음 코드를 실행해보고 \\t와 \\n의 역할을 설명해보세요.\n",
    "\n",
    "#print(\"안녕하세요.\\n만나서\\t\\t반갑습니다.\")"
   ]
  },
  {
   "cell_type": "code",
   "execution_count": 11,
   "id": "787373d7-19e4-4e96-b9b6-c5ec36f3b968",
   "metadata": {},
   "outputs": [
    {
     "name": "stdout",
     "output_type": "stream",
     "text": [
      "안녕하세요.\n",
      "만나서\t\t반갑습니다.\n"
     ]
    }
   ],
   "source": [
    "print(\"안녕하세요.\\n만나서\\t\\t반갑습니다.\")"
   ]
  },
  {
   "cell_type": "code",
   "execution_count": 12,
   "id": "cc2ae642-4667-4764-985e-e6a6b05e3c25",
   "metadata": {},
   "outputs": [
    {
     "ename": "SyntaxError",
     "evalue": "invalid syntax (3837643720.py, line 1)",
     "output_type": "error",
     "traceback": [
      "\u001b[1;36m  Cell \u001b[1;32mIn[12], line 1\u001b[1;36m\u001b[0m\n\u001b[1;33m    print(naver;kakao;daum)\u001b[0m\n\u001b[1;37m               ^\u001b[0m\n\u001b[1;31mSyntaxError\u001b[0m\u001b[1;31m:\u001b[0m invalid syntax\n"
     ]
    }
   ],
   "source": [
    "print(naver;kakao;daum)"
   ]
  },
  {
   "cell_type": "code",
   "execution_count": 13,
   "id": "a8e71cbb-c996-496b-8a2e-ef7f511d668b",
   "metadata": {},
   "outputs": [
    {
     "name": "stdout",
     "output_type": "stream",
     "text": [
      "a;b;c\n"
     ]
    }
   ],
   "source": [
    "print(\"a\",\"b\",\"c\",sep=\";\")"
   ]
  },
  {
   "cell_type": "code",
   "execution_count": 14,
   "id": "2a7c6b38-fecd-4d2f-9fef-b818f084f76e",
   "metadata": {},
   "outputs": [
    {
     "name": "stdout",
     "output_type": "stream",
     "text": [
      "first\n",
      "second\n"
     ]
    }
   ],
   "source": [
    "print(\"first\");print(\"second\")"
   ]
  },
  {
   "cell_type": "code",
   "execution_count": 15,
   "id": "dfb626fd-bee2-499f-8d10-4e728bc7599f",
   "metadata": {},
   "outputs": [
    {
     "name": "stdout",
     "output_type": "stream",
     "text": [
      "first\n",
      "second\n"
     ]
    },
    {
     "ename": "TypeError",
     "evalue": "bad operand type for unary +: 'NoneType'",
     "output_type": "error",
     "traceback": [
      "\u001b[1;31m---------------------------------------------------------------------------\u001b[0m",
      "\u001b[1;31mTypeError\u001b[0m                                 Traceback (most recent call last)",
      "Cell \u001b[1;32mIn[15], line 1\u001b[0m\n\u001b[1;32m----> 1\u001b[0m \u001b[38;5;28mprint\u001b[39m(\u001b[38;5;124m\"\u001b[39m\u001b[38;5;124mfirst\u001b[39m\u001b[38;5;124m\"\u001b[39m);\u001b[38;5;241m+\u001b[39m \u001b[38;5;28mprint\u001b[39m(\u001b[38;5;124m\"\u001b[39m\u001b[38;5;124msecond\u001b[39m\u001b[38;5;124m\"\u001b[39m)\n",
      "\u001b[1;31mTypeError\u001b[0m: bad operand type for unary +: 'NoneType'"
     ]
    }
   ],
   "source": [
    "print(\"first\");+ print(\"second\")"
   ]
  },
  {
   "cell_type": "code",
   "execution_count": 16,
   "id": "203aa954-0ede-4ee8-8e61-6bcfa21c9945",
   "metadata": {},
   "outputs": [
    {
     "data": {
      "text/plain": [
       "'firstsecond'"
      ]
     },
     "execution_count": 16,
     "metadata": {},
     "output_type": "execute_result"
    }
   ],
   "source": [
    "a,b = \"first\",\"second\" ; a+b"
   ]
  },
  {
   "cell_type": "code",
   "execution_count": 17,
   "id": "3bce9d30-3e5b-4eb9-b028-faf17413afce",
   "metadata": {},
   "outputs": [
    {
     "data": {
      "text/plain": [
       "500000"
      ]
     },
     "execution_count": 17,
     "metadata": {},
     "output_type": "execute_result"
    }
   ],
   "source": [
    "삼성전자 = 50000 ; 삼성전자 * 10"
   ]
  },
  {
   "cell_type": "code",
   "execution_count": 27,
   "id": "18dceb68-cab5-43bd-b187-e52774da2ec6",
   "metadata": {},
   "outputs": [
    {
     "ename": "SyntaxError",
     "evalue": "invalid syntax (196647920.py, line 1)",
     "output_type": "error",
     "traceback": [
      "\u001b[1;36m  Cell \u001b[1;32mIn[27], line 1\u001b[1;36m\u001b[0m\n\u001b[1;33m    시가총액,현재가,PER = \"298조\",\"50,000원\",15.79 /n print(\"시가총액\",\"현재가\",PER)\u001b[0m\n\u001b[1;37m                                             ^\u001b[0m\n\u001b[1;31mSyntaxError\u001b[0m\u001b[1;31m:\u001b[0m invalid syntax\n"
     ]
    }
   ],
   "source": [
    "시가총액,현재가,PER = \"298조\",\"50,000원\",15.79 /n print(\"시가총액\",\"현재가\",PER)"
   ]
  },
  {
   "cell_type": "code",
   "execution_count": 30,
   "id": "cf47d4d5-47a8-43f0-ba4c-010100af41bd",
   "metadata": {},
   "outputs": [
    {
     "ename": "SyntaxError",
     "evalue": "invalid syntax. Maybe you meant '==' or ':=' instead of '='? (2621693031.py, line 1)",
     "output_type": "error",
     "traceback": [
      "\u001b[1;36m  Cell \u001b[1;32mIn[30], line 1\u001b[1;36m\u001b[0m\n\u001b[1;33m    시가총액=2980000000000 , 현재가=50000, per=15.79 /n print((시가총액,type(시가총액)),(현재가,type(현재가)),(per,type(per)))\u001b[0m\n\u001b[1;37m    ^\u001b[0m\n\u001b[1;31mSyntaxError\u001b[0m\u001b[1;31m:\u001b[0m invalid syntax. Maybe you meant '==' or ':=' instead of '='?\n"
     ]
    }
   ],
   "source": [
    "시가총액=2980000000000 , 현재가=50000, per=15.79 /n print((시가총액,type(시가총액)),(현재가,type(현재가)),(per,type(per)))"
   ]
  },
  {
   "cell_type": "code",
   "execution_count": 32,
   "id": "20058426-3758-46e8-a86d-b182b0573ff4",
   "metadata": {},
   "outputs": [
    {
     "ename": "SyntaxError",
     "evalue": "invalid syntax. Maybe you meant '==' or ':=' instead of '='? (1529642529.py, line 1)",
     "output_type": "error",
     "traceback": [
      "\u001b[1;36m  Cell \u001b[1;32mIn[32], line 1\u001b[1;36m\u001b[0m\n\u001b[1;33m    시가총액=2980000000000 , 현재가=50000, per=15.79 /n print(시가총액,type(시가총액)), print(현재가,type(현재가)), print(per,type(per))\u001b[0m\n\u001b[1;37m    ^\u001b[0m\n\u001b[1;31mSyntaxError\u001b[0m\u001b[1;31m:\u001b[0m invalid syntax. Maybe you meant '==' or ':=' instead of '='?\n"
     ]
    }
   ],
   "source": [
    "시가총액=2980000000000 , 현재가=50000, per=15.79 /n print(시가총액,type(시가총액)), print(현재가,type(현재가)), print(per,type(per))"
   ]
  },
  {
   "cell_type": "code",
   "execution_count": 33,
   "id": "dc111598-714b-4f18-a859-7f519fdd6c1f",
   "metadata": {},
   "outputs": [
    {
     "ename": "SyntaxError",
     "evalue": "invalid syntax (218247250.py, line 1)",
     "output_type": "error",
     "traceback": [
      "\u001b[1;36m  Cell \u001b[1;32mIn[33], line 1\u001b[1;36m\u001b[0m\n\u001b[1;33m    시가총액=2980000000000 현재가=50000, per=15.79 /n print(시가총액,type(시가총액)), print(현재가,type(현재가)), print(per,type(per))\u001b[0m\n\u001b[1;37m                       ^\u001b[0m\n\u001b[1;31mSyntaxError\u001b[0m\u001b[1;31m:\u001b[0m invalid syntax\n"
     ]
    }
   ],
   "source": [
    "시가총액=2980000000000 현재가=50000, per=15.79 /n print(시가총액,type(시가총액)), print(현재가,type(현재가)), print(per,type(per))"
   ]
  },
  {
   "cell_type": "code",
   "execution_count": 49,
   "id": "71f5ed6e-8757-4e3a-bc44-68c620ff0475",
   "metadata": {},
   "outputs": [
    {
     "name": "stdout",
     "output_type": "stream",
     "text": [
      "시가총액: 298조\n",
      "현재가: 50,000원\n",
      "PER: 15.79\n"
     ]
    }
   ],
   "source": [
    "시가총액 = \"298조\"\n",
    "현재가 = \"50,000원\"\n",
    "PER = 15.79\n",
    "print(\"시가총액:\",시가총액)\n",
    "print(\"현재가:\",현재가)\n",
    "print(\"PER:\",PER)"
   ]
  },
  {
   "cell_type": "code",
   "execution_count": 37,
   "id": "0f8eba53-40c5-43b2-bd48-ee3af4f59b88",
   "metadata": {},
   "outputs": [
    {
     "ename": "SyntaxError",
     "evalue": "invalid syntax (3778337337.py, line 1)",
     "output_type": "error",
     "traceback": [
      "\u001b[1;36m  Cell \u001b[1;32mIn[37], line 1\u001b[1;36m\u001b[0m\n\u001b[1;33m    s = \"hello\" t = \"python\" ; s + \"!\" /t +t\u001b[0m\n\u001b[1;37m                ^\u001b[0m\n\u001b[1;31mSyntaxError\u001b[0m\u001b[1;31m:\u001b[0m invalid syntax\n"
     ]
    }
   ],
   "source": [
    "s = \"hello\" t = \"python\" , s + \"!\" /t +t"
   ]
  },
  {
   "cell_type": "code",
   "execution_count": 40,
   "id": "1285d54e-0e36-4ea0-a43a-e40a1cba7162",
   "metadata": {},
   "outputs": [
    {
     "ename": "SyntaxError",
     "evalue": "invalid syntax (1458934774.py, line 1)",
     "output_type": "error",
     "traceback": [
      "\u001b[1;36m  Cell \u001b[1;32mIn[40], line 1\u001b[1;36m\u001b[0m\n\u001b[1;33m    s = \"hello\" t = \"python\"\u001b[0m\n\u001b[1;37m                ^\u001b[0m\n\u001b[1;31mSyntaxError\u001b[0m\u001b[1;31m:\u001b[0m invalid syntax\n"
     ]
    }
   ],
   "source": [
    "s = \"hello\" t = \"python\"  \n",
    "s + t"
   ]
  },
  {
   "cell_type": "code",
   "execution_count": 41,
   "id": "63e9cf31-146b-4c8d-897d-a6c968ad3cad",
   "metadata": {},
   "outputs": [
    {
     "ename": "SyntaxError",
     "evalue": "invalid syntax (1655865129.py, line 1)",
     "output_type": "error",
     "traceback": [
      "\u001b[1;36m  Cell \u001b[1;32mIn[41], line 1\u001b[1;36m\u001b[0m\n\u001b[1;33m    s = \"hello\" t = \"python\"\u001b[0m\n\u001b[1;37m                ^\u001b[0m\n\u001b[1;31mSyntaxError\u001b[0m\u001b[1;31m:\u001b[0m invalid syntax\n"
     ]
    }
   ],
   "source": [
    "s = \"hello\" t = \"python\"  \n",
    "s, t"
   ]
  },
  {
   "cell_type": "code",
   "execution_count": 42,
   "id": "e6572e88-19cd-41e5-b2ab-a723e9c5e3e9",
   "metadata": {},
   "outputs": [
    {
     "ename": "SyntaxError",
     "evalue": "invalid syntax (1584650457.py, line 1)",
     "output_type": "error",
     "traceback": [
      "\u001b[1;36m  Cell \u001b[1;32mIn[42], line 1\u001b[1;36m\u001b[0m\n\u001b[1;33m    s = \"hello\" t = \"python\"\u001b[0m\n\u001b[1;37m                ^\u001b[0m\n\u001b[1;31mSyntaxError\u001b[0m\u001b[1;31m:\u001b[0m invalid syntax\n"
     ]
    }
   ],
   "source": [
    "s = \"hello\" t = \"python\"  \n",
    "s + t"
   ]
  },
  {
   "cell_type": "code",
   "execution_count": 45,
   "id": "facf4f2f-86ac-4659-8ed1-70669b104a5a",
   "metadata": {},
   "outputs": [
    {
     "data": {
      "text/plain": [
       "'hello! python'"
      ]
     },
     "execution_count": 45,
     "metadata": {},
     "output_type": "execute_result"
    }
   ],
   "source": [
    "s = \"hello\" \n",
    "t = \"python\"  \n",
    "s + \"! \" + t"
   ]
  },
  {
   "cell_type": "code",
   "execution_count": 46,
   "id": "fc3af29b-13c3-4a7b-a7a6-83e9746f5b79",
   "metadata": {},
   "outputs": [
    {
     "name": "stdout",
     "output_type": "stream",
     "text": [
      "132 <class 'str'>\n"
     ]
    }
   ],
   "source": [
    "a = \"132\"\n",
    "print(a,type(a))"
   ]
  },
  {
   "cell_type": "code",
   "execution_count": null,
   "id": "ee9c3ea3-ecc6-4133-89d6-405995e68b7e",
   "metadata": {},
   "outputs": [],
   "source": [
    "num_str = \"720\""
   ]
  },
  {
   "cell_type": "code",
   "execution_count": 51,
   "id": "00d3baab-2671-47a8-b8ec-b7caf2e1005b",
   "metadata": {},
   "outputs": [
    {
     "name": "stdout",
     "output_type": "stream",
     "text": [
      "720 <class 'int'>\n"
     ]
    }
   ],
   "source": [
    "num_str = \"720\"  #형변환\n",
    "num_int = int(num_str)\n",
    "print(num_int, type(num_int))"
   ]
  },
  {
   "cell_type": "code",
   "execution_count": 52,
   "id": "58ea2f3f-9358-4ee0-bdaa-379a0474983c",
   "metadata": {},
   "outputs": [
    {
     "name": "stdout",
     "output_type": "stream",
     "text": [
      "num <class 'str'>\n"
     ]
    }
   ],
   "source": [
    "num = 100\n",
    "num_str=\"num\"\n",
    "print(num_str,type(num_str))"
   ]
  },
  {
   "cell_type": "code",
   "execution_count": 53,
   "id": "783ecd78-2dd9-4dd8-8e3b-0ada16605a62",
   "metadata": {},
   "outputs": [
    {
     "name": "stdout",
     "output_type": "stream",
     "text": [
      "100 <class 'str'>\n"
     ]
    }
   ],
   "source": [
    "num = 100\n",
    "num_str=str(num)\n",
    "print(num_str,type(num_str))"
   ]
  },
  {
   "cell_type": "code",
   "execution_count": 54,
   "id": "e24a9285-edf3-46fa-aba7-24bb6e537c15",
   "metadata": {},
   "outputs": [
    {
     "name": "stdout",
     "output_type": "stream",
     "text": [
      "15.79 <class 'float'>\n"
     ]
    }
   ],
   "source": [
    "a = \"15.79\"\n",
    "b = float(a)\n",
    "print(b,type(b))"
   ]
  },
  {
   "cell_type": "code",
   "execution_count": 58,
   "id": "0cb6fd68-a9a8-4eaf-8408-db6fbf674214",
   "metadata": {},
   "outputs": [
    {
     "name": "stdout",
     "output_type": "stream",
     "text": [
      "2022 2023 2024\n"
     ]
    }
   ],
   "source": [
    "year = \"2024\"\n",
    "year2 = int(year)\n",
    "print(year2-2,year2-1,year2)"
   ]
  },
  {
   "cell_type": "code",
   "execution_count": 60,
   "id": "2f890165-899f-4e73-8be6-903c582248b9",
   "metadata": {},
   "outputs": [
    {
     "name": "stdout",
     "output_type": "stream",
     "text": [
      "총금액\n"
     ]
    }
   ],
   "source": [
    "rental = 48584\n",
    "총금액 = rental * 36\n",
    "print(\"총금액\")"
   ]
  },
  {
   "cell_type": "code",
   "execution_count": 61,
   "id": "209720da-e1c0-4c34-ae8e-8b33589e9d77",
   "metadata": {},
   "outputs": [
    {
     "name": "stdout",
     "output_type": "stream",
     "text": [
      "1749024\n"
     ]
    }
   ],
   "source": [
    "rental = 48584\n",
    "총금액 = rental * 36\n",
    "print(총금액)"
   ]
  },
  {
   "cell_type": "markdown",
   "id": "3821eda3-e6ef-49a7-9a5b-f1a08cb3d92b",
   "metadata": {},
   "source": [
    "# 21번"
   ]
  },
  {
   "cell_type": "code",
   "execution_count": 64,
   "id": "edf984c0-f02d-48e7-aada-d3afb46b359d",
   "metadata": {},
   "outputs": [
    {
     "data": {
      "text/plain": [
       "('p', 't')"
      ]
     },
     "execution_count": 64,
     "metadata": {},
     "output_type": "execute_result"
    }
   ],
   "source": [
    "letters = 'python'\n",
    "letters[0],letters[2]"
   ]
  },
  {
   "cell_type": "code",
   "execution_count": 65,
   "id": "e70e310c-b12a-4dff-b8ea-6ea08f986613",
   "metadata": {},
   "outputs": [
    {
     "name": "stdout",
     "output_type": "stream",
     "text": [
      "p t\n"
     ]
    }
   ],
   "source": [
    "letters = 'python'\n",
    "print(letters[0],letters[2])"
   ]
  },
  {
   "cell_type": "code",
   "execution_count": 72,
   "id": "3bbed22e-5df1-4f31-b049-bd59571d8647",
   "metadata": {},
   "outputs": [
    {
     "data": {
      "text/plain": [
       "'2210'"
      ]
     },
     "execution_count": 72,
     "metadata": {},
     "output_type": "execute_result"
    }
   ],
   "source": [
    "a = \"24가 2210\"\n",
    "a[-4:]"
   ]
  },
  {
   "cell_type": "code",
   "execution_count": 74,
   "id": "afd813c5-ee67-4bc3-b2d3-4af4badffc1f",
   "metadata": {},
   "outputs": [
    {
     "data": {
      "text/plain": [
       "'홀홀홀'"
      ]
     },
     "execution_count": 74,
     "metadata": {},
     "output_type": "execute_result"
    }
   ],
   "source": [
    "b = \"홀짝홀짝홀짝\"\n",
    "b[::2]"
   ]
  },
  {
   "cell_type": "code",
   "execution_count": 79,
   "id": "64e1b1be-4b21-43aa-831a-a9df3a1321c7",
   "metadata": {},
   "outputs": [
    {
     "name": "stdout",
     "output_type": "stream",
     "text": [
      "nohtyp\n"
     ]
    }
   ],
   "source": [
    "c = \"python\" \n",
    "print(c[::-1])"
   ]
  },
  {
   "cell_type": "code",
   "execution_count": 84,
   "id": "19f2504a-e748-492d-8134-baac6cc2d3a4",
   "metadata": {},
   "outputs": [
    {
     "name": "stdout",
     "output_type": "stream",
     "text": [
      "010\n",
      "1234\n"
     ]
    },
    {
     "ename": "TypeError",
     "evalue": "unsupported operand type(s) for +: 'NoneType' and 'NoneType'",
     "output_type": "error",
     "traceback": [
      "\u001b[1;31m---------------------------------------------------------------------------\u001b[0m",
      "\u001b[1;31mTypeError\u001b[0m                                 Traceback (most recent call last)",
      "Cell \u001b[1;32mIn[84], line 2\u001b[0m\n\u001b[0;32m      1\u001b[0m d \u001b[38;5;241m=\u001b[39m \u001b[38;5;124m\"\u001b[39m\u001b[38;5;124m010-1234-5678\u001b[39m\u001b[38;5;124m\"\u001b[39m\n\u001b[1;32m----> 2\u001b[0m \u001b[38;5;28mprint\u001b[39m(d[\u001b[38;5;241m0\u001b[39m:\u001b[38;5;241m3\u001b[39m]) \u001b[38;5;241m+\u001b[39m \u001b[38;5;28mprint\u001b[39m(d[\u001b[38;5;241m4\u001b[39m:\u001b[38;5;241m8\u001b[39m]) \u001b[38;5;241m+\u001b[39m \u001b[38;5;28mprint\u001b[39m(d[\u001b[38;5;241m9\u001b[39m:\u001b[38;5;241m11\u001b[39m])\n",
      "\u001b[1;31mTypeError\u001b[0m: unsupported operand type(s) for +: 'NoneType' and 'NoneType'"
     ]
    }
   ],
   "source": [
    "d = \"010-1234-5678\"\n",
    "print(d[0:3]) + print(d[4:8]) + print(d[9:11])"
   ]
  },
  {
   "cell_type": "code",
   "execution_count": 85,
   "id": "262528f8-4be7-43ac-9371-64d110bdb196",
   "metadata": {},
   "outputs": [
    {
     "name": "stdout",
     "output_type": "stream",
     "text": [
      "010\n",
      "1234\n"
     ]
    },
    {
     "ename": "TypeError",
     "evalue": "unsupported operand type(s) for +: 'NoneType' and 'NoneType'",
     "output_type": "error",
     "traceback": [
      "\u001b[1;31m---------------------------------------------------------------------------\u001b[0m",
      "\u001b[1;31mTypeError\u001b[0m                                 Traceback (most recent call last)",
      "Cell \u001b[1;32mIn[85], line 2\u001b[0m\n\u001b[0;32m      1\u001b[0m d \u001b[38;5;241m=\u001b[39m \u001b[38;5;124m\"\u001b[39m\u001b[38;5;124m010-1234-5678\u001b[39m\u001b[38;5;124m\"\u001b[39m\n\u001b[1;32m----> 2\u001b[0m \u001b[38;5;28mprint\u001b[39m(d[\u001b[38;5;241m0\u001b[39m:\u001b[38;5;241m3\u001b[39m]) \u001b[38;5;241m+\u001b[39m \u001b[38;5;28mprint\u001b[39m(d[\u001b[38;5;241m4\u001b[39m:\u001b[38;5;241m8\u001b[39m])\n",
      "\u001b[1;31mTypeError\u001b[0m: unsupported operand type(s) for +: 'NoneType' and 'NoneType'"
     ]
    }
   ],
   "source": [
    "d = \"010-1234-5678\"\n",
    "print(d[0:3]) + print(d[4:8])"
   ]
  },
  {
   "cell_type": "code",
   "execution_count": 86,
   "id": "8e9f349b-6baf-4d1e-8a3e-42b519f7c83f",
   "metadata": {},
   "outputs": [
    {
     "name": "stdout",
     "output_type": "stream",
     "text": [
      "01012345678\n"
     ]
    }
   ],
   "source": [
    "d = \"010-1234-5678\"\n",
    "e = d[0:3] + d[4:8] + d[9:13]\n",
    "print(e)"
   ]
  },
  {
   "cell_type": "code",
   "execution_count": 89,
   "id": "af4ee2e2-91b6-46c1-85f6-790c8c0e6302",
   "metadata": {},
   "outputs": [
    {
     "name": "stdout",
     "output_type": "stream",
     "text": [
      "010 1234 5678\n"
     ]
    }
   ],
   "source": [
    "d = \"010-1234-5678\"\n",
    "dd = d.replace(\"-\",\" \")\n",
    "print(dd)"
   ]
  },
  {
   "cell_type": "code",
   "execution_count": 90,
   "id": "2b2453ef-8b5d-4b00-b5e3-933666192f0f",
   "metadata": {},
   "outputs": [
    {
     "name": "stdout",
     "output_type": "stream",
     "text": [
      "01012345678\n"
     ]
    }
   ],
   "source": [
    "d = \"010-1234-5678\"\n",
    "dd = d.replace(\"-\",\"\")\n",
    "print(dd)"
   ]
  },
  {
   "cell_type": "code",
   "execution_count": 97,
   "id": "7a39db11-8691-42d5-b662-ffbbc6674b2d",
   "metadata": {},
   "outputs": [
    {
     "name": "stdout",
     "output_type": "stream",
     "text": [
      "com\n"
     ]
    }
   ],
   "source": [
    "url = \"naver.com\"\n",
    "url_q = url.split('.')\n",
    "print(url_q[-1])"
   ]
  },
  {
   "cell_type": "code",
   "execution_count": 102,
   "id": "a46ee17e-52f4-4e4f-85bc-c0f4257ce8b7",
   "metadata": {},
   "outputs": [
    {
     "name": "stdout",
     "output_type": "stream",
     "text": [
      "python\n"
     ]
    }
   ],
   "source": [
    "a = 'python'\n",
    "print(a)"
   ]
  },
  {
   "cell_type": "code",
   "execution_count": 107,
   "id": "fabb4136-815d-4908-9952-7ba99aa2f540",
   "metadata": {},
   "outputs": [
    {
     "data": {
      "text/plain": [
       "'Python'"
      ]
     },
     "execution_count": 107,
     "metadata": {},
     "output_type": "execute_result"
    }
   ],
   "source": [
    "a = 'python'\n",
    "b = 'P' + a[1:]\n",
    "b"
   ]
  },
  {
   "cell_type": "code",
   "execution_count": 111,
   "id": "da5d1481-ce97-4975-90d0-542c39aaf779",
   "metadata": {},
   "outputs": [
    {
     "ename": "TypeError",
     "evalue": "'int' object does not support item assignment",
     "output_type": "error",
     "traceback": [
      "\u001b[1;31m---------------------------------------------------------------------------\u001b[0m",
      "\u001b[1;31mTypeError\u001b[0m                                 Traceback (most recent call last)",
      "Cell \u001b[1;32mIn[111], line 2\u001b[0m\n\u001b[0;32m      1\u001b[0m a \u001b[38;5;241m=\u001b[39m \u001b[38;5;241m1234\u001b[39m\n\u001b[1;32m----> 2\u001b[0m a[\u001b[38;5;241m0\u001b[39m]\u001b[38;5;241m=\u001b[39m\u001b[38;5;241m6\u001b[39m\n\u001b[0;32m      3\u001b[0m \u001b[38;5;28mprint\u001b[39m(a)\n",
      "\u001b[1;31mTypeError\u001b[0m: 'int' object does not support item assignment"
     ]
    }
   ],
   "source": [
    "a = 1234\n",
    "a[0]=6\n",
    "print(a)"
   ]
  },
  {
   "cell_type": "code",
   "execution_count": 113,
   "id": "d40f3849-6e86-4f2d-99e4-73974fa7ab43",
   "metadata": {},
   "outputs": [
    {
     "name": "stdout",
     "output_type": "stream",
     "text": [
      "Abcdfe2A354A32A\n"
     ]
    }
   ],
   "source": [
    "string = 'abcdfe2a354a32a'\n",
    "string2 = string.replace(\"a\",\"A\")\n",
    "print(string2)"
   ]
  },
  {
   "cell_type": "code",
   "execution_count": 118,
   "id": "4f4a2b7a-63a5-4ea3-82dc-5578de9c56f8",
   "metadata": {},
   "outputs": [
    {
     "data": {
      "text/plain": [
       "'python java python java python java '"
      ]
     },
     "execution_count": 118,
     "metadata": {},
     "output_type": "execute_result"
    }
   ],
   "source": [
    "t1 = 'python'\n",
    "t2 = 'java'\n",
    "t3 = t1 +' ' + t2 + ' '\n",
    "t4 = t3 * 3\n",
    "t4"
   ]
  },
  {
   "cell_type": "code",
   "execution_count": 130,
   "id": "a7215a59-1d8c-4144-8b73-ce09e86d6469",
   "metadata": {},
   "outputs": [
    {
     "name": "stdout",
     "output_type": "stream",
     "text": [
      "이름: 김민수 나이: 10\n",
      "이름: 이철희 나이: 13\n"
     ]
    }
   ],
   "source": [
    "name1 = \"김민수\" \n",
    "age1 = 10\n",
    "name2 = \"이철희\"\n",
    "age2 = 13\n",
    "print(\"이름: {} 나이: {}\".format(name1,age1))\n",
    "print(\"이름: {} 나이: {}\".format(name2,age2))"
   ]
  },
  {
   "cell_type": "code",
   "execution_count": 135,
   "id": "f34f4115-ab45-4c36-b324-3334d9f5f2f0",
   "metadata": {},
   "outputs": [
    {
     "name": "stdout",
     "output_type": "stream",
     "text": [
      "이름: 김민수 나이: 10\n",
      "이름: 이철희 나이: 13\n"
     ]
    }
   ],
   "source": [
    "name1 = \"김민수\" \n",
    "age1 = 10\n",
    "name2 = \"이철희\"\n",
    "age2 = 13\n",
    "print(\"이름: %s 나이: %s\" % (name1, age1))\n",
    "print(\"이름: %s 나이: %s\" % (name2, age2))"
   ]
  },
  {
   "cell_type": "code",
   "execution_count": 138,
   "id": "497d0e21-9c26-4361-a7cd-086d756f74d0",
   "metadata": {},
   "outputs": [
    {
     "name": "stdout",
     "output_type": "stream",
     "text": [
      "이름 : 김민수 나이 : 10\n",
      "이름 : 이철희 나이 : 13\n"
     ]
    }
   ],
   "source": [
    "name1 = \"김민수\" \n",
    "age1 = 10\n",
    "name2 = \"이철희\"\n",
    "age2 = 13\n",
    "print(f'이름 : {name1} 나이 : {age1}')\n",
    "print(f'이름 : {name2} 나이 : {age2}')"
   ]
  },
  {
   "cell_type": "code",
   "execution_count": 139,
   "id": "dcaaead0-a283-4ba7-8361-e80eb6faac94",
   "metadata": {},
   "outputs": [
    {
     "name": "stdout",
     "output_type": "stream",
     "text": [
      "5969782550 <class 'int'>\n"
     ]
    }
   ],
   "source": [
    "상장주식수 = \"5,969,782,550\"\n",
    "a = 상장주식수.replace(\",\",\"\")\n",
    "b = int(a)\n",
    "print(b,type(b))"
   ]
  },
  {
   "cell_type": "code",
   "execution_count": 151,
   "id": "fcf036a5-6b75-4c97-b65f-9c652190138c",
   "metadata": {},
   "outputs": [
    {
     "name": "stdout",
     "output_type": "stream",
     "text": [
      "2020/03\n"
     ]
    }
   ],
   "source": [
    "분기 = \"2020/03(E) (IFRS연결)\"\n",
    "print(분기[:7])"
   ]
  },
  {
   "cell_type": "code",
   "execution_count": 154,
   "id": "fff11158-e1b7-4184-8a7c-d9010e7b20af",
   "metadata": {},
   "outputs": [
    {
     "data": {
      "text/plain": [
       "'삼성전자'"
      ]
     },
     "execution_count": 154,
     "metadata": {},
     "output_type": "execute_result"
    }
   ],
   "source": [
    "a = \"   삼성전자    \"\n",
    "b=a.strip()\n",
    "b"
   ]
  },
  {
   "cell_type": "code",
   "execution_count": 155,
   "id": "bc0f60dd-b0c7-4a83-a380-13ae5b483f98",
   "metadata": {},
   "outputs": [
    {
     "data": {
      "text/plain": [
       "'BTC_KRW'"
      ]
     },
     "execution_count": 155,
     "metadata": {},
     "output_type": "execute_result"
    }
   ],
   "source": [
    "ticker = \"btc_krw\"\n",
    "ticker.upper()"
   ]
  },
  {
   "cell_type": "code",
   "execution_count": 157,
   "id": "4e5ae5fb-68ef-4d7f-b6d9-6e8fbb4a13c2",
   "metadata": {},
   "outputs": [
    {
     "data": {
      "text/plain": [
       "'btc_krw'"
      ]
     },
     "execution_count": 157,
     "metadata": {},
     "output_type": "execute_result"
    }
   ],
   "source": [
    "ticker = \"BTC_KRW\"\n",
    "ticker.lower()"
   ]
  },
  {
   "cell_type": "code",
   "execution_count": 162,
   "id": "9932e03f-8583-45f4-bd0d-4a5cbc90964e",
   "metadata": {},
   "outputs": [
    {
     "data": {
      "text/plain": [
       "'Hello'"
      ]
     },
     "execution_count": 162,
     "metadata": {},
     "output_type": "execute_result"
    }
   ],
   "source": [
    "a = \"hello\"\n",
    "b = 'H' + a[1:]\n",
    "b"
   ]
  },
  {
   "cell_type": "code",
   "execution_count": 163,
   "id": "be9c38ce-0bd0-4927-9bd6-f798466d040b",
   "metadata": {},
   "outputs": [
    {
     "data": {
      "text/plain": [
       "True"
      ]
     },
     "execution_count": 163,
     "metadata": {},
     "output_type": "execute_result"
    }
   ],
   "source": [
    "file_name = \"보고서.xlsx\"\n",
    "file_name.endswith(\"xlsx\")"
   ]
  },
  {
   "cell_type": "code",
   "execution_count": 164,
   "id": "90ba8d3d-7cb2-4d1e-93ab-8fb79c836489",
   "metadata": {},
   "outputs": [
    {
     "data": {
      "text/plain": [
       "['hello', 'world']"
      ]
     },
     "execution_count": 164,
     "metadata": {},
     "output_type": "execute_result"
    }
   ],
   "source": [
    "a = \"hello world\"\n",
    "b = a.split(\" \")\n",
    "b"
   ]
  },
  {
   "cell_type": "code",
   "execution_count": 165,
   "id": "6721770e-c6b2-4a1d-8bf8-559d0ca3c580",
   "metadata": {},
   "outputs": [
    {
     "data": {
      "text/plain": [
       "('2020', '05', '01')"
      ]
     },
     "execution_count": 165,
     "metadata": {},
     "output_type": "execute_result"
    }
   ],
   "source": [
    "date = \"2020-05-01\"\n",
    "k = date.split(\"-\")\n",
    "year = k[0]\n",
    "month = k[1]\n",
    "day = k[2]\n",
    "year,month,day"
   ]
  },
  {
   "cell_type": "code",
   "execution_count": 167,
   "id": "4f7a1e14-1e3a-4b15-8f1a-2162b2e2f886",
   "metadata": {},
   "outputs": [
    {
     "data": {
      "text/plain": [
       "'039490'"
      ]
     },
     "execution_count": 167,
     "metadata": {},
     "output_type": "execute_result"
    }
   ],
   "source": [
    "data = \"039490     \"\n",
    "a = data.rstrip()\n",
    "a"
   ]
  },
  {
   "cell_type": "code",
   "execution_count": null,
   "id": "468f8d46-788e-44bf-894d-18e3a58ab63e",
   "metadata": {},
   "outputs": [],
   "source": []
  }
 ],
 "metadata": {
  "kernelspec": {
   "display_name": "Python 3 (ipykernel)",
   "language": "python",
   "name": "python3"
  },
  "language_info": {
   "codemirror_mode": {
    "name": "ipython",
    "version": 3
   },
   "file_extension": ".py",
   "mimetype": "text/x-python",
   "name": "python",
   "nbconvert_exporter": "python",
   "pygments_lexer": "ipython3",
   "version": "3.11.7"
  }
 },
 "nbformat": 4,
 "nbformat_minor": 5
}
