{
 "cells": [
  {
   "cell_type": "markdown",
   "metadata": {
    "id": "1HbIDv4yS-FM"
   },
   "source": [
    "## Python 머신러닝에 필요한 라이브러리\n",
    "\n",
    "- 수학계산, 넘파이(Numpy)\n",
    "\n",
    "- 데이터 처리, 판다스(Pandas)\n",
    "\n",
    "- 그림 그리기 툴, 맷플롭(Matplotlib)"
   ]
  },
  {
   "cell_type": "markdown",
   "metadata": {
    "id": "Oi_UqRfhYe4F"
   },
   "source": [
    "---------------------------------------------------------\n",
    "\n",
    "### 넘파이 Numpy\n",
    "\n",
    "- 수학계산\n",
    "  - 복잡한 함수\n",
    "  - 연산 알고리즘\n",
    "  - 난수생성"
   ]
  },
  {
   "cell_type": "code",
   "execution_count": null,
   "metadata": {
    "id": "Bf9KXB-AZNpT"
   },
   "outputs": [],
   "source": [
    "import numpy as np\n",
    "\n",
    "x = np.linspace(-1,1,100)\n",
    "y = np.sin(x)\n",
    "print(y)"
   ]
  },
  {
   "cell_type": "code",
   "execution_count": null,
   "metadata": {
    "id": "nNlmIV3usOIQ"
   },
   "outputs": [],
   "source": [
    "np.random.choice(x,3,replace=False)"
   ]
  },
  {
   "cell_type": "code",
   "execution_count": null,
   "metadata": {
    "id": "dMe8HX50sd6G"
   },
   "outputs": [],
   "source": [
    "a = np.random.normal(size=(3,5))\n",
    "a.shape\n",
    "print(a)"
   ]
  },
  {
   "cell_type": "markdown",
   "metadata": {
    "id": "ZY2ASblJspiL"
   },
   "source": [
    "---------------------------------------------------------\n",
    "\n",
    "### 판다스 pandas\n",
    "\n",
    "- 데이터 처리"
   ]
  },
  {
   "cell_type": "code",
   "execution_count": null,
   "metadata": {
    "id": "nxuDECQHIKHf"
   },
   "outputs": [],
   "source": [
    "# 현재 colab이 동작하고있는 위치를 확인해보고\n",
    "# 해당 위치에 재료 파일을 업로드 하겠습니다.\n",
    "import os\n",
    "print(os.getcwd())"
   ]
  },
  {
   "cell_type": "code",
   "execution_count": null,
   "metadata": {
    "id": "xkg9_xNHtRxd"
   },
   "outputs": [],
   "source": [
    "# 판다스로 데이터를 조작해봅시다. \n",
    "# 데이터의 속성을 모를때는 개인적으로 판다스 라이브러리가 넘파이보다 조금 더 편합니다.\n",
    "import pandas as pd\n",
    "\n",
    "#df = pd.read_csv(uploaded['HomeC.csv'].decode('utf-8'))\n",
    "df = pd.read_csv('./sample_data/california_housing_train.csv')"
   ]
  },
  {
   "cell_type": "code",
   "execution_count": null,
   "metadata": {
    "id": "KEKeOy3lBaSQ"
   },
   "outputs": [],
   "source": [
    "df.head()"
   ]
  },
  {
   "cell_type": "code",
   "execution_count": null,
   "metadata": {
    "id": "MJ7Wx6JrBb1v"
   },
   "outputs": [],
   "source": [
    "df.tail(3)"
   ]
  },
  {
   "cell_type": "code",
   "execution_count": null,
   "metadata": {
    "id": "0A_fdcxdCR9x"
   },
   "outputs": [],
   "source": [
    "print('데이터 개수', df.shape[0])\n",
    "print('데이터 속성 개수',df.shape[1])"
   ]
  },
  {
   "cell_type": "code",
   "execution_count": null,
   "metadata": {
    "id": "QudCEIC-BdH3"
   },
   "outputs": [],
   "source": [
    "df.index"
   ]
  },
  {
   "cell_type": "code",
   "execution_count": null,
   "metadata": {
    "id": "655g4-8lBgEn"
   },
   "outputs": [],
   "source": [
    "df.columns"
   ]
  },
  {
   "cell_type": "code",
   "execution_count": null,
   "metadata": {
    "id": "ZDRtnlnYBhfo"
   },
   "outputs": [],
   "source": [
    "numpy_data = df.to_numpy()"
   ]
  },
  {
   "cell_type": "code",
   "execution_count": null,
   "metadata": {
    "id": "MtUe-GTpBkes"
   },
   "outputs": [],
   "source": [
    "print('인구 평균',df['population'].mean())\n",
    "print('소득 최소값',df['median_income'].min())\n",
    "print('소득 최대값',df['median_income'].max())"
   ]
  },
  {
   "cell_type": "markdown",
   "metadata": {
    "id": "ELhhk-ikXhpl"
   },
   "source": [
    "---------------------------------------------------------\n",
    "\n",
    "### 맷플롯 Matplotlib\n",
    "\n",
    "- 그래프그리기\n",
    "  - 선형그래프\n",
    "  - 통계그래프\n",
    "  - 이미지그림"
   ]
  },
  {
   "cell_type": "code",
   "execution_count": 1,
   "metadata": {
    "id": "lREtoTFIX2ov"
   },
   "outputs": [
    {
     "ename": "NameError",
     "evalue": "name 'x' is not defined",
     "output_type": "error",
     "traceback": [
      "\u001b[1;31m---------------------------------------------------------------------------\u001b[0m",
      "\u001b[1;31mNameError\u001b[0m                                 Traceback (most recent call last)",
      "Cell \u001b[1;32mIn[1], line 6\u001b[0m\n\u001b[0;32m      1\u001b[0m \u001b[38;5;28;01mimport\u001b[39;00m \u001b[38;5;21;01mmatplotlib\u001b[39;00m\u001b[38;5;21;01m.\u001b[39;00m\u001b[38;5;21;01mpyplot\u001b[39;00m \u001b[38;5;28;01mas\u001b[39;00m \u001b[38;5;21;01mplt\u001b[39;00m\n\u001b[0;32m      2\u001b[0m  \u001b[38;5;66;03m# <-- Jupyter notebook 계열에서만 쓰이는 코드입니다.\u001b[39;00m\n\u001b[0;32m      3\u001b[0m  \n\u001b[0;32m      4\u001b[0m \n\u001b[0;32m      5\u001b[0m \u001b[38;5;66;03m# 넘파이에서 불러왔던 x, y를 재사용\u001b[39;00m\n\u001b[1;32m----> 6\u001b[0m plt\u001b[38;5;241m.\u001b[39mplot(x,y,\u001b[38;5;124m'\u001b[39m\u001b[38;5;124mr--\u001b[39m\u001b[38;5;124m'\u001b[39m)\n\u001b[0;32m      7\u001b[0m plt\u001b[38;5;241m.\u001b[39mgrid()\n",
      "\u001b[1;31mNameError\u001b[0m: name 'x' is not defined"
     ]
    }
   ],
   "source": [
    "import matplotlib.pyplot as plt\n",
    "%%matplotlib inline\n",
    " # <-- Jupyter notebook 계열에서만 쓰이는 코드입니다.\n",
    " \n",
    "\n",
    "# 넘파이에서 불러왔던 x, y를 재사용\n",
    "plt.plot(x,y,'r--')\n",
    "plt.grid()"
   ]
  },
  {
   "cell_type": "code",
   "execution_count": null,
   "metadata": {
    "id": "PCd_ohN2X5Dg"
   },
   "outputs": [],
   "source": [
    "# 불러온 데이터중 중위소득을 막대그래프(히스토그램)로 도식\n",
    "plt.hist(df['median_income'],bins=20)\n",
    "plt.grid()"
   ]
  }
 ],
 "metadata": {
  "colab": {
   "name": "Ch_0_python_라이브러리.ipynb",
   "private_outputs": true,
   "provenance": []
  },
  "kernelspec": {
   "display_name": "Python 3 (ipykernel)",
   "language": "python",
   "name": "python3"
  },
  "language_info": {
   "codemirror_mode": {
    "name": "ipython",
    "version": 3
   },
   "file_extension": ".py",
   "mimetype": "text/x-python",
   "name": "python",
   "nbconvert_exporter": "python",
   "pygments_lexer": "ipython3",
   "version": "3.11.7"
  }
 },
 "nbformat": 4,
 "nbformat_minor": 4
}
