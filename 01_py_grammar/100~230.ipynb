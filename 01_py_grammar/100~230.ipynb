{
 "cells": [
  {
   "cell_type": "markdown",
   "id": "b0706a00-bb9d-414e-bac6-e67daa351d50",
   "metadata": {},
   "source": [
    "사용자로부터 입력받은 문자열을 두 번 출력하라. 아래는 사용자가 \"안녕하세요\"를 입력한 경우의 출력 결과이다.\n",
    ">> 안녕하세요\r\n",
    "안녕하세요안녕하세요"
   ]
  },
  {
   "cell_type": "code",
   "execution_count": null,
   "id": "3f23d0cd-a5f3-405a-ac3a-78eea5e16c47",
   "metadata": {},
   "outputs": [],
   "source": []
  },
  {
   "cell_type": "markdown",
   "id": "5abee764-d16e-4c9e-8b33-5188c352f4fd",
   "metadata": {},
   "source": [
    "사용자로부터 하나의 숫자를 입력받고, 입력 받은 숫자에 10을 더해 출력하라.\n",
    ">> 숫자를 입력하세요: 30\r\n",
    "40"
   ]
  },
  {
   "cell_type": "code",
   "execution_count": null,
   "id": "0ca36307-98c6-480e-a07f-be2a454341a9",
   "metadata": {},
   "outputs": [],
   "source": []
  },
  {
   "cell_type": "markdown",
   "id": "d63d8328-73f1-4cef-8cc2-f8f5e6f4348b",
   "metadata": {},
   "source": [
    "사용자로부터 하나의 숫자를 입력 받고 짝수/홀수를 판별하라.\n",
    ">> 30\n",
    "짝수"
   ]
  },
  {
   "cell_type": "code",
   "execution_count": null,
   "id": "3c965c4b-4bed-4266-84b5-a4ec7bc8e9fc",
   "metadata": {},
   "outputs": [],
   "source": []
  },
  {
   "cell_type": "markdown",
   "id": "2bab0e73-86a9-478b-b27b-2eb042e0c6a4",
   "metadata": {},
   "source": [
    "사용자로부터 값을 입력받은 후 해당 값에 20을 더한 값을 출력하라. 단 사용자가 입력한 값과 20을 더한 계산 값이 255를 초과하는 경우 255를 출력해야 한다.\n",
    ">> 입력값: 200\n",
    "출력값: 220\n",
    ">> 입력값: 240\n",
    "출력값: 255"
   ]
  },
  {
   "cell_type": "code",
   "execution_count": null,
   "id": "ca563059-5bf2-4e6c-a900-97892725f8da",
   "metadata": {},
   "outputs": [],
   "source": []
  },
  {
   "cell_type": "markdown",
   "id": "cd6f13bd-4ece-4e99-9a1a-186fcc536963",
   "metadata": {},
   "source": [
    "사용자로부터 하나의 값을 입력받은 후 해당 값에 20을 뺀 값을 출력하라. 단 출력 값의 범위는 0~255이다. 예를 들어 결괏값이 0보다 작은 값이되는 경우 0을 출력하고 255보다 큰 값이 되는 경우 255를 출력해야 한다.\n",
    ">> 입력값: 200\r\n",
    "출력값: 18\n",
    ">> >> 입력값: 15\r\n",
    "출력값: 00"
   ]
  },
  {
   "cell_type": "code",
   "execution_count": null,
   "id": "1a5a7291-852d-469f-bcc8-425c4077d16b",
   "metadata": {},
   "outputs": [],
   "source": []
  },
  {
   "cell_type": "markdown",
   "id": "ba18584c-9896-4aad-ba15-507dee23270b",
   "metadata": {},
   "source": [
    "사용자로부터 입력 받은 시간이 정각인지 판별하라\n",
    ">> 현재시간:02:00\r\n",
    "정각 입니다\n",
    ">> >> 현재시간:03:10\r\n",
    "정각이 아닙니다.."
   ]
  },
  {
   "cell_type": "code",
   "execution_count": null,
   "id": "3b41561d-d920-40e1-8c67-9358db4b896a",
   "metadata": {},
   "outputs": [],
   "source": []
  },
  {
   "cell_type": "markdown",
   "id": "db449cab-4411-4608-ad1b-530d23f9a201",
   "metadata": {},
   "source": [
    "사용자로 입력받은 단어가 아래 fruit 리스트에 포함되어 있는지를 확인하라. 포함되었다면 \"정답입니다\"를 아닐 경우 \"오답입니다\" 출력하라.\n",
    "fruit = [\"사과\", \"포도\", \"홍시\"]\n",
    ">> 좋아하는 과일은? 사과\r\n",
    "정답입니다."
   ]
  },
  {
   "cell_type": "code",
   "execution_count": null,
   "id": "1bf83ec2-2087-4d06-9a75-f9ab8ad76bb7",
   "metadata": {},
   "outputs": [],
   "source": []
  },
  {
   "cell_type": "markdown",
   "id": "ad6bf12b-f543-490d-ac50-016c67adbbf4",
   "metadata": {},
   "source": [
    "투자 경고 종목 리스트가 있을 때 사용자로부터 종목명을 입력 받은 후 해당 종목이 투자 경고 종목이라면 '투자 경고 종목입니다'를 아니면 \"투자 경고 종목이 아닙니다.\"를 출력하는 프로그램을 작성하라.\n",
    "warn_investment_list = [\"Microsoft\", \"Google\", \"Naver\", \"Kakao\", \"SAMSUNG\", \"LG\"]"
   ]
  },
  {
   "cell_type": "code",
   "execution_count": null,
   "id": "60829e8d-7e56-4df1-9c6d-31c10d804e31",
   "metadata": {},
   "outputs": [],
   "source": []
  },
  {
   "cell_type": "markdown",
   "id": "6b969705-f66e-48da-9ecd-3b6de5bb6ff9",
   "metadata": {},
   "source": [
    "아래와 같이 fruit 딕셔너리가 정의되어 있다. 사용자가 입력한 값이 딕셔너리 키 (key) 값에 포함되었다면 \"정답입니다\"를 아닐 경우 \"오답입니다\" 출력하라.\n",
    "fruit = {\"봄\" : \"딸기\", \"여름\" : \"토마토\", \"가을\" : \"사과\"}\n",
    ">> 제가좋아하는계절은: 봄\r\n",
    "정답입니다."
   ]
  },
  {
   "cell_type": "code",
   "execution_count": null,
   "id": "d4c30ec8-85cf-485b-b3da-969f1d26e697",
   "metadata": {},
   "outputs": [],
   "source": []
  },
  {
   "cell_type": "markdown",
   "id": "b014056c-4c43-43ba-8d20-74aa6b1ebbbc",
   "metadata": {},
   "source": [
    "아래와 같이 fruit 딕셔너리가 정의되어 있다. 사용자가 입력한 값이 딕셔너리 값 (value)에 포함되었다면 \"정답입니다\"를 아닐 경우 \"오답입니다\" 출력하라.\n",
    "fruit = {\"봄\" : \"딸기\", \"여름\" : \"토마토\", \"가을\" : \"사과\"}\n",
    ">> 좋아하는과일은? 한라봉\r\n",
    "오답입니다."
   ]
  },
  {
   "cell_type": "code",
   "execution_count": null,
   "id": "7364c921-aa8d-4ab9-b11e-ded220184d95",
   "metadata": {},
   "outputs": [],
   "source": []
  },
  {
   "cell_type": "markdown",
   "id": "b8179a23-fa4e-457b-94e1-13a9ae2d165f",
   "metadata": {},
   "source": [
    "사용자로부터 문자 한 개를 입력 받고, 소문자일 경우 대문자로, 대문자 일 경우, 소문자로 변경해서 출력하라.\n",
    "힌트-1 : islower() 함수는 문자의 소문자 여부를 판별합니다. 만약 소문자일 경우 True, 대문자일 경우 False를 반환합니다. 힌트-2 : upper() 함수는 대문자로, lower() 함수는 소문자로 변경합니다."
   ]
  },
  {
   "cell_type": "code",
   "execution_count": null,
   "id": "b22d4c75-0433-4ccc-8cbb-f0b39eb1e195",
   "metadata": {},
   "outputs": [],
   "source": []
  },
  {
   "cell_type": "markdown",
   "id": "115350bd-a0da-43f1-b71b-8ba8567faa3b",
   "metadata": {},
   "source": [
    "점수 구간에 해당하는 학점이 아래와 같이 정의되어 있다. 사용자로부터 score를 입력받아 학점을 출력하라.\n",
    "81~100\tA\r\n",
    "61~80\tB\r\n",
    "41~60\tC\r\n",
    "21~40\tD\r\n",
    "0~\n",
    ">> score: 83\r\n",
    "grade is A20\tE"
   ]
  },
  {
   "cell_type": "code",
   "execution_count": null,
   "id": "fe6457e4-1bcf-458b-bb98-7f5b1eb70538",
   "metadata": {},
   "outputs": [],
   "source": []
  },
  {
   "cell_type": "markdown",
   "id": "08b92c9e-c6d5-4e76-8978-f1995b5d0168",
   "metadata": {},
   "source": [
    "사용자로부터 달러, 엔, 유로, 또는 위안 금액을 입력받은 후 이를 원으로 변환하는 프로그램을 작성하라. 각 통화별 환율은 다음과 같다. 사용자는 100 달러, 1000 엔, 13 유로, 100 위안과 같이 금액과 통화명 사이에 공백을 넣어 입력한다고 가정한다.\n",
    "\r\n",
    "통화명\t환율\r\n",
    "달러\t1167\r\n",
    "엔\t1.096\r\n",
    "유로\t1268\r\n",
    "위\n",
    ">> 입력: 100 달러\r\n",
    "116700.00 원안\t171"
   ]
  },
  {
   "cell_type": "code",
   "execution_count": null,
   "id": "12348a59-1001-4422-b5b9-d022b6e2a259",
   "metadata": {},
   "outputs": [],
   "source": []
  },
  {
   "cell_type": "markdown",
   "id": "3ae63777-9970-41ce-99a1-1ef90ce8ec03",
   "metadata": {},
   "source": [
    "사용자로부터 세 개의 숫자를 입력 받은 후 가장 큰 숫자를 출력하라.\n",
    ">> input number1: 10\r\n",
    ">> input number2: 9\r\n",
    ">> input number3: 20\r\n",
    "20"
   ]
  },
  {
   "cell_type": "code",
   "execution_count": null,
   "id": "f6eeb2cd-eeb6-4224-9f85-fa503ad33a7a",
   "metadata": {},
   "outputs": [],
   "source": []
  },
  {
   "cell_type": "markdown",
   "id": "7f0d08c3-2930-4653-88b7-b403217c86b4",
   "metadata": {},
   "source": [
    "휴대폰 번호 앞자리에 따라 통신사는 아래와 같이 구분된다. 사용자로부터 휴대전화 번호를 입력 받고, 통신사를 출력하는 프로그램을 작성하라.\n",
    "011\tSKT\r\n",
    "016\tKT\r\n",
    "019\tLGU\r\n",
    "010\t알\n",
    ">> 휴대전화 번호 입력: 011-345-1922\r\n",
    "당신은 SKT 사용자입니다.수없음"
   ]
  },
  {
   "cell_type": "code",
   "execution_count": null,
   "id": "0d07e904-7508-47f4-9665-f0fdcc78ba16",
   "metadata": {},
   "outputs": [],
   "source": []
  },
  {
   "cell_type": "markdown",
   "id": "42a2fb09-0a58-4cff-b01b-8fd33276d1e6",
   "metadata": {},
   "source": [
    "우편번호는 5자리로 구성되는데, 앞의 세자리는 구를 나타낸다. 예를들어, 강북구의 경우 010, 011, 012 세 자리로 시작한다.\n",
    "\r\n",
    "-\t0\t1\t2\t3\t4\t5\t6\t7\t8\t9\r\n",
    "01\t강북구\t강북구\t강북구\t도봉구\t도봉구\t도봉구\t노원구\t노원구\t노원구\t노\n",
    " \t사용자로 부터 5자리 우편번호를 입력받고 구를 판별하라\n",
    ">> 우편번호: 01400\r\n",
    "도봉구원구"
   ]
  },
  {
   "cell_type": "code",
   "execution_count": null,
   "id": "bd526d66-d9b0-4abf-b6c6-4ca08f97a65c",
   "metadata": {},
   "outputs": [],
   "source": []
  },
  {
   "cell_type": "markdown",
   "id": "433868ff-4bee-41f1-a62a-6890b6f3a20f",
   "metadata": {},
   "source": [
    "주민등록번호 뒷 자리 7자리 중 첫째 자리는 성별을 나타내는데, 1, 3은 남자 2, 4는 여자를 의미한다. 사용자로부터 13자리의 주민등록번호를 입력 받은 후 성별 (남자, 여자)를 출력하는 프로그램을 작성하라.\n",
    ">> 주민등록번호: 821010-1635210\r\n",
    "남자"
   ]
  },
  {
   "cell_type": "code",
   "execution_count": null,
   "id": "209ff5f2-f99c-4a83-a9bc-4be66ec6f9c2",
   "metadata": {},
   "outputs": [],
   "source": []
  },
  {
   "cell_type": "markdown",
   "id": "0cfa8d06-d442-4a34-b483-30ef45e4bb81",
   "metadata": {},
   "source": [
    "주민등록번호의 뒷 자리 7자리 중 두번째와 세번째는 지역코드를 의미한다. 주민 등록 번호를 입력 받은 후 출생지가 서울인지 아닌지 판단하는 코드를 작성하라\n",
    ">> 주민등록번호: 821010-1635210\r\n",
    "서울이 아닙니다\n",
    ">> >> 주민등록번호: 861010-1015210\r\n",
    "서울 입니다.."
   ]
  },
  {
   "cell_type": "code",
   "execution_count": null,
   "id": "e8f9ad11-6207-47b0-8948-13869b1ac571",
   "metadata": {},
   "outputs": [],
   "source": []
  },
  {
   "cell_type": "markdown",
   "id": "ed63b046-05f2-469f-8a45-38e262348ca1",
   "metadata": {},
   "source": [
    "주민등록번호는 13자리로 구성되는데 마지막 자리수는 주민등록번호의 유효성을 체크하는데 사용된다. 먼저 앞에서부터 12자리의 숫자에 2, 3, 4, 5, 6, 7, 8, 9, 2, 3, 4, 5를 차례로 곱한 뒤 그 값을 전부 더한다. 연산 결과 값을 11로 나누면 나머지가 나오는데 11에서 나머지를 뺀 값이 주민등록번호의 마지막 번호가 된다.\n",
    " 8 2 1 0 1 0 - 1 6 3 5 2 1 0\r\n",
    "x 2 3 4 5 6 7   8 9 2 3 4 5 \r\n",
    "-----------------------------\r\n",
    "1차 계산: (8*2 + 2*3 + 1*4 + 0*5 + 1*6 + 0*7 + 1*8 + 6*9 + 3*2 + 5*3 + 2*4 + 1*5) = (128 % 11) = 7\r\n",
    "2차 계산: 11 -7\n",
    "위와 같이 821010-1635210에 대해서 계산을 해보면 마지막 자리는 4가 되어야 함을 알 수 있다. 즉, 821010-1635210은 유효하지 않은 주민등록번호임을 알 수 있다.\r\n",
    "\r\n",
    "다음과 같이 사용자로부터 주민등록번호를 입력받은 후 주민등록번호가 유효한지를 출력하는 프로그램을 작성하\n",
    ">> 주민등록번호: 821010-1635210\r\n",
    "유효하지 않은 주민등록번호입니다.라. = 4"
   ]
  },
  {
   "cell_type": "code",
   "execution_count": null,
   "id": "1e4e7e1d-a019-4b28-80f4-1118799203c2",
   "metadata": {},
   "outputs": [],
   "source": []
  },
  {
   "cell_type": "markdown",
   "id": "cd10eb78-87c0-4cf5-a26e-3e1224b7f9ed",
   "metadata": {},
   "source": [
    "아래 코드는 비트코인의 가격 정보를 딕셔너리로 가져오는 코드이다.\n",
    "import requests\r\n",
    "btc = requests.get(\"https://api.bithumb.com/public/ticker/\").json()['data'\n",
    "btc 딕셔너리 안에는 시가, 종가, 최고가, 최저가 등이 저장되어 있다. 최고가와 최저가의 차이를 변동폭으로 정의할 때 (시가 + 변동폭)이 최고가 보다 높을 경우 \"상승장\", 그렇지 않은 경우 \"하락장\" 문자열을 출력하라.\n",
    "Key Name\tDescription\r\n",
    "opening_price\t최근 24시간 내 시작 거래금액\r\n",
    "closing_price\t최근 24시간 내 마지막 거래금액\r\n",
    "min_price\t최근 24시간 내 최저 거래금액\r\n",
    "max_price\t최근 24시간 내 최고 거래금액]"
   ]
  },
  {
   "cell_type": "code",
   "execution_count": null,
   "id": "69a5ae03-51b7-466c-8450-3e034210fec2",
   "metadata": {},
   "outputs": [],
   "source": []
  },
  {
   "cell_type": "markdown",
   "id": "8c00c5ba-a118-4952-9bc5-4f148421887b",
   "metadata": {},
   "source": []
  },
  {
   "cell_type": "code",
   "execution_count": null,
   "id": "15edde1e-3a0f-4444-a45f-8315b2f919d4",
   "metadata": {},
   "outputs": [],
   "source": []
  },
  {
   "cell_type": "markdown",
   "id": "d80088bc-6782-463c-b8a8-56b46334d914",
   "metadata": {},
   "source": []
  },
  {
   "cell_type": "code",
   "execution_count": null,
   "id": "e65c3e9c-6925-4f44-ac64-76f64a0919da",
   "metadata": {},
   "outputs": [],
   "source": []
  },
  {
   "cell_type": "code",
   "execution_count": null,
   "id": "225d869d-46bf-4fc9-941e-40436fb82ba3",
   "metadata": {},
   "outputs": [],
   "source": []
  },
  {
   "cell_type": "code",
   "execution_count": null,
   "id": "37f2b65e-8429-41d1-9e49-326be36008ce",
   "metadata": {},
   "outputs": [],
   "source": []
  },
  {
   "cell_type": "code",
   "execution_count": null,
   "id": "c9fbb0b5-3671-4dff-9370-10f047f79792",
   "metadata": {},
   "outputs": [],
   "source": []
  },
  {
   "cell_type": "code",
   "execution_count": null,
   "id": "a8999211-0a31-4ee2-a4f4-c76beb9e9912",
   "metadata": {},
   "outputs": [],
   "source": []
  },
  {
   "cell_type": "code",
   "execution_count": null,
   "id": "e18315c6-dea9-47b1-a7dc-b6dbc3c9f7b5",
   "metadata": {},
   "outputs": [],
   "source": []
  },
  {
   "cell_type": "code",
   "execution_count": null,
   "id": "25835a92-c302-449f-b7f2-a7c7358ca339",
   "metadata": {},
   "outputs": [],
   "source": []
  },
  {
   "cell_type": "code",
   "execution_count": null,
   "id": "aa5481aa-0bc0-4c48-ad66-1f3d380f0697",
   "metadata": {},
   "outputs": [],
   "source": []
  },
  {
   "cell_type": "code",
   "execution_count": null,
   "id": "92046de9-4dae-4a0c-a417-526fd417e7d6",
   "metadata": {},
   "outputs": [],
   "source": []
  },
  {
   "cell_type": "code",
   "execution_count": null,
   "id": "3a217c69-0c4c-42f6-89bc-3f0ace1d7780",
   "metadata": {},
   "outputs": [],
   "source": []
  },
  {
   "cell_type": "code",
   "execution_count": null,
   "id": "d0d12803-4e98-4e39-afe0-710f45df09ae",
   "metadata": {},
   "outputs": [],
   "source": []
  },
  {
   "cell_type": "code",
   "execution_count": null,
   "id": "45a49d34-87dc-4a75-ac34-f668da761acd",
   "metadata": {},
   "outputs": [],
   "source": []
  },
  {
   "cell_type": "code",
   "execution_count": null,
   "id": "65674ead-95ec-47cb-bf81-e04be251eb20",
   "metadata": {},
   "outputs": [],
   "source": []
  },
  {
   "cell_type": "code",
   "execution_count": null,
   "id": "e64915e3-c492-4598-bbb8-ad26c97ff6f8",
   "metadata": {},
   "outputs": [],
   "source": []
  },
  {
   "cell_type": "code",
   "execution_count": null,
   "id": "6ce7b086-6770-4afa-af3c-7f37e96cbc04",
   "metadata": {},
   "outputs": [],
   "source": []
  },
  {
   "cell_type": "code",
   "execution_count": null,
   "id": "35b8a2f3-1e1f-42fa-8c3e-3575a62380bd",
   "metadata": {},
   "outputs": [],
   "source": []
  },
  {
   "cell_type": "code",
   "execution_count": null,
   "id": "e4daff80-887f-4bd3-8091-df916ab0a6a7",
   "metadata": {},
   "outputs": [],
   "source": []
  }
 ],
 "metadata": {
  "kernelspec": {
   "display_name": "Python 3 (ipykernel)",
   "language": "python",
   "name": "python3"
  },
  "language_info": {
   "codemirror_mode": {
    "name": "ipython",
    "version": 3
   },
   "file_extension": ".py",
   "mimetype": "text/x-python",
   "name": "python",
   "nbconvert_exporter": "python",
   "pygments_lexer": "ipython3",
   "version": "3.11.7"
  }
 },
 "nbformat": 4,
 "nbformat_minor": 5
}
