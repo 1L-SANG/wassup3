{
 "cells": [
  {
   "cell_type": "code",
   "execution_count": 1,
   "id": "2242cbd8-4b7e-4206-afb5-7f82d06d9714",
   "metadata": {},
   "outputs": [],
   "source": [
    "#아래와 같이 리스트의 데이터를 출력하라. 단, for문과 range문을 사용하라.\n",
    "price_list = [32100, 32150, 32000, 32500]\n",
    "32100\n",
    "32150\n",
    "32000\n",
    "32500"
   ]
  },
  {
   "cell_type": "code",
   "execution_count": 2,
   "id": "06fded89-1494-44ce-b20c-6c36c7b7c7a1",
   "metadata": {},
   "outputs": [],
   "source": [
    "#아래와 같이 리스트의 데이터를 출력하라. 단, for문과 range문을 사용하라.\n",
    "price_list = [32100, 32150, 32000, 32500]\n",
    "0 32100\n",
    "1 32150\n",
    "2 32000\n",
    "3 32500"
   ]
  },
  {
   "cell_type": "code",
   "execution_count": null,
   "id": "431469e2-9a1b-44c7-a905-f4fb365338bb",
   "metadata": {},
   "outputs": [],
   "source": [
    "#아래와 같이 리스트의 데이터를 출력하라. 단, for문과 range문을 사용하라.\n",
    "price_list = [32100, 32150, 32000, 32500]\n",
    "3 32100\n",
    "2 32150\n",
    "1 32000\n",
    "0 32500"
   ]
  },
  {
   "cell_type": "code",
   "execution_count": null,
   "id": "7ef73bec-ec96-4485-b75d-f46199e43211",
   "metadata": {},
   "outputs": [],
   "source": [
    "#아래와 같이 리스트의 데이터를 출력하라. 단, for문과 range문을 사용하라.\n",
    "price_list = [32100, 32150, 32000, 32500]\n",
    "100 32150\n",
    "110 32000\n",
    "120 32500"
   ]
  },
  {
   "cell_type": "code",
   "execution_count": null,
   "id": "110cb769-ce72-42e5-8fbc-635b4f176023",
   "metadata": {},
   "outputs": [],
   "source": [
    "#my_list를 아래와 같이 출력하라.\n",
    "my_list = [\"가\", \"나\", \"다\", \"라\"]\n",
    "가 나\n",
    "나 다\n",
    "다 라"
   ]
  },
  {
   "cell_type": "code",
   "execution_count": null,
   "id": "0e222eac-1c65-4a6d-b261-5b32221ffbce",
   "metadata": {},
   "outputs": [],
   "source": [
    "#리스트를 아래와 같이 출력하라.\n",
    "\n",
    "my_list = [\"가\", \"나\", \"다\", \"라\", \"마\"]\n",
    "가 나 다\n",
    "나 다 라\n",
    "다 라 마"
   ]
  },
  {
   "cell_type": "code",
   "execution_count": null,
   "id": "977eabaf-11d2-497e-9a2e-4c0225b31bb6",
   "metadata": {},
   "outputs": [],
   "source": [
    "#반복문과 range 함수를 사용해서 my_list를 아래와 같이 출력하라.\n",
    "my_list = [\"가\", \"나\", \"다\", \"라\"]\n",
    "라 다\n",
    "다 나\n",
    "나 가"
   ]
  },
  {
   "cell_type": "code",
   "execution_count": null,
   "id": "89564753-2321-4750-acf3-26200dcb7479",
   "metadata": {},
   "outputs": [],
   "source": [
    "#리스트에는 네 개의 정수가 저장되어 있다. 각각의 데이터에 대해서 자신과 우측값과의 차분값을 화면에 출력하라.\n",
    "my_list = [100, 200, 400, 800]\n",
    "# 예를들어 100을 기준으로 우측에 위치한 200과의 차분 값를 화면에 출력하고, 200을 기준으로 우측에 위치한 400과의 차분값을 화면에 출력한다. 이어서 400을 기준으로 우측에 위치한 800과의 차분값을 화면에 출력한다.\n",
    "\n",
    "100\n",
    "200\n",
    "400"
   ]
  },
  {
   "cell_type": "code",
   "execution_count": null,
   "id": "bae26ec9-b2e0-4fe9-a0ae-398c12f93511",
   "metadata": {},
   "outputs": [],
   "source": [
    "#리스트에는 6일 간의 종가 데이터가 저장되어 있다. 종가 데이터의 3일 이동 평균을 계산하고 이를 화면에 출력하라.\n",
    "my_list = [100, 200, 400, 800, 1000, 1300]\n",
    "#첫 번째 줄에는 100, 200, 400의 평균값이 출력된다. 두 번째 줄에는 200, 400, 800의 평균값이 출력된다. 같은 방식으로 나머지 데이터의 평균을 출력한다.\n",
    "\n",
    "233.33333333333334\n",
    "466.6666666666667\n",
    "733.3333333333334\n",
    "1033.3333333333333"
   ]
  },
  {
   "cell_type": "code",
   "execution_count": null,
   "id": "f70934d8-5205-40c8-a57d-b9fd7f73e477",
   "metadata": {},
   "outputs": [],
   "source": [
    "#리스트에 5일간의 저가, 고가 정보가 저장돼 있다. 고가와 저가의 차를 변동폭이라고 정의할 때, low, high 두 개의 리스트를 사용해서 5일간의 변동폭을 volatility 리스트에 저장하라.\n",
    "low_prices  = [100, 200, 400, 800, 1000]\n",
    "high_prices = [150, 300, 430, 880, 1000]"
   ]
  },
  {
   "cell_type": "code",
   "execution_count": null,
   "id": "c6fb992a-e750-4643-b4fb-5d4735efd101",
   "metadata": {},
   "outputs": [],
   "source": [
    "#아래 표에서 하나의 열을 하나의 리스트로, 총 2개의 리스트를 갖는 이차원 리스트 stock을 정의하라.\n",
    "\n",
    "#시가\t종가\n",
    "100\t80\n",
    "200\t210\n",
    "300\t330"
   ]
  },
  {
   "cell_type": "code",
   "execution_count": null,
   "id": "c257b75f-770e-4273-ad62-c54c8c8faf1d",
   "metadata": {},
   "outputs": [],
   "source": [
    "#아래 표를 stock 이름의 딕셔너리로 표현하라.시가를 key로 저장하고, 나머지 같은 열의 데이터를 리스트로 저장해서 value로 저장한다. \n",
    "#종가 역시 key로 저장하고 나머지 같은 열의 데이터를 리스트로 저장해서 value로 저장한다.\n",
    "\n",
    "#시가\t종가\n",
    "100\t80\n",
    "200\t210\n",
    "300\t330"
   ]
  },
  {
   "cell_type": "code",
   "execution_count": null,
   "id": "de1ca7d0-07c1-46e9-8a43-d4ff2f769b4a",
   "metadata": {},
   "outputs": [],
   "source": [
    "#아래 표를 stock 이라는 이름의 딕셔너리로 표현하라. 날짜를 key로 저장하고, 나머지 같은 행의 데이터를 리스트로 저장해서 value로 저장한다. 첫 열이 날짜이다.\n",
    "10/10\t80\t110\t70\t90\n",
    "10/11\t210\t230\t190\t200"
   ]
  },
  {
   "cell_type": "code",
   "execution_count": null,
   "id": "eb1364de-e742-4c0a-a7b0-4b8ad828772d",
   "metadata": {},
   "outputs": [],
   "source": [
    "#리스트에 저장된 데이터를 아래와 같이 출력하라.\n",
    "apart = [ [101, 102], [201, 202], [301, 302] ]\n",
    "101 호\n",
    "102 호\n",
    "201 호\n",
    "202 호\n",
    "301 호\n",
    "302 호"
   ]
  },
  {
   "cell_type": "code",
   "execution_count": null,
   "id": "833d90fd-60bf-4017-94f0-65058b6b58b6",
   "metadata": {},
   "outputs": [],
   "source": [
    "#리스트에 저장된 데이터를 아래와 같이 출력하라.\n",
    "apart = [ [101, 102], [201, 202], [301, 302] ]\n",
    "301 호\n",
    "302 호\n",
    "201 호\n",
    "202 호\n",
    "101 호\n",
    "102 호"
   ]
  },
  {
   "cell_type": "code",
   "execution_count": null,
   "id": "1ae0a565-5b48-439e-9b7f-9f48344da8e5",
   "metadata": {},
   "outputs": [],
   "source": [
    "#리스트에 저장된 데이터를 아래와 같이 출력하라.\n",
    "apart = [ [101, 102], [201, 202], [301, 302] ]\n",
    "302 호\n",
    "301 호\n",
    "202 호\n",
    "201 호\n",
    "102 호\n",
    "101 호"
   ]
  },
  {
   "cell_type": "code",
   "execution_count": null,
   "id": "e9545507-af84-4eb4-a436-cb520ccb3d0e",
   "metadata": {},
   "outputs": [],
   "source": [
    "#리스트에 저장된 데이터를 아래와 같이 출력하라.\n",
    "apart = [ [101, 102], [201, 202], [301, 302] ]\n",
    "101 호\n",
    "-----\n",
    "102 호\n",
    "-----\n",
    "201 호\n",
    "-----\n",
    "202 호\n",
    "-----\n",
    "301 호\n",
    "-----\n",
    "302 호\n",
    "-----"
   ]
  },
  {
   "cell_type": "code",
   "execution_count": null,
   "id": "27d58f87-8806-43c5-8c0a-cecd4add812c",
   "metadata": {},
   "outputs": [],
   "source": [
    "#리스트에 저장된 데이터를 아래와 같이 출력하라.\n",
    "apart = [ [101, 102], [201, 202], [301, 302] ]\n",
    "101 호\n",
    "102 호\n",
    "-----\n",
    "201 호\n",
    "202 호\n",
    "-----\n",
    "301 호\n",
    "302 호\n",
    "-----"
   ]
  },
  {
   "cell_type": "code",
   "execution_count": null,
   "id": "2a44c280-b304-4a25-9385-8e4111aa48b5",
   "metadata": {},
   "outputs": [],
   "source": [
    "#리스트에 저장된 데이터를 아래와 같이 출력하라.\n",
    "apart = [ [101, 102], [201, 202], [301, 302] ]\n",
    "101 호\n",
    "102 호\n",
    "201 호\n",
    "202 호\n",
    "301 호\n",
    "302 호\n",
    "-----"
   ]
  },
  {
   "cell_type": "code",
   "execution_count": null,
   "id": "537827e6-fee7-4b2c-b3cc-95bb45d64080",
   "metadata": {},
   "outputs": [],
   "source": [
    "#data에는 매수한 종목들의 OHLC (open/high/low/close) 가격 정보가 바인딩 되어있다.\n",
    "data = [\n",
    "    [ 2000,  3050,  2050,  1980],\n",
    "    [ 7500,  2050,  2050,  1980],\n",
    "    [15450, 15050, 15550, 14900]\n",
    "]\n",
    "#수수료를 0.014 %로 가정할 때, 각 가격에 수수료를 포함한 가격을 한라인에 하나씩 출력하라.\n",
    "2000.28\n",
    "3050.427\n",
    "2050.2870000000003\n",
    "..."
   ]
  },
  {
   "cell_type": "code",
   "execution_count": null,
   "id": "0aa50deb-bf3d-46d8-ac7d-2d170eaedeb5",
   "metadata": {},
   "outputs": [],
   "source": [
    "#191번의 출력 결과에 행단위로 \"----\" 구분자를 추가하라.\n",
    "2000.28\n",
    "3050.427\n",
    "2050.2870000000003\n",
    "1980.2772\n",
    "----\n",
    "7501.05\n",
    "2050.2870000000003\n",
    "2050.2870000000003\n",
    "1980.2772\n",
    "----\n",
    "15452.163\n",
    "15052.107\n",
    "15552.177\n",
    "14902.086000000001\n",
    "----"
   ]
  },
  {
   "cell_type": "code",
   "execution_count": null,
   "id": "667bfcda-aa92-483b-8e62-818512912141",
   "metadata": {},
   "outputs": [],
   "source": [
    "#192 번 문제의 결괏값을 result 이름의 리스트에 1차원 배열로 저장하라\n",
    ">> print(result)\n",
    "[2000.28, 3050.427, 2050.2870000000003, 1980.2772, 7501.05, 2050.2870000000003, 2050.2870000000003, ...]"
   ]
  },
  {
   "cell_type": "code",
   "execution_count": null,
   "id": "8bf2be5d-8220-4d46-8d23-f75f9585cacf",
   "metadata": {},
   "outputs": [],
   "source": [
    "#191번 문제의 결괏값을 result 이름의 리스트에 2차원 배열로 저장하라. 저장 포맷은 아래와 같다. 각 행에 대한 데이터끼리 리스트에 저장되어야 한다.\n",
    ">> print(result)\n",
    "[\n",
    " [2000.28, 3050.427, 2050.2870000000003, 1980.2772],\n",
    " [7501.05, 2050.2870000000003, 2050.2870000000003, 1980.2772],\n",
    " [15452.163, 15052.107, 15552.177, 14902.086000000001]\n",
    "]"
   ]
  },
  {
   "cell_type": "code",
   "execution_count": null,
   "id": "b46a4d7d-604e-4de7-828b-421f49373304",
   "metadata": {},
   "outputs": [],
   "source": [
    "#ohlc 리스트에는 시가(open), 고가 (high), 저가 (low) , 종가(close)가 날짜별로 저장돼 있다. 화면에 종가데이터를 출력하라.\n",
    "ohlc = [[\"open\", \"high\", \"low\", \"close\"],\n",
    "        [100, 110, 70, 100],\n",
    "        [200, 210, 180, 190],\n",
    "        [300, 310, 300, 310]]\n",
    "100\n",
    "190\n",
    "310"
   ]
  },
  {
   "cell_type": "code",
   "execution_count": null,
   "id": "e7ba9e4f-8d34-4429-aa07-54ab64448530",
   "metadata": {},
   "outputs": [],
   "source": [
    "#ohlc 리스트에는 시가(open), 고가 (high), 저가 (low) , 종가(close)가 날짜별로 저장돼 있다. 종가가 150원보다 큰경우에만 종가를 출력하라\n",
    "ohlc = [[\"open\", \"high\", \"low\", \"close\"],\n",
    "        [100, 110, 70, 100],\n",
    "        [200, 210, 180, 190],\n",
    "        [300, 310, 300, 310]]\n",
    "190\n",
    "310"
   ]
  },
  {
   "cell_type": "code",
   "execution_count": null,
   "id": "5ad3ac33-43f5-4775-b91c-74b55a8ffe68",
   "metadata": {},
   "outputs": [],
   "source": [
    "#ohlc 리스트에는 시가(open), 고가 (high), 저가 (low) , 종가(close)가 날짜별로 저장돼 있다. 종가가 시가 보다 크거나 같은 경우에만 종가를 출력하라.\n",
    "ohlc = [[\"open\", \"high\", \"low\", \"close\"],\n",
    "        [100, 110, 70, 100],\n",
    "        [200, 210, 180, 190],\n",
    "        [300, 310, 300, 310]]\n",
    "100\n",
    "310"
   ]
  },
  {
   "cell_type": "code",
   "execution_count": null,
   "id": "12812fca-badc-4267-be13-4bbf6c6eabdf",
   "metadata": {},
   "outputs": [],
   "source": [
    "#ohlc 리스트에는 시가(open), 고가 (high), 저가 (low) , 종가(close)가 날짜별로 저장돼 있다. 고가와 저가의 차이를 변동폭으로 정의할 때 변동폭을 volatility 이름의 리스트에 저장하라.\n",
    "ohlc = [[\"open\", \"high\", \"low\", \"close\"],\n",
    "        [100, 110, 70, 100],\n",
    "        [200, 210, 180, 190],\n",
    "        [300, 310, 300, 310]]\n",
    ">> print(volatility)\n",
    "[40, 30, 10]"
   ]
  },
  {
   "cell_type": "code",
   "execution_count": null,
   "id": "4d4bca26-1c41-43be-8102-2dcd32768797",
   "metadata": {},
   "outputs": [],
   "source": [
    "#리스트에는 3일 간의 ohlc 데이터가 저장돼 있다. 종가가 시가보다 높은 날의 변동성 (고가 - 저가)을 화면에 출력하라.\n",
    "ohlc = [[\"open\", \"high\", \"low\", \"close\"],\n",
    "        [100, 110, 70, 100],\n",
    "        [200, 210, 180, 190],\n",
    "        [300, 310, 300, 310]]\n",
    "#종가가 시가보다 높은 거래일의 OHLC는 [300, 310, 300, 310] 이다. 따라서 이 거래일의 변동성은 10 (310 - 300)이다.\n",
    "\n",
    "10"
   ]
  },
  {
   "cell_type": "code",
   "execution_count": null,
   "id": "ebc5a0c6-3c2a-4203-b21e-b4b4095cf314",
   "metadata": {},
   "outputs": [],
   "source": [
    "#리스트에는 3일 간의 ohlc 데이터가 저장돼 있다. 시가에 매수해서 종가에 매도 했을 경우 총 수익금을 계산하라.\n",
    "\n",
    "ohlc = [[\"open\", \"high\", \"low\", \"close\"],\n",
    "        [100, 110, 70, 100],\n",
    "        [200, 210, 180, 190],\n",
    "        [300, 310, 300, 310]]\n",
    "#1일차 수익 0원 (100 - 100), 2일차 수익 -10원 (190 - 200), 3일차 수익 10원 (310 - 300) 이다.\n",
    "\n",
    "0"
   ]
  },
  {
   "cell_type": "code",
   "execution_count": null,
   "id": "b8fffb74-1b53-44c9-8470-1fe306cead29",
   "metadata": {},
   "outputs": [],
   "source": []
  },
  {
   "cell_type": "code",
   "execution_count": null,
   "id": "cb7c54ad-a41f-459f-880e-3c6e7e39c2dc",
   "metadata": {},
   "outputs": [],
   "source": []
  },
  {
   "cell_type": "code",
   "execution_count": null,
   "id": "cdbac869-5709-47d5-97d6-56718450eae0",
   "metadata": {},
   "outputs": [],
   "source": []
  },
  {
   "cell_type": "code",
   "execution_count": null,
   "id": "b0b6e7a1-cf53-4338-87ec-04f3fcd539ed",
   "metadata": {},
   "outputs": [],
   "source": []
  },
  {
   "cell_type": "code",
   "execution_count": null,
   "id": "2c96f5bf-98eb-473e-a88d-7671ccbb2278",
   "metadata": {},
   "outputs": [],
   "source": []
  },
  {
   "cell_type": "code",
   "execution_count": null,
   "id": "ba9c4271-9d48-488b-970e-665d0e441f5b",
   "metadata": {},
   "outputs": [],
   "source": []
  },
  {
   "cell_type": "code",
   "execution_count": null,
   "id": "b45f5f31-7c21-4144-87e9-65c4ef356089",
   "metadata": {},
   "outputs": [],
   "source": []
  },
  {
   "cell_type": "code",
   "execution_count": null,
   "id": "59a6d5fd-da53-4f31-9cae-547fb4e6dcb4",
   "metadata": {},
   "outputs": [],
   "source": []
  },
  {
   "cell_type": "code",
   "execution_count": null,
   "id": "5ef6253b-5f47-4e0e-8588-1dded3c554a3",
   "metadata": {},
   "outputs": [],
   "source": []
  },
  {
   "cell_type": "code",
   "execution_count": null,
   "id": "d7c81765-a9e6-4c7f-9183-3f699f075127",
   "metadata": {},
   "outputs": [],
   "source": []
  },
  {
   "cell_type": "code",
   "execution_count": null,
   "id": "48ee596c-570a-49f6-b219-607fa133abc2",
   "metadata": {},
   "outputs": [],
   "source": []
  },
  {
   "cell_type": "code",
   "execution_count": null,
   "id": "f09a7a0c-9478-4ff1-82c2-7b46608e770a",
   "metadata": {},
   "outputs": [],
   "source": []
  },
  {
   "cell_type": "code",
   "execution_count": null,
   "id": "c207ad5a-1cbc-4781-ba8c-11d3d4434979",
   "metadata": {},
   "outputs": [],
   "source": []
  },
  {
   "cell_type": "code",
   "execution_count": null,
   "id": "51521c61-38b1-4317-b3ef-cb59ee1404c4",
   "metadata": {},
   "outputs": [],
   "source": []
  },
  {
   "cell_type": "code",
   "execution_count": null,
   "id": "ddd69b61-dba6-4e34-ad69-2afc04fe729e",
   "metadata": {},
   "outputs": [],
   "source": []
  },
  {
   "cell_type": "code",
   "execution_count": null,
   "id": "c1ed8b96-e92f-405c-b767-0528d23f5c28",
   "metadata": {},
   "outputs": [],
   "source": []
  },
  {
   "cell_type": "code",
   "execution_count": null,
   "id": "040386d9-303a-4ed6-8d76-3be786758623",
   "metadata": {},
   "outputs": [],
   "source": []
  },
  {
   "cell_type": "code",
   "execution_count": null,
   "id": "989ba8b6-6bde-4cdf-ae12-127c23249659",
   "metadata": {},
   "outputs": [],
   "source": []
  },
  {
   "cell_type": "code",
   "execution_count": null,
   "id": "9984bbfa-45e9-4996-8924-da5e97bf8b16",
   "metadata": {},
   "outputs": [],
   "source": []
  },
  {
   "cell_type": "code",
   "execution_count": null,
   "id": "9cfead75-311e-4dbe-b12b-020641ef26be",
   "metadata": {},
   "outputs": [],
   "source": []
  },
  {
   "cell_type": "code",
   "execution_count": null,
   "id": "2317e321-b72b-489e-bb8f-5e3a55793476",
   "metadata": {},
   "outputs": [],
   "source": []
  },
  {
   "cell_type": "code",
   "execution_count": null,
   "id": "366fcb8f-2dc9-4120-823e-fa61d3454cab",
   "metadata": {},
   "outputs": [],
   "source": []
  },
  {
   "cell_type": "code",
   "execution_count": null,
   "id": "bd09e775-221d-401f-8a99-0e55b30d0c48",
   "metadata": {},
   "outputs": [],
   "source": []
  },
  {
   "cell_type": "code",
   "execution_count": null,
   "id": "7bd307ae-621e-40c7-92c5-c84383e2aa69",
   "metadata": {},
   "outputs": [],
   "source": []
  },
  {
   "cell_type": "code",
   "execution_count": null,
   "id": "0d55868e-938d-4945-ba2a-42e60e804789",
   "metadata": {},
   "outputs": [],
   "source": []
  },
  {
   "cell_type": "code",
   "execution_count": null,
   "id": "6dbf303d-ad02-4be1-b53b-c05e232b45aa",
   "metadata": {},
   "outputs": [],
   "source": []
  }
 ],
 "metadata": {
  "kernelspec": {
   "display_name": "Python 3 (ipykernel)",
   "language": "python",
   "name": "python3"
  },
  "language_info": {
   "codemirror_mode": {
    "name": "ipython",
    "version": 3
   },
   "file_extension": ".py",
   "mimetype": "text/x-python",
   "name": "python",
   "nbconvert_exporter": "python",
   "pygments_lexer": "ipython3",
   "version": "3.11.7"
  }
 },
 "nbformat": 4,
 "nbformat_minor": 5
}
