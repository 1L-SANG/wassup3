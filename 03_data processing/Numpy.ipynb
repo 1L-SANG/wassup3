{
 "cells": [
  {
   "cell_type": "code",
   "execution_count": 21,
   "id": "475bc343-b4c8-465b-aadf-6b587c433861",
   "metadata": {},
   "outputs": [
    {
     "data": {
      "text/plain": [
       "'1.26.4'"
      ]
     },
     "execution_count": 21,
     "metadata": {},
     "output_type": "execute_result"
    }
   ],
   "source": [
    "import numpy as np\n",
    "np.__version__"
   ]
  },
  {
   "cell_type": "code",
   "execution_count": 2,
   "id": "b0ac93fd-6f79-41dc-9c80-afb9872a5ab4",
   "metadata": {},
   "outputs": [
    {
     "data": {
      "text/plain": [
       "(array(0), 0, numpy.ndarray)"
      ]
     },
     "execution_count": 2,
     "metadata": {},
     "output_type": "execute_result"
    }
   ],
   "source": [
    "a = np.array(0)\n",
    "a, a.ndim, type(a)\n",
    "#a는 그냥 0이아니고 array0이고 a는 0차원)"
   ]
  },
  {
   "cell_type": "code",
   "execution_count": 3,
   "id": "d15a65b5-434b-40d3-b004-f905ebcf8b24",
   "metadata": {},
   "outputs": [
    {
     "data": {
      "text/plain": [
       "(array([2, 4, 6]), 1)"
      ]
     },
     "execution_count": 3,
     "metadata": {},
     "output_type": "execute_result"
    }
   ],
   "source": [
    "a= np.array([2,4,6])\n",
    "a, a.ndim"
   ]
  },
  {
   "cell_type": "code",
   "execution_count": 7,
   "id": "985fe2b5-88fa-4fae-902a-851ee9798934",
   "metadata": {},
   "outputs": [
    {
     "data": {
      "text/plain": [
       "(array([[1, 2, 3],\n",
       "        [4, 5, 6]]),\n",
       " 2)"
      ]
     },
     "execution_count": 7,
     "metadata": {},
     "output_type": "execute_result"
    }
   ],
   "source": [
    "#2차원은 리스트 2개로 표현\n",
    "a = np.array([[1,2,3],[4,5,6]])\n",
    "a, a.ndim"
   ]
  },
  {
   "cell_type": "code",
   "execution_count": 10,
   "id": "2fd2abd8-8a03-453e-968d-e83c2fc0f109",
   "metadata": {},
   "outputs": [
    {
     "data": {
      "text/plain": [
       "(array([[[1, 2, 3],\n",
       "         [4, 5, 6]],\n",
       " \n",
       "        [[1, 2, 3],\n",
       "         [4, 5, 6]]]),\n",
       " 3,\n",
       " (2, 2, 3))"
      ]
     },
     "execution_count": 10,
     "metadata": {},
     "output_type": "execute_result"
    }
   ],
   "source": [
    "a = np.array([[[1,2,3],[4,5,6]], [[1,2,3],[4,5,6]]])\n",
    "a, a.ndim, a.shape\n",
    "#2행3열이 2개 있어"
   ]
  },
  {
   "cell_type": "code",
   "execution_count": null,
   "id": "c136be42-04c7-4853-a4c7-ecf8aeaf57f0",
   "metadata": {},
   "outputs": [],
   "source": [
    "#shpae (행렬의 차원을 반환)\n"
   ]
  },
  {
   "cell_type": "code",
   "execution_count": 12,
   "id": "588676e0-16ae-46c9-a968-a78f6eda9f2e",
   "metadata": {},
   "outputs": [
    {
     "data": {
      "text/plain": [
       "(3, 2, 3)"
      ]
     },
     "execution_count": 12,
     "metadata": {},
     "output_type": "execute_result"
    }
   ],
   "source": [
    "a = np.array( [ [[1,2,3], [4,5,6]], [[1,2,3], [4,5,6]],[[1,2,3], [4,5,6]] ] )\n",
    "a.shape"
   ]
  },
  {
   "cell_type": "code",
   "execution_count": 13,
   "id": "a4d934e5-7d5c-4e36-94f2-af850050519b",
   "metadata": {},
   "outputs": [
    {
     "data": {
      "text/plain": [
       "(array([[  1,   2,   3],\n",
       "        [ 10,  20,  30],\n",
       "        [100, 200, 300]]),\n",
       " 2,\n",
       " (3, 3))"
      ]
     },
     "execution_count": 13,
     "metadata": {},
     "output_type": "execute_result"
    }
   ],
   "source": [
    "a= np.array([[1,2,3 ],[10,20,30],[100,200,300]])\n",
    "a, a.ndim, a.shape\n"
   ]
  },
  {
   "cell_type": "code",
   "execution_count": 14,
   "id": "ac306eea-a571-429d-8f8d-3f58b00f5d13",
   "metadata": {},
   "outputs": [
    {
     "data": {
      "text/plain": [
       "0"
      ]
     },
     "execution_count": 14,
     "metadata": {},
     "output_type": "execute_result"
    }
   ],
   "source": [
    "a = np.arange(15).reshape(3, 5)\n",
    "a[0, 0]"
   ]
  },
  {
   "cell_type": "code",
   "execution_count": 17,
   "id": "68be9856-4634-4bf0-9a41-8fbc813de277",
   "metadata": {},
   "outputs": [
    {
     "data": {
      "text/plain": [
       "0"
      ]
     },
     "execution_count": 17,
     "metadata": {},
     "output_type": "execute_result"
    }
   ],
   "source": [
    "matrix_b = np.arange(12).reshape(3,4)\n",
    "matrix_b[0][0]"
   ]
  },
  {
   "cell_type": "code",
   "execution_count": 20,
   "id": "2cf44d77-568b-47d5-b24f-da32e1adb542",
   "metadata": {},
   "outputs": [
    {
     "data": {
      "text/plain": [
       "((3, 5), 2)"
      ]
     },
     "execution_count": 20,
     "metadata": {},
     "output_type": "execute_result"
    }
   ],
   "source": [
    "a = np.arange(15).reshape(3, -1)\n",
    "a.shape, a.ndim"
   ]
  },
  {
   "cell_type": "code",
   "execution_count": 22,
   "id": "3a541cd6-ded4-4ab9-94b6-201e858c2f28",
   "metadata": {},
   "outputs": [
    {
     "data": {
      "text/plain": [
       "array([[ 0,  1,  2,  3,  4],\n",
       "       [ 5,  6,  7,  8,  9],\n",
       "       [10, 11, 12, 13, 14]])"
      ]
     },
     "execution_count": 22,
     "metadata": {},
     "output_type": "execute_result"
    }
   ],
   "source": [
    "a = np.arange(15).reshape(3, -1)\n",
    "a"
   ]
  },
  {
   "cell_type": "code",
   "execution_count": 23,
   "id": "db61d865-8413-4a3f-8899-44d3a8edbf20",
   "metadata": {},
   "outputs": [
    {
     "data": {
      "text/plain": [
       "array([[ 0,  5, 10],\n",
       "       [ 1,  6, 11],\n",
       "       [ 2,  7, 12],\n",
       "       [ 3,  8, 13],\n",
       "       [ 4,  9, 14]])"
      ]
     },
     "execution_count": 23,
     "metadata": {},
     "output_type": "execute_result"
    }
   ],
   "source": [
    "a.T"
   ]
  },
  {
   "cell_type": "code",
   "execution_count": 32,
   "id": "6194ae67-e356-4ac4-9f67-324296380d97",
   "metadata": {},
   "outputs": [
    {
     "data": {
      "text/plain": [
       "array([[83, 12, 93, 93,  1, 54],\n",
       "       [72, 25, 78, 54, 60, 83],\n",
       "       [22, 88,  7, 95, 39, 39],\n",
       "       [15, 61, 18, 79, 44, 36],\n",
       "       [38,  9, 16, 99, 82,  3]])"
      ]
     },
     "execution_count": 32,
     "metadata": {},
     "output_type": "execute_result"
    }
   ],
   "source": [
    "a = np.random.randint(1,100,(5,6))\n",
    "a"
   ]
  },
  {
   "cell_type": "code",
   "execution_count": 35,
   "id": "25018298-43e1-458f-acb0-2e24850283a5",
   "metadata": {},
   "outputs": [
    {
     "data": {
      "text/plain": [
       "array([3, 3])"
      ]
     },
     "execution_count": 35,
     "metadata": {},
     "output_type": "execute_result"
    }
   ],
   "source": [
    "a = np.random.randint(1,100,(5,6))\n",
    "a[~(a>=10) & (a<=90)]"
   ]
  },
  {
   "cell_type": "code",
   "execution_count": 36,
   "id": "2ec15f07-bc44-4a30-ae2a-edc55544c462",
   "metadata": {},
   "outputs": [
    {
     "data": {
      "text/plain": [
       "(array([47, 51, 47, 39, 32, 73, 41, 66, 82, 59, 81, 70, 20, 35,  3, 93, 57,\n",
       "        73, 86, 75, 61, 81, 49, 23, 71, 88, 84, 71,  4, 18]),\n",
       " array([ 3, 93,  4]))"
      ]
     },
     "execution_count": 36,
     "metadata": {},
     "output_type": "execute_result"
    }
   ],
   "source": [
    "matrix = np.random.randint(1, 100, 30)\n",
    "matrix, matrix[(matrix < 10) | (matrix > 90)]"
   ]
  }
 ],
 "metadata": {
  "kernelspec": {
   "display_name": "Python 3 (ipykernel)",
   "language": "python",
   "name": "python3"
  },
  "language_info": {
   "codemirror_mode": {
    "name": "ipython",
    "version": 3
   },
   "file_extension": ".py",
   "mimetype": "text/x-python",
   "name": "python",
   "nbconvert_exporter": "python",
   "pygments_lexer": "ipython3",
   "version": "3.11.7"
  }
 },
 "nbformat": 4,
 "nbformat_minor": 5
}
