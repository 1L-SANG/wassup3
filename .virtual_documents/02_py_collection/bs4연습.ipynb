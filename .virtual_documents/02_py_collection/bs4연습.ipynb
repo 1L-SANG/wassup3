from bs4 import BeautifulSoup
import lxml


html_file= open('sample/market.html', encoding='utf-8')
html_src= html_file.read()
html_file.close()


soup= BeautifulSoup(html_src, 'lxml')


soup


soup.find('p')


soup.find_all('p')


soup.find('p', id="orange")


soup.find?


soup.find_all('span', class_="count")


soup.select('p')


soup.select_one('p')


soup


soup.select('#orange')


soup.select('.count')


soup.select_one('.count')


soup.select('span.count')


soup.select('span#fruit best')





soup.select('a, .store')


soup.select("a,.store")


soup.select('p#orange')


soup.select("p#orange")


soup


mylist = soup.select('.fruit.best a')
type(mylist)


soup.select('.fruit.best >a')


mylist[0]b


mylist[1]


mylist[0].text


mylist[0]['href']


items = soup.select('.fruit')
for item in items: 
    name = item['title']
    price = item.find('span','price').text
    count = item.find('span','count').text
    store = item.find('span', 'store').text
    print(name, price, count, store) 


e = soup.find('p', id="orange")
print (e)


w = soup.find('span')
w.string


ke = soup.select('span')
ke[0].text



