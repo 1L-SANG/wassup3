#request


pip install requests


import requests
from bs4 import BeautifulSoup


PATH = "https://finance.naver.com/"
resp = requests.get(PATH)


resp


resp.text
# 전체 텍스트


src = resp.text
soup = BeautifulSoup(src,'lxml')


print(soup)


srclist = soup.select('.section_strategy li a')[0]
srclist


import requests
from bs4 import BeautifulSoup
import pandas as pd


PATH = 'https://www.melon.com/chart/index.htm'
resp = requests.get(PATH)
resp
#왜 안나오지? => user.agent 설정해야함
# 'chrome://version/'활용


#딕서녀리로 전달. rest풀한 api, json 을 주고받음. 여러개의 데이터를 주고받을땐 왠만하면 딕셔너리다 
info = {'User-Agent':'Mozilla/5.0 (Windows NT 10.0; Win64; x64) AppleWebKit/537.36 (KHTML, like Gecko) Chrome/126.0.0.0 Safari/537.36'}
info


resp = requests.get(PATH, headers = info)
resp


html_src = resp.text
html_src 
#이렇게 하면 너무기니까 돔 객체 사용


soup = BeautifulSoup(html_src, 'lxml') 
soup


#곡이름 찾기


soup.select('.ellipsis.rank01 a')
