pwd


%%writefile sample1.csv
c1, c2, c3
1, 1.11, one
2, 2.22, two
3, 3.33, three


import pandas as pd


pd.read_csv('sample1.csv')


%%writefile sample2.csv
1, 1.11, one
2, 2.22, two
3, 3.33, three


pd.read_csv('sample2.csv')


pd.read_csv('sample2.csv',names=['c1', 'c2', 'c3'])


pd.read_csv('sample1.csv', index_col='c1')


%%writefile sample3.txt
c1        c2        c3        c4
0.179181 -1.538472  1.347553  0.43381
1.024209  0.087307 -1.281997  0.49265
0.417899 -2.002308  0.255245 -1.10515


pd.read_table('sample3.txt', sep='\s+')


%%writefile sample4.txt
파일 제목: sample4.txt
데이터 포맷의 설명:
c1, c2, c3
1, 1.11, one
2, 2.22, two
3, 3.33, three


pd.read_csv('sample4.txt', skiprows=[0, 1])


%%writefile sample5.csv
c1, c2, c3
1, 1.11, one
2, , two
누락, 3.33, three


df = pd.read_csv('sample5.csv')
df


df = pd.read_csv('sample5.csv', na_values=['누락'])
df


df.to_csv('sample7.txt', sep='|')


df.index 


df.index = ["a", "b", "c"]
df


df.to_csv('sample9.csv', index=False, header=False)


import datetime
dt_start = datetime.datetime(2015, 1, 1)
dt_end = "2016, 6, 30"


pip install pandas_datareader


import pandas_datareader as pdr


gdp = pdr.get_data_fred('GDP', dt_start, dt_end)
gdp.tail()


gdp = pdr.get_data_fred('REAINTRATREARAT10Y', dt_start, dt_end)
gdp.tail()


import pandas as pd
import numpy as np


df = pd.DataFrame(np.arange(10, 22).reshape(3, 4),
                  index=["a", "b", "c"],
                  columns=["A", "B", "C", "D"])
df


df.loc[ ["a", "c"] ]


df.loc[ ["a":"c"] ]


df


df.iloc[1, 2]


df.loc[1, 2]


import pandas as pd
import numpy as np


s = pd.Series(range(10))
s


s[3] = np.nan
s


s.count()


np.random.seed(2)
df = pd.DataFrame(np.random.randint(5, size=(4, 4)), dtype=float)
df


import seaborn as sns


titanic = sns.load_dataset("titanic")
titanic.head()





titanic[['sex', 'age', 'class', 'alive']]


titanic.value_counts()


titanic.head()


titanic['age'].mean()


titanic['sex']=='female'


titanic[titanic['sex']=='female']['age'].mean()


titanic['class']=='First'


titanic[(titanic['class']=='First')&(titanic['sex']=='female')]['age'].mean()


titanic['category1']=titanic.apply(lambda r: r.sex if r.age>=20 else 'child',axis=1)


data = {
    "2015": [9904312, 3448737, 2890451, 2466052],
    "2010": [9631482, 3393191, 2632035, 2431774],
    "2005": [9762546, 3512547, 2517680, 2456016],
    "2000": [9853972, 3655437, 2466338, 2473990],
    "지역": ["수도권", "경상권", "수도권", "경상권"],
    "2010-2015 증가율": [0.0283, 0.0163, 0.0982, 0.0141]
}
columns = ["지역", "2015", "2010", "2005", "2000", "2010-2015 증가율"] # 순서 지정
index = ["서울", "부산", "인천", "대구"] # 순서 지정
df = pd.DataFrame(data, index=index, columns=columns)
df


df['2010']


df


df.T.loc['서울']


df.loc[:,'2010']


df.loc['서울','2010']


df.loc['서울']


df.loc['서울','2010']


df.iloc[0]


df.T


df.T.loc['2010']


df3 = pd.DataFrame({
    'A': [1, 3, 4, 3, 4],
    'B': [2, 3, 1, 2, 3],
    'C': [1, 5, 2, 4, 4]
})
df3


df3.apply(pd.value_counts)


import seaborn as sns
titanic = sns.load_dataset("titanic")
titanic.head()


bins = [1, 20, 40, 50, 70, 100]
labels = ["미성년자", "청년", "중년", "장년", "노년"]
df5 = pd.cut(titanic.age, bins, labels=labels)
df5.head()


df5.value_counts()


df5


bins = [1, 20, 40, 50, 70, 100]
labels = ["미성년자", "청년", "중년", "장년", "노년"]
sexlabel = ['남성', '여성']


titanic['c3']=pd.cut(titanic.age,bins,labels=labels)


titanic['c3']=titanic.apply(lambda x : '미성년자' if x.age <20 else x.c3 + x.sex,axis=1) 


titanic["category3"] = titanic.apply(lambda x : '미성년자' if x.age <= 20 else x.category3 + x.sex, axis=1)
titanic.x


import numpy as np
import pandas as pd


np.round(np.random.rand(3, 5), 2)


np.vstack([list('ABCDE'), np.round(np.random.rand(3, 5), 2)])


np.random.seed(0)
df1 = pd.DataFrame(np.vstack([list('ABCDE'), np.round(np.random.rand(3, 5), 2)]).T, # transpose
                   columns=["C1", "C2", "C3", "C4"])
df1


df2 = df1.set_index("C1")
df2


df_score1 = pd.DataFrame(np.random.randint(0, 101, size=(5, 3)), columns=['국어', '영어', '수학'])
df_score1


df_score.index.진구 = "이름"
df_score.index


df_score1 = pd.DataFrame(np.random.randint(0, 101, size=(3, 5)), columns=['국어', '영어', '수학'])
df_score2 = pd.DataFrame(np.random.randint(0, 101, size=(3, 5)), columns=['국어', '영어', '수학'])


df = pd.DataFrame(np.arange(10, 22).reshape(3, 4),
                  index=["a", "b", "c"],
                  columns=["A", "B", "C", "D"])
df


df.loc["a"]


df.loc['A']


df.loc["b":"c"]


df["b":"c"]


df.loc['a','C']


df.loc[1:2]


df.loc[["a", "c"], ["B", "D"]]


df.iloc[2:3, 1:3]


df.iloc[2:, 1:3]


import pandas as pd


data = {
    "도시": ["서울", "서울", "서울", "부산", "부산", "부산", "인천", "인천"],
    "연도": ["2015", "2010", "2005", "2015", "2010", "2005", "2015", "2010"],
    "인구": [9904312, 9631482, 9762546, 3448737, 3393191, 3512547, 2890451, 263203],
    "지역": ["수도권", "수도권", "수도권", "경상권", "경상권", "경상권", "수도권", "수도권"]
}
columns = ["도시", "연도", "인구", "지역"]
df1 = pd.DataFrame(data, columns=columns)
df1


df2 = df1[["도시", "연도", "인구"]]
df2









































































































































































































































































































