import numpy as np
np.__version__


a = np.array(0)
a, a.ndim, type(a)
#a는 그냥 0이아니고 array0이고 a는 0차원)


a= np.array([2,4,6])
a, a.ndim


#2차원은 리스트 2개로 표현
a = np.array([[1,2,3],[4,5,6]])
a, a.ndim


a = np.array([[[1,2,3],[4,5,6]], [[1,2,3],[4,5,6]]])
a, a.ndim, a.shape
#2행3열이 2개 있어


#shpae (행렬의 차원을 반환)



a = np.array( [ [[1,2,3], [4,5,6]], [[1,2,3], [4,5,6]],[[1,2,3], [4,5,6]] ] )
a.shape


a= np.array([[1,2,3 ],[10,20,30],[100,200,300]])
a, a.ndim, a.shape



a = np.arange(15).reshape(3, 5)
a[0, 0]


matrix_b = np.arange(12).reshape(3,4)
matrix_b[0][0]


a = np.arange(15).reshape(3, -1)
a.shape, a.ndim


a = np.arange(15).reshape(3, -1)
a


a.T


a = np.random.randint(1,100,(5,6))
a


a = np.random.randint(1,100,(5,6))
a[~(a>=10) & (a<=90)]


matrix = np.random.randint(1, 100, 30)
matrix, matrix[(matrix < 10) | (matrix > 90)]
