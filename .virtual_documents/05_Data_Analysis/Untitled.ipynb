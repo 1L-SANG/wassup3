


import pandas as pd
access_data = pd.read_table('data/mini.csv',sep=',')


access_data.info()


access_data2 = access_data.drop(columns=['user_id','preferred_difficulty_level','subscription_type','payment_pattern'])
correlation_matrix = access_data2.corr()
correlation_matrix
# mask = correlation_matrix <= -0.019
plt.figure(figsize=(10, 8))
sns.heatmap(correlation_matrix, annot=True, cmap='coolwarm', vmin=-0.5, vmax=0.5,) # mask=mask)
plt.title('상관분석 히트맵')
plt.show()


access_data.describe(include='all')





access_data.head()


import pandas as pd
import numpy as np
import matplotlib.pyplot as plt

# 예시 데이터프레임 생성 (여기서는 이미 access_data 데이터프레임이 있다고 가정)
np.random.seed(42)
data = {
    'subscription_duration': np.random.randint(1, 24, size=10000),
    'average_login_time': np.random.randint(1, 30, size=10000),
    'average_time_per_learning_session': np.random.randint(1, 60, size=10000),
    'monthly_active_learning_days': np.random.randint(1, 25, size=10000),
    'total_completed_courses': np.random.randint(1, 30, size=10000),
    'subscription_type': np.random.choice(['Basic', 'Premium'], size=10000, p=[0.6, 0.4]),
    'target': np.random.choice([0, 1], size=10000, p=[0.38, 0.62])
}

access_data = pd.DataFrame(data)

# target 값에 따라 데이터 분리
t1 = access_data[access_data['target'] == 1]
t0 = access_data[access_data['target'] == 0]

# subscription_type의 분포 계산
t1_subscription_counts = t1['subscription_type'].value_counts()
t0_subscription_counts = t0['subscription_type'].value_counts()

# 시각화
fig, axes = plt.subplots(1, 2, figsize=(14, 7))

# 공통 wedgeprops 설정
wedgeprops = {'edgecolor': 'black'}

# t0의 subscription_type 원형 그래프
axes[0].pie(t0_subscription_counts, labels=t0_subscription_counts.index, autopct='%1.1f%%', colors=['white', 'purple'], wedgeprops=wedgeprops)
axes[0].set_title('Subscription_Type (target=0)')

# t1의 subscription_type 원형 그래프
axes[1].pie(t1_subscription_counts, labels=t1_subscription_counts.index, autopct='%1.1f%%', colors=['white', 'purple'], wedgeprops=wedgeprops)
axes[1].set_title('Subscription Type (target=1)')

plt.tight_layout()
plt.show()



t1


import pandas as pd
import numpy as np
import matplotlib.pyplot as plt

# 예시 데이터프레임 생성 (여기서는 이미 access_data 데이터프레임이 있다고 가정)
np.random.seed(42)
data = {
    'subscription_duration': np.random.randint(1, 24, size=10000),
    'average_login_time': np.random.randint(1, 30, size=10000),
    'average_time_per_learning_session': np.random.randint(1, 60, size=10000),
    'monthly_active_learning_days': np.random.randint(1, 25, size=10000),
    'total_completed_courses': np.random.randint(1, 30, size=10000),
    'preferred_difficulty_level': np.random.choice(['Low', 'Medium', 'High'], size=10000, p=[0.5, 0.3, 0.2]),
    'target': np.random.choice([0, 1], size=10000, p=[0.38, 0.62])
}

access_data = pd.DataFrame(data)

# target 값에 따라 데이터 분리
t1 = access_data[access_data['target'] == 1]
t0 = access_data[access_data['target'] == 0]

# preferred_difficulty_level의 분포 계산
t1_difficulty_counts = t1['preferred_difficulty_level'].value_counts()
t0_difficulty_counts = t0['preferred_difficulty_level'].value_counts()

# 시각화
fig, axes = plt.subplots(1, 2, figsize=(14, 7))

# 공통 wedgeprops 설정
wedgeprops = {'edgecolor': 'black'}

# t0의 preferred_difficulty_level 원형 그래프
axes[0].pie(t0_difficulty_counts, labels=t0_difficulty_counts.index, autopct='%1.1f%%', colors=['white', 'orange', 'grey'], wedgeprops=wedgeprops)
axes[0].set_title('Preferred Difficulty Level (target=0)')

# t1의 preferred_difficulty_level 원형 그래프
axes[1].pie(t1_difficulty_counts, labels=t1_difficulty_counts.index, autopct='%1.1f%%', colors=['white', 'orange', 'grey'], wedgeprops=wedgeprops)
axes[1].set_title('Preferred Difficulty Level (target=1)')

plt.tight_layout()
plt.show()


import pandas as pd
import numpy as np
import matplotlib.pyplot as plt

# 예시 데이터프레임 생성 (여기서는 이미 access_data 데이터프레임이 있다고 가정)
np.random.seed(42)
data = {
    'subscription_duration': np.random.randint(1, 24, size=10000),
    'average_login_time': np.random.randint(1, 30, size=10000),
    'average_time_per_learning_session': np.random.randint(1, 60, size=10000),
    'monthly_active_learning_days': np.random.randint(1, 25, size=10000),
    'total_completed_courses': np.random.randint(1, 30, size=10000),
    'payment_pattern': np.random.randint(0, 8, size=10000),
    'target': np.random.choice([0, 1], size=10000, p=[0.38, 0.62])
}

access_data = pd.DataFrame(data)

# target 값에 따라 데이터 분리
t1 = access_data[access_data['target'] == 1]
t0 = access_data[access_data['target'] == 0]

# payment_pattern의 분포 계산
t1_payment_counts = t1['payment_pattern'].value_counts()
t0_payment_counts = t0['payment_pattern'].value_counts()

# 시각화
fig, axes = plt.subplots(1, 2, figsize=(14, 7))

# 공통 wedgeprops 설정
wedgeprops = {'edgecolor': 'black'}

# t0의 payment_pattern 원형 그래프
axes[0].pie(t0_payment_counts, labels=t0_payment_counts.index, autopct='%1.1f%%', wedgeprops=wedgeprops)
axes[0].set_title('Payment Pattern Distribution (target=0)')

# t1의 payment_pattern 원형 그래프
axes[1].pie(t1_payment_counts, labels=t1_payment_counts.index, autopct='%1.1f%%', wedgeprops=wedgeprops)
axes[1].set_title('Payment Pattern Distribution (target=1)')

plt.tight_layout()
plt.show()



t1=access_data[access_data['target'] == 1]
t1.describe()


t0=access_data[access_data['target'] == 0]
t0.describe()


t1.head()
t0.head()


t0 = access_data[access_data['target'] == 0].
t1 = access_data[access_data['target'] == 1]


# t0과 t1으로 데이터 나누기
t0 = access_data[access_data['target'] == 0].copy()
t1 = access_data[access_data['target'] == 1].copy()

# total_completed_courses 값을 구간으로 나누기
bins = [0, 5, 10, 15, 20, 25, 30]
t0['completed_courses_bin'] = pd.cut(t0['total_completed_courses'], bins)
t1['completed_courses_bin'] = pd.cut(t1['total_completed_courses'], bins)

# 각 구간별로 인원수 계산
t0_counts = t0['completed_courses_bin'].value_counts().sort_index()
t1_counts = t1['completed_courses_bin'].value_counts().sort_index()

# 각 구간별 비율 계산
t0_ratio = t0_counts / len(t0)
t1_ratio = t1_counts / len(t1)

# 데이터프레임으로 변환
ratio_df = pd.DataFrame({'t0_ratio': t0_ratio, 't1_ratio': t1_ratio}).reset_index()


plt.figure(figsize=(10, 6))
sns.histplot(data=access_data, x='total_completed_courses', hue='target', multiple='stack', palette='viridis')
plt.title('Distribution of Total Completed Courses by Target')
plt.xlabel('Total Completed Courses')
plt.ylabel('Count')
plt.legend(title='Target')
plt.show()


pip install koreanize-matplotlib


import koreanize_matplotlib


import pandas as pd
import numpy as np
import matplotlib.pyplot as plt

# 샘플 데이터프레임 생성 (여기서는 실제 데이터프레임을 사용합니다)

# t0과 t1으로 데이터 나누기
t0 = access_data[access_data['target'] == 0].copy()
t1 = access_data[access_data['target'] == 1].copy()

# total_completed_courses 값을 구간으로 나누기
bins = [0, 5, 10, 15, 20, 25, 30]
labels = ["0~5", "5~10", "10~15", "15~20", "20~25", "25~30"]
t0['completed_courses_bin'] = pd.cut(t0['total_completed_courses'], bins)
t1['completed_courses_bin'] = pd.cut(t1['total_completed_courses'], bins)

# 각 구간별로 인원수 계산
t0_counts = t0['completed_courses_bin'].value_counts().sort_index()
t1_counts = t1['completed_courses_bin'].value_counts().sort_index()

# 각 구간별 비율 계산
t0_ratio = t0_counts / len(t0)
t1_ratio = t1_counts / len(t1)

# 데이터프레임으로 변환
ratio_df = pd.DataFrame({'t0_ratio': t0_ratio, 't1_ratio': t1_ratio}).reset_index()

# 그래프 그리기
plt.figure(figsize=(12, 6))

# 막대 위치 지정
bar_width = 0.35
index = np.arange(len(ratio_df))

# t0 그룹 막대
plt.bar(index, ratio_df['t0_ratio'], bar_width, color='blue', alpha=0.7, label='t0 (target=0)')

# t1 그룹 막대
plt.bar(index + bar_width, ratio_df['t1_ratio'], bar_width, color='green', alpha=0.7, label='t1 (target=1)')

# 그래프 제목과 축 라벨 설정
plt.title('Subscription Renewal Ratio by Total Completed Courses')
plt.xlabel('완료한 총 코스 수 ')
plt.ylabel('Ratio')

# x축 눈금과 레이블 설정
plt.xticks(index + bar_width / 2, ratio_df['completed_courses_bin'].astype(str), rotation=45)

# 범례 추가
plt.legend()


# 그래프 보이기
plt.show()



t0.total_completed_courses


import pandas as pd
import numpy as np
import matplotlib.pyplot as plt

# 데이터 나누기
t0 = access_data[access_data['target'] == 0].copy()
t1 = access_data[access_data['target'] == 1].copy()

# total_completed_courses 값을 구간으로 나누기
bins = [0, 5, 10, 15, 20, 25, 30]
labels = ["0~5", "5~10", "10~15", "15~20", "20~25", "25~30"]
t0['completed_courses_bin'] = pd.cut(t0['total_completed_courses'], bins=bins, labels=labels)
t1['completed_courses_bin'] = pd.cut(t1['total_completed_courses'], bins=bins, labels=labels)

# 각 구간별로 인원수 계산
t0_counts = t0['completed_courses_bin'].value_counts().sort_index()
t1_counts = t1['completed_courses_bin'].value_counts().sort_index()

# 각 구간별 비율 계산
t0_ratio = t0_counts / len(t0)
t1_ratio = t1_counts / len(t1)

# 데이터프레임으로 변환
ratio_df = pd.DataFrame({'completed_courses_bin': labels, 't0_ratio': t0_ratio.values, 't1_ratio': t1_ratio.values})

# 그래프 그리기
plt.figure(figsize=(12, 6))

# 막대 위치 지정
bar_width = 0.35
index = np.arange(len(ratio_df))

# t0 그룹 막대
plt.bar(index, ratio_df['t0_ratio'], bar_width, color='black', alpha=0.7, label='t0 (target=0)')

# t1 그룹 막대
plt.bar(index + bar_width, ratio_df['t1_ratio'], bar_width, color='purple', alpha=0.7, label='t1 (target=1)')

# 그래프 제목과 축 라벨 설정
plt.title('Subscription Renewal Ratio by Total Completed Courses')
plt.xlabel('완료한 총 코스 수')
plt.ylabel('Ratio')

# x축 눈금과 레이블 설정
plt.xticks(index + bar_width / 2, labels)

# 범례 추가
plt.legend()

# 그래프 보이기
plt.show()



import pandas as pd
import seaborn as sns
import matplotlib.pyplot as plt

# 예시 데이터프레임 생성
# 실제 데이터프레임에서는 이 부분을 생략하고 access_data를 바로 사용합니다.

# 상관계수 행렬 계산
correlation_matrix = access_data.corr()

# 히트맵으로 상관계수 행렬 시각화
plt.figure(figsize=(14, 10))
sns.heatmap(correlation_matrix, annot=True, cmap='coolwarm', fmt='.2f', linewidths=0.5)
plt.title('Correlation Matrix of Access Data')
plt.show()



import pandas as pd
import matplotlib.pyplot as plt

# 예시 데이터프레임 생성
data = {
    "user_id": ['a1', 'a2', 'a3', 'a4', 'a5', 'a6', 'a7', 'a8', 'a9', 'a10'],
    "subscription_duration": [12, 5, 8, 6, 7, 9, 11, 3, 10, 7],
    "recent_login_time": [3, 15, 7, 1, 8, 9, 14, 20, 5, 11],
    "average_login_time": [14, 20, 13, 10, 15, 16, 18, 22, 19, 17],
    "average_time_per_learning_session": [30, 45, 20, 35, 40, 65, 70, 10, 55, 60],
    "monthly_active_learning_days": [12, 15, 10, 9, 13, 14, 16, 5, 11, 10],
    "total_completed_courses": [8, 12, 5, 6, 10, 22, 21, 3, 25, 19],
    "recent_learning_achievement": [75, 80, 70, 65, 77, 85, 82, 60, 90, 78],
    "abandoned_learning_sessions": [2, 1, 3, 0, 2, 4, 2, 5, 3, 2],
    "community_engagement_level": [3, 4, 2, 5, 4, 5, 3, 2, 4, 3],
    "preferred_difficulty_level": ['Low', 'Medium', 'High', 'Low', 'Medium', 'High', 'Medium', 'Low', 'Medium', 'High'],
    "subscription_type": ['Basic', 'Premium', 'Basic', 'Premium', 'Basic', 'Premium', 'Basic', 'Premium', 'Basic', 'Premium'],
    "customer_inquiry_history": [1, 3, 2, 0, 2, 1, 3, 4, 1, 2],
    "payment_pattern": [3, 6, 4, 2, 5, 3, 4, 6, 2, 3],
    "target": [1, 0, 1, 0, 1, 1, 1, 0, 1, 1]
}

access_data = pd.DataFrame(data)

# target=1인 사람들만 필터링
target_data = access_data[access_data['target'] == 1]

# 조건에 따라 색상 지정
colors = target_data.apply(lambda row: 'red' if (20 <= row['total_completed_courses'] <= 25 and row['average_time_per_learning_session'] >= 60) else 'black', axis=1)

# 스캐터 플롯 그리기
plt.figure(figsize=(10, 6))
plt.scatter(target_data['total_completed_courses'], target_data['average_time_per_learning_session'], c=colors)
plt.title('Scatter Plot of Total Completed Courses and Average Time per Learning Session')
plt.xlabel('Total Completed Courses')
plt.ylabel('Average Time per Learning Session')
plt.grid(True)
plt.show()



import pandas as pd

# 주어진 access_data 데이터프레임을 사용합니다
# total_completed_courses 값이 20~25 사이에 속한 사람들만 필터링
filtered_data = access_data[(access_data['total_completed_courses'] >= 20) & (access_data['total_completed_courses'] <= 25)]

# 필터링된 데이터프레임 출력
filtered_data



sorted_data = access_data.sort_values(by='total_completed_courses')

# 정렬된 데이터프레임 출력
sorted_data


import pandas as pd
import matplotlib.pyplot as plt

# 실제 데이터를 로드합니다 (예시로 access_data를 생성했습니다)
# access_data = pd.read_csv('path_to_your_data.csv')

# target=1인 사람들만 필터링
target_data = access_data[access_data['target'] == 1]

# 조건에 따라 색상 지정
colors = target_data.apply(lambda row: 'red' if (20 <= row['total_completed_courses'] <= 25 and row['average_time_per_learning_session'] >= 60) else 'black', axis=1)

# 스캐터 플롯 그리기
plt.figure(figsize=(10, 6))
plt.scatter(target_data['total_completed_courses'], target_data['average_time_per_learning_session'], c=colors)
plt.title('Scatter Plot of Total Completed Courses and Average Time per Learning Session')
plt.xlabel('Total Completed Courses')
plt.ylabel('Average Time per Learning Session')
plt.grid(True)
plt.show()



import pandas as pd
import matplotlib.pyplot as plt

# 실제 데이터를 로드합니다 (여기서는 access_data를 사용합니다)

# 조건에 맞는 사람들 필터링
condition = (access_data['total_completed_courses'] >= 20) & (access_data['total_completed_courses'] <= 25) & (access_data['average_time_per_learning_session'] >= 60)

# target=1인 사람들
target_1_data = access_data[condition & (access_data['target'] == 1)]

# target=0인 사람들
target_0_data = access_data[condition & (access_data['target'] == 0)]

# 스캐터 플롯 그리기
plt.figure(figsize=(10, 6))

# target=1인 사람들 (빨간색)
plt.scatter(target_1_data['total_completed_courses'], target_1_data['average_time_per_learning_session'], c='red', label='target=1')

# target=0인 사람들 (검정색)
plt.scatter(target_0_data['total_completed_courses'], target_0_data['average_time_per_learning_session'], c='black', label='target=0')

plt.title('Scatter Plot of Total Completed Courses and Average Time per Learning Session')
plt.xlabel('Total Completed Courses')
plt.ylabel('Average Time per Learning Session')
plt.legend()
plt.grid(True)
plt.show()



import pandas as pd
import matplotlib.pyplot as plt

# 실제 데이터프레임을 사용합니다. 아래는 예시입니다.
# access_data = pd.read_csv('path_to_your_data.csv')

# 조건에 맞는 사람들 필터링
condition = (access_data['total_completed_courses'] >= 20) & (access_data['total_completed_courses'] <= 25) & (access_data['average_time_per_learning_session'] >= 60)

# target=1인 사람들
target_1_data = access_data[condition & (access_data['target'] == 1)]

# target=0인 사람들
target_0_data = access_data[condition & (access_data['target'] == 0)]

# 각 그룹의 수 계산
target_1_count = len(target_1_data)
target_0_count = len(target_0_data)

# 막대그래프 그리기
plt.figure(figsize=(10, 6))
bars = plt.bar(['Target 1', 'Target 0'], [target_1_count, target_0_count], color=['red', 'black'])

# 그래프 제목과 축 라벨 설정
plt.title('Comparison of Users with Specific Conditions by Target')
plt.xlabel('Target')
plt.ylabel('Number of Users')
plt.grid(True)

# 막대에 수치 표시
for bar in bars:
    height = bar.get_height()
    plt.text(bar.get_x() + bar.get_width() / 2.0, height, f'{height}', ha='center', va='bottom')

# 그래프 보이기
plt.show()



condition = (access_data['total_completed_courses'] >= 20) & (access_data['total_completed_courses'] <= 25) & (access_data['average_time_per_learning_session'] >= 60)

# target=1인 사람들
target_1_data = access_data[condition & (access_data['target'] == 1)]

# target=0인 사람들
target_0_data = access_data[condition & (access_data['target'] == 0)]

# 각 그룹의 평균 계산
target_1_avg = target_1_data.groupby('total_completed_courses')['average_time_per_learning_session'].mean()
target_0_avg = target_0_data.groupby('total_completed_courses')['average_time_per_learning_session'].mean()

# 막대그래프 그리기
plt.figure(figsize=(12, 8))

# target=1인 사람들 (빨간색)
plt.bar(target_1_avg.index.astype(str), target_1_avg, color='black', alpha=0.7, label='target=1')

# target=0인 사람들 (검정색)
plt.bar(target_0_avg.index.astype(str), target_0_avg, color='white', alpha=0.7, label='target=0')

plt.title('종합 비교')
plt.xlabel('Total Completed Courses')
plt.ylabel('Average Time per Learning Session')
plt.legend()
plt.show()



