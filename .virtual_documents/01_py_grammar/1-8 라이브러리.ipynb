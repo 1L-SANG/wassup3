





import numpy as np

x = np.linspace(-1,1,100)
y = np.sin(x)
print(y)


np.random.choice(x,3,replace=False)


a = np.random.normal(size=(3,5))
a.shape
print(a)





# 현재 colab이 동작하고있는 위치를 확인해보고
# 해당 위치에 재료 파일을 업로드 하겠습니다.
import os
print(os.getcwd())


# 판다스로 데이터를 조작해봅시다. 
# 데이터의 속성을 모를때는 개인적으로 판다스 라이브러리가 넘파이보다 조금 더 편합니다.
import pandas as pd

#df = pd.read_csv(uploaded['HomeC.csv'].decode('utf-8'))
df = pd.read_csv('./sample_data/california_housing_train.csv')


df.head()


df.tail(3)


print('데이터 개수', df.shape[0])
print('데이터 속성 개수',df.shape[1])


df.index


df.columns


numpy_data = df.to_numpy()


print('인구 평균',df['population'].mean())
print('소득 최소값',df['median_income'].min())
print('소득 최대값',df['median_income'].max())





import matplotlib.pyplot as plt
%%matplotlib inline
 # <-- Jupyter notebook 계열에서만 쓰이는 코드입니다.
 

# 넘파이에서 불러왔던 x, y를 재사용
plt.plot(x,y,'r--')
plt.grid()


# 불러온 데이터중 중위소득을 막대그래프(히스토그램)로 도식
plt.hist(df['median_income'],bins=20)
plt.grid()
