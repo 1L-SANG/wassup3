#화면에 Hello World 문자열을 출력하세요.


print("Hello world")


#화면에 Mary's cosmetics을 출력하세요. (중간에 '가 있음에 주의하세요)


print("Mary's cosmetics")





print('신씨가 소리질렀다. "도둑이야".')





print("C:\Windows")


#다음 코드를 실행해보고 \t와 \n의 역할을 설명해보세요.

#print("안녕하세요.\n만나서\t\t반갑습니다.")


print("안녕하세요.\n만나서\t\t반갑습니다.")


print(naver;kakao;daum)


print("a","b","c",sep=";")


print("first");print("second")


print("first");+ print("second")


a,b = "first","second" ; a+b


삼성전자 = 50000 ; 삼성전자 * 10


시가총액,현재가,PER = "298조","50,000원",15.79 /n print("시가총액","현재가",PER)


시가총액=2980000000000 , 현재가=50000, per=15.79 /n print((시가총액,type(시가총액)),(현재가,type(현재가)),(per,type(per)))


시가총액=2980000000000 , 현재가=50000, per=15.79 /n print(시가총액,type(시가총액)), print(현재가,type(현재가)), print(per,type(per))


시가총액=2980000000000 현재가=50000, per=15.79 /n print(시가총액,type(시가총액)), print(현재가,type(현재가)), print(per,type(per))


시가총액 = "298조"
현재가 = "50,000원"
PER = 15.79
print("시가총액:",시가총액)
print("현재가:",현재가)
print("PER:",PER)


s = "hello" t = "python" , s + "!" /t +t


s = "hello" 
t = "python" 
s + "!" /t +t


s = "hello" t = "python"  
s + t


s = "hello" t = "python"  
s, t


s = "hello" t = "python"  
s + t


s = "hello" 
t = "python"  
s + "! " + t


a = "132"
print(a,type(a))


num_str = "720"


num_str = "720"  #형변환
num_int = int(num_str)
print(num_int, type(num_int))


num = 100
num_str="num"
print(num_str,type(num_str))


num = 100
num_str=str(num)
print(num_str,type(num_str))


a = "15.79"
b = float(a)
print(b,type(b))


year = "2024"
year2 = int(year)
print(year2-2,year2-1,year2)


rental = 48584
총금액 = rental * 36
print("총금액")


rental = 48584
총금액 = rental * 36
print(총금액)





letters = 'python'
letters[0],letters[2]


letters = 'python'
print(letters[0],letters[2])


a = "24가 2210"
a[-4:]


b = "홀짝홀짝홀짝"
b[::2]


c = "python" 
print(c[::-1])


d = "010-1234-5678"
print(d[0:3]) + print(d[4:8]) + print(d[9:11])


d = "010-1234-5678"
print(d[0:3]) + print(d[4:8])


d = "010-1234-5678"
e = d[0:3] + d[4:8] + d[9:13]
print(e)


d = "010-1234-5678"
dd = d.replace("-"," ")
print(dd)


d = "010-1234-5678"
dd = d.replace("-","")
print(dd)


url = "naver.com"
url_q = url.split('.')
print(url_q[-1])


a = 'python'
print(a)


a = 'python'
b = 'P' + a[1:]
b


a = 1234
a[0]=6
print(a)


string = 'abcdfe2a354a32a'
string2 = string.replace("a","A")
print(string2)


t1 = 'python'
t2 = 'java'
t3 = t1 +' ' + t2 + ' '
t4 = t3 * 3
t4


name1 = "김민수" 
age1 = 10
name2 = "이철희"
age2 = 13
print("이름: {} 나이: {}".format(name1,age1))
print("이름: {} 나이: {}".format(name2,age2))


name1 = "김민수" 
age1 = 10
name2 = "이철희"
age2 = 13
print("이름: %s 나이: %s" % (name1, age1))
print("이름: %s 나이: %s" % (name2, age2))


name1 = "김민수" 
age1 = 10
name2 = "이철희"
age2 = 13
print(f'이름 : {name1} 나이 : {age1}')
print(f'이름 : {name2} 나이 : {age2}')


상장주식수 = "5,969,782,550"
a = 상장주식수.replace(",","")
b = int(a)
print(b,type(b))


분기 = "2020/03(E) (IFRS연결)"
print(분기[:7])


a = "   삼성전자    "
b=a.strip()
b


ticker = "btc_krw"
ticker.upper()


ticker = "BTC_KRW"
ticker.lower()


a = "hello"
b = 'H' + a[1:]
b


file_name = "보고서.xlsx"
file_name.endswith("xlsx")


a = "hello world"
b = a.split(" ")
b


date = "2020-05-01"
k = date.split("-")
year = k[0]
month = k[1]
day = k[2]
year,month,day


data = "039490     "
a = data.rstrip()
a


q = "abcdefgh"
w = q[::-1]
e = q[::-2]
print(w,e)


name1 = "김민수"
age1 = 10
name2 = "이철희"
age2 = 13
    
    f’(이름: {name1} 나이: {age1})’
    f’(이름: {name2} 나이: {age2})’


분기 = "2020/03(E) (IFRS연결)"
q = 분기.split()
w = q[:7]
w


file_name = "보고서.xlsx"
file_name.endswith("xlsx")


movie_rank = ['닥터 스트레인지', '스플릿', '럭키', '배트맨']
movie_rank,insert(0,"배트맨")
movie_rank


movie_rank = ['닥터 스트레인지', '스플릿', '럭키', '배트맨']
movie_rank.insert(0,"배트맨")
movie_rank


movie_rank = ['닥터 스트레인지', '슈퍼맨', '스플릿', '럭키', '배트맨']
del movie_rank[-2]
movie_rank


movie_rank = ['닥터 스트레인지', '슈퍼맨', '스플릿', '배트맨']
del movie_rank[2:]
movie_rank


lang1 = ["C", "C++", "JAVA"]
lang2 = ["Python", "Go", "C#"]
lang3 = lang1 + lang2
lang3


nums = [1, 2, 3, 4, 5, 6, 7]
a = nums.min()
b = nums.max()
print(a,b)


nums = [1, 2, 3, 4, 5]
print(avg(nums))


cook = ["피자", "김밥", "만두", "양념치킨", "족발", "피자", "김치만두", "쫄면", "소시지", "라면", "팥빙수", "김치전"]
len(cook)


nums = [1, 2, 3, 4, 5]
a = sum(nums)
b = len(nums)
c = a / b
c





price = ['20180728', 100, 130, 140, 150, 160, 170]
a = del price[0]
print(a)


price = ['20180728', 100, 130, 140, 150, 160, 170]
del price[0]
print(price)


nums = [1, 2, 3, 4, 5, 6, 7, 8, 9, 10]
a = nums[::2]
a


nums = [1, 2, 3, 4, 5, 6, 7, 8, 9, 10]
a = nums[1:2]



nums = [1, 2, 3, 4, 5]
s = nums[::-1]
s


interest = ['삼성전자', 'LG전자', 'Naver']
a = interest[0]
s = interest[2]
print(a,s)


interest = ['삼성전자', 'LG전자', 'Naver']
print(interest[:])


interest = ['삼성전자', 'LG전자', 'Naver', 'SK하이닉스', '미래에셋대우']
interset.join("/")


interest = ['삼성전자', 'LG전자', 'Naver', 'SK하이닉스', '미래에셋대우']
'/'.join(interest)


interest = ['삼성전자', 'LG전자', 'Naver', 'SK하이닉스', '미래에셋대우']
\n.join(interest)


string = "삼성전자/LG전자/Naver"
s = string.replace("/",",")
s


string = "삼성전자/LG전자/Naver"
a = string.split("/")
a





a.sort?


data = [2, 4, 3, 1, 5, 10, 9]
data.sort()
data





a, b, *c = (0, 1, 2, 3, 4, 5)
>> a
0
>> b
1
>> c
[2, 3, 4, 5]


a,b,c = (1,2,3)
a


scores = [8.8, 8.9, 8.7, 9.2, 9.3, 9.7, 9.9, 9.5, 7.8, 9.4]
a = *scores,b,c
print(a)


dict(temp)


temp = {}
print(temp,type(temp))


a={'메로나':1000,'폴라포':1200,'빵빠레':1800}
print(a,type(a))


a={'메로나':1000,'폴라포':1200,'빵빠레':1800}
b={'키키바':23900,'우와바':10000}
c = a+b
print(c)


a={'메로나':1000,'폴라포':1200,'빵빠레':1800}
a['죠스바']=1000
a['나와바']=2000
print(a)


a={'메로나':1000,'폴라포':1200,'빵빠레':1800}
b={'키키바':23900,'우와바':10000}
a.update(b)
print(a)


ice = {'메로나': 1000,
       '폴로포': 1200,
       '빵빠레': 1800,
       '죠스바': 1200,
       '월드콘': 1500}
print(ice('메로나'))


ice = {'메로나': 1000,
       '폴로포': 1200,
       '빵빠레': 1800,
       '죠스바': 1200,
       '월드콘': 1500}
print(ice['메로나'])


ice = {'메로나': 1000,
       '폴로포': 1200,
       '빵빠레': 1800,
       '죠스바': 1200,
       '월드콘': 1500}
ice['메로나'] = 1300
print(ice)


warn_investment_list_lower = ["microsoft", "google", "naver", "kakao", "samsung", "lg"]
warn_investment_list_upper = ["MICROSOFT", "GOOGLE", "NAVER", "KAKAO", "SAMSUNG", "LG"]
list_lower = list_upper = input("")
if list_lower in warn_investment_list_lower:
    print('투자 경고 종목입니다.')
elif list_upper in warn_investment_list_upper:
    print('투자 경고 종목입니다.')
 
else:
    print('투자 경고 종목이 아닙니다.')


ice = {'메로나': 1000,
       '폴로포': 1200,
       '빵빠레': 1800,
       '죠스바': 1200,
       '월드콘': 1500}
del ice['메로나']
ice


inventory = {"메로나": [300, 20],
              "비비빅": [400, 3],
              "죠스바": [250, 100]}
print(inventory["메로나"][0],"원")


inventory = {"메로나": [300, 20],
              "비비빅": [400, 3],
              "죠스바": [250, 100]}
inventory["월드콘"]=[500,7]
inventory


icecream = {'탱크보이': 1200, '폴라포': 1200, '빵빠레': 1800, '월드콘': 1500, '메로나': 1000}
icecream.keys()


icecream = {'탱크보이': 1200, '폴라포': 1200, '빵빠레': 1800, '월드콘': 1500, '메로나': 1000}
icecream.values()


icecream = {'탱크보이': 1200, '폴라포': 1200, '빵빠레': 1800, '월드콘': 1500, '메로나': 1000}
a = icecream.values()
sum(a)


icecream = {'탱크보이': 1200, '폴라포': 1200, '빵빠레': 1800, '월드콘': 1500, '메로나': 1000}
a = {'팥빙수':2700, '아맛나':1000}
icecream[a.keys()] = [a.values()]


icecream = {'탱크보이': 1200, '폴라포': 1200, '빵빠레': 1800, '월드콘': 1500, '메로나': 1000}
new_product = {'팥빙수':2700, '아맛나':1000}
icecream.update(new_product)
icecream


keys = ("apple", "pear", "peach")
vals = (300, 250, 400)
a = dict[keys]
b = dict[vals]
a.update(b)
a


a = float(input("num1:"))
b = float(input("num2:"))
q= a+b
w= a-b
e = a*b
r = a/b
t=[q,w,e,r]
def oper(a,b):
    print("a + b =", q)
    print("a - b =", w)
    print("a x b =", e)
    print("a / b =", r)
oper(a,b)
        


a= int(input("num1:"))
b= int(input("num2:"))
c= int(input("num3:"))

def kwill(a,b,c):
    if a>b and a>c:
        print ("제일 큰수는 a")
    elif b>c and b>a:
        print ("젤 큰ㄱ는 비")
    else:
        print("ㅊc가 젤큼ㅋㅋ")
kwill(a,b,c)


def abc (d):
    d = str(d)
    print(d[::-1])
abc(d)


d=str(input("gogo:"))
def abc (d):
    print(d[::-1])
abc(d)


print_score ([1, 2, 3])
def print_score(score_list) :
    print(sum(score_list)/len(score_list))


even ([1, 3, 2, 10, 12, 11, 15])
def even():
    for i in range(len(even)):
        if i%2==0:
            print(i)


a = [1,2,3]
len(a)



even ([1, 3, 2, 10, 12, 11, 15])
def even(list):
    for i in range(len(list)):
        if i%2==0:
            print(even[i])


def even(list):
    for i in list:
        if i%2==0:
            print(i)

even ([1, 3, 2, 10, 12, 11, 15])


def fff(abc):
    c = abc.keys()
    for i in c:
        print(i)
    
fff({"이름":"김말똥", "나이":30, "성별":0})


def five(b):
    for i in range(0,len(b),5):
        print(b[i:i+5])
q = input("gogo:")
print (five(q))


def wow(a,b):
    for i in range(0,len(a),b):
        print(a[i:i+b])
wow("아이엠어보이유알어걸", 3)


a=int(input())
def q(a):
    b = int((a /12))
    print(b)
    
print(q(a))


def my_print (a, b) :
    print("왼쪽:", a)
    print("오른쪽:", b)

my_print(100,200)


a = 1
def vartest(a):
	a = a + 1
	print(a)

vartest(a) = 2
print(a) = 1


def make(a):
    return f'www.{a}.com'
input(a)
print(make(a))


def make(v):
    return f'www.{v}.com'
v = input()
print(make(v))


# 1번 방법
a = 1
def vartest(a):
	a += 1
	return a

a = vartest(a)
print(a)


a=int(input())
def q(a):
b = int((a /12))
print(b)

q(a))


class FourCal:
    def setdata(self, first, second):
        self.first = first
        self.second = second
        self.add = first + second


a = Fourcal()
a.add(3,2)


class wow:
    def ic(self,first,second):
        self.first=first
        self.second=second
a = wow()
b = wow()
c = wow()
a.ic(3,2)
b.ic(2,5)
c.ic(5,6)
print(a.first,b.first,c.second)


a = int(input())
def q(a):
    b = int(a / 12)
    print(b)

q(a)


class coin:
    pass

btc=coin()
eth=coin()
sol=coin()

btc.ticker = '비코'
eth.ticker = '이더리움'
sol.ticker = '솔라나'

print(btc.ticker)


class 계좌:
    pass

계좌1=계좌()
계좌2=계좌()
계좌1.이름 = '철수'
계좌1.잔고='2억'
계좌2.이름='민수'
계좌2.잔고='100억'

계좌1.이름




class 붕어빵틀:
    def 앙꼬넣기(어떤빵,어떤앙꼬):
        어떤빵.앙꼬=어떤앙꼬
내빵=붕어빵틀()
너빵=붕어빵틀()

붕어빵틀.앙꼬넣기(내빵,'초코맛')
붕어빵틀.앙꼬넣기(너빵,'딸기맛')



class 계좌:
    def 개설(누구계좌,넣을이름,넣을잔고):
        누구계좌.이름=넣을이름
        누구계좌.잔고=넣을잔고

    def 출력(누구계좌):
        print(누구계좌.이름)
        print(누구계좌.잔고)
        
김씨 = 계좌()
이씨 = 계좌()


계좌.개설(김씨,"김츠이",500000)
계좌.개설(이씨,"이구라",20)

계좌.출력(김씨)


class 사람:
    def __init__(self,이름,생년월일,성별):
        self.이름=이름
        self.생년월일=생년월일
        self.성별=성별

    def 정보출력(self):
        생년 = self.생년월일[:4]
        월 = self.생년월일[4:6]
        일 = self.생년월일[6:]
        print(생년,"년",월,"월",일,"일")
        print(self.성별,self.이름)
        
첫째=사람("김이서","20041221","여")
첫째.정보출력()


class 통장:
    def __init__(self,이름,잔고):
        self.이름=이름
        self.잔고=잔고
    def 입금(self)
    

    def 출금(self)



