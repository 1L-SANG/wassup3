{
 "cells": [
  {
   "cell_type": "code",
   "execution_count": 1,
   "id": "854a79f4-e21c-4369-bf9f-4ac323c7d054",
   "metadata": {
    "collapsed": true,
    "jupyter": {
     "outputs_hidden": true
    }
   },
   "outputs": [
    {
     "name": "stdout",
     "output_type": "stream",
     "text": [
      "Collecting selenium\n",
      "  Downloading selenium-4.22.0-py3-none-any.whl.metadata (7.0 kB)\n",
      "Requirement already satisfied: urllib3<3,>=1.26 in c:\\users\\dlftk\\anaconda3\\lib\\site-packages (from urllib3[socks]<3,>=1.26->selenium) (2.0.7)\n",
      "Collecting trio~=0.17 (from selenium)\n",
      "  Downloading trio-0.25.1-py3-none-any.whl.metadata (8.7 kB)\n",
      "Collecting trio-websocket~=0.9 (from selenium)\n",
      "  Downloading trio_websocket-0.11.1-py3-none-any.whl.metadata (4.7 kB)\n",
      "Requirement already satisfied: certifi>=2021.10.8 in c:\\users\\dlftk\\anaconda3\\lib\\site-packages (from selenium) (2024.2.2)\n",
      "Requirement already satisfied: typing_extensions>=4.9.0 in c:\\users\\dlftk\\anaconda3\\lib\\site-packages (from selenium) (4.9.0)\n",
      "Collecting websocket-client>=1.8.0 (from selenium)\n",
      "  Downloading websocket_client-1.8.0-py3-none-any.whl.metadata (8.0 kB)\n",
      "Collecting attrs>=23.2.0 (from trio~=0.17->selenium)\n",
      "  Downloading attrs-23.2.0-py3-none-any.whl.metadata (9.5 kB)\n",
      "Requirement already satisfied: sortedcontainers in c:\\users\\dlftk\\anaconda3\\lib\\site-packages (from trio~=0.17->selenium) (2.4.0)\n",
      "Requirement already satisfied: idna in c:\\users\\dlftk\\anaconda3\\lib\\site-packages (from trio~=0.17->selenium) (3.4)\n",
      "Collecting outcome (from trio~=0.17->selenium)\n",
      "  Downloading outcome-1.3.0.post0-py2.py3-none-any.whl.metadata (2.6 kB)\n",
      "Requirement already satisfied: sniffio>=1.3.0 in c:\\users\\dlftk\\anaconda3\\lib\\site-packages (from trio~=0.17->selenium) (1.3.0)\n",
      "Requirement already satisfied: cffi>=1.14 in c:\\users\\dlftk\\anaconda3\\lib\\site-packages (from trio~=0.17->selenium) (1.16.0)\n",
      "Collecting wsproto>=0.14 (from trio-websocket~=0.9->selenium)\n",
      "  Downloading wsproto-1.2.0-py3-none-any.whl.metadata (5.6 kB)\n",
      "Requirement already satisfied: pysocks!=1.5.7,<2.0,>=1.5.6 in c:\\users\\dlftk\\anaconda3\\lib\\site-packages (from urllib3[socks]<3,>=1.26->selenium) (1.7.1)\n",
      "Requirement already satisfied: pycparser in c:\\users\\dlftk\\anaconda3\\lib\\site-packages (from cffi>=1.14->trio~=0.17->selenium) (2.21)\n",
      "Collecting h11<1,>=0.9.0 (from wsproto>=0.14->trio-websocket~=0.9->selenium)\n",
      "  Downloading h11-0.14.0-py3-none-any.whl.metadata (8.2 kB)\n",
      "Downloading selenium-4.22.0-py3-none-any.whl (9.4 MB)\n",
      "   ---------------------------------------- 0.0/9.4 MB ? eta -:--:--\n",
      "   ---------------------------------------- 0.0/9.4 MB ? eta -:--:--\n",
      "   ---------------------------------------- 0.0/9.4 MB 660.6 kB/s eta 0:00:15\n",
      "   ---------------------------------------- 0.0/9.4 MB 660.6 kB/s eta 0:00:15\n",
      "   ---------------------------------------- 0.0/9.4 MB 660.6 kB/s eta 0:00:15\n",
      "   ---------------------------------------- 0.0/9.4 MB 219.4 kB/s eta 0:00:43\n",
      "   ---------------------------------------- 0.1/9.4 MB 383.3 kB/s eta 0:00:25\n",
      "   ---------------------------------------- 0.1/9.4 MB 469.7 kB/s eta 0:00:20\n",
      "   ---------------------------------------- 0.1/9.4 MB 469.7 kB/s eta 0:00:20\n",
      "    --------------------------------------- 0.1/9.4 MB 379.3 kB/s eta 0:00:25\n",
      "    --------------------------------------- 0.2/9.4 MB 499.5 kB/s eta 0:00:19\n",
      "    --------------------------------------- 0.2/9.4 MB 599.0 kB/s eta 0:00:16\n",
      "   - -------------------------------------- 0.3/9.4 MB 708.9 kB/s eta 0:00:13\n",
      "   - -------------------------------------- 0.3/9.4 MB 708.9 kB/s eta 0:00:13\n",
      "   - -------------------------------------- 0.4/9.4 MB 740.5 kB/s eta 0:00:13\n",
      "   - -------------------------------------- 0.5/9.4 MB 874.9 kB/s eta 0:00:11\n",
      "   -- ------------------------------------- 0.5/9.4 MB 954.7 kB/s eta 0:00:10\n",
      "   -- ------------------------------------- 0.5/9.4 MB 947.5 kB/s eta 0:00:10\n",
      "   -- ------------------------------------- 0.6/9.4 MB 933.9 kB/s eta 0:00:10\n",
      "   -- ------------------------------------- 0.7/9.4 MB 1.0 MB/s eta 0:00:09\n",
      "   --- ------------------------------------ 0.8/9.4 MB 1.1 MB/s eta 0:00:08\n",
      "   --- ------------------------------------ 0.8/9.4 MB 1.1 MB/s eta 0:00:08\n",
      "   --- ------------------------------------ 0.8/9.4 MB 1.1 MB/s eta 0:00:08\n",
      "   --- ------------------------------------ 0.9/9.4 MB 1.1 MB/s eta 0:00:08\n",
      "   ---- ----------------------------------- 1.1/9.4 MB 1.3 MB/s eta 0:00:07\n",
      "   ----- ---------------------------------- 1.3/9.4 MB 1.5 MB/s eta 0:00:06\n",
      "   ----- ---------------------------------- 1.3/9.4 MB 1.5 MB/s eta 0:00:06\n",
      "   ------ --------------------------------- 1.5/9.4 MB 1.6 MB/s eta 0:00:06\n",
      "   ------- -------------------------------- 1.8/9.4 MB 1.8 MB/s eta 0:00:05\n",
      "   --------- ------------------------------ 2.2/9.4 MB 2.1 MB/s eta 0:00:04\n",
      "   ---------- ----------------------------- 2.5/9.4 MB 2.4 MB/s eta 0:00:03\n",
      "   ----------- ---------------------------- 2.6/9.4 MB 2.3 MB/s eta 0:00:03\n",
      "   ------------- -------------------------- 3.2/9.4 MB 2.8 MB/s eta 0:00:03\n",
      "   ---------------- ----------------------- 3.9/9.4 MB 3.3 MB/s eta 0:00:02\n",
      "   -------------------- ------------------- 4.8/9.4 MB 3.9 MB/s eta 0:00:02\n",
      "   -------------------- ------------------- 4.8/9.4 MB 4.0 MB/s eta 0:00:02\n",
      "   ------------------------ --------------- 5.8/9.4 MB 4.5 MB/s eta 0:00:01\n",
      "   ----------------------------- ---------- 7.0/9.4 MB 5.2 MB/s eta 0:00:01\n",
      "   ------------------------------------- -- 8.8/9.4 MB 6.4 MB/s eta 0:00:01\n",
      "   ---------------------------------------  9.4/9.4 MB 6.9 MB/s eta 0:00:01\n",
      "   ---------------------------------------- 9.4/9.4 MB 6.7 MB/s eta 0:00:00\n",
      "Downloading trio-0.25.1-py3-none-any.whl (467 kB)\n",
      "   ---------------------------------------- 0.0/467.7 kB ? eta -:--:--\n",
      "   --------------------------------------- 467.7/467.7 kB 30.5 MB/s eta 0:00:00\n",
      "Downloading trio_websocket-0.11.1-py3-none-any.whl (17 kB)\n",
      "Downloading websocket_client-1.8.0-py3-none-any.whl (58 kB)\n",
      "   ---------------------------------------- 0.0/58.8 kB ? eta -:--:--\n",
      "   ---------------------------------------- 58.8/58.8 kB ? eta 0:00:00\n",
      "Downloading attrs-23.2.0-py3-none-any.whl (60 kB)\n",
      "   ---------------------------------------- 0.0/60.8 kB ? eta -:--:--\n",
      "   ---------------------------------------- 60.8/60.8 kB ? eta 0:00:00\n",
      "Downloading wsproto-1.2.0-py3-none-any.whl (24 kB)\n",
      "Downloading outcome-1.3.0.post0-py2.py3-none-any.whl (10 kB)\n",
      "Downloading h11-0.14.0-py3-none-any.whl (58 kB)\n",
      "   ---------------------------------------- 0.0/58.3 kB ? eta -:--:--\n",
      "   ---------------------------------------- 58.3/58.3 kB 3.2 MB/s eta 0:00:00\n",
      "Installing collected packages: websocket-client, h11, attrs, wsproto, outcome, trio, trio-websocket, selenium\n",
      "  Attempting uninstall: websocket-client\n",
      "    Found existing installation: websocket-client 0.58.0\n",
      "    Uninstalling websocket-client-0.58.0:\n",
      "      Successfully uninstalled websocket-client-0.58.0\n",
      "  Attempting uninstall: attrs\n",
      "    Found existing installation: attrs 23.1.0\n",
      "    Uninstalling attrs-23.1.0:\n",
      "      Successfully uninstalled attrs-23.1.0\n",
      "Successfully installed attrs-23.2.0 h11-0.14.0 outcome-1.3.0.post0 selenium-4.22.0 trio-0.25.1 trio-websocket-0.11.1 websocket-client-1.8.0 wsproto-1.2.0\n",
      "Note: you may need to restart the kernel to use updated packages.\n"
     ]
    }
   ],
   "source": [
    "pip install selenium"
   ]
  },
  {
   "cell_type": "code",
   "execution_count": 2,
   "id": "a911d2f9-f67a-46be-b993-37d30d32ad5b",
   "metadata": {},
   "outputs": [],
   "source": [
    "from selenium import webdriver\n",
    "from selenium.webdriver.common.by import By\n",
    "from selenium.webdriver.chrome.options import Options\n",
    "import time"
   ]
  },
  {
   "cell_type": "code",
   "execution_count": 3,
   "id": "6f23ac2f-f0b4-4919-bf34-fd0d8455513d",
   "metadata": {},
   "outputs": [],
   "source": [
    "options = Options()\n",
    "options.add_experimental_option(\"detach\", True)"
   ]
  },
  {
   "cell_type": "code",
   "execution_count": 12,
   "id": "61b343d0-d2a7-4f71-a634-1882fb00b08b",
   "metadata": {},
   "outputs": [],
   "source": [
    "url = 'http://naver.com'\n",
    "driver = webdriver.Chrome(options=options) # 객체 생성\n",
    "\n",
    "driver.get(url) # 실행 \n",
    "\n",
    "time.sleep(2)"
   ]
  },
  {
   "cell_type": "code",
   "execution_count": 7,
   "id": "8ecb3fed-3e9a-48c1-b1bf-fcf2dab90ec8",
   "metadata": {},
   "outputs": [
    {
     "data": {
      "text/plain": [
       "<selenium.webdriver.remote.webelement.WebElement (session=\"f1eb0f794737af02d342159d8238b983\", element=\"f.F4403438253F93F00D1B403DEB67E792.d.33865A0B280FA118DF4D93F00534AD31.e.1924\")>"
      ]
     },
     "execution_count": 7,
     "metadata": {},
     "output_type": "execute_result"
    }
   ],
   "source": [
    "driver.find_element(By.XPATH,'//*[@id=\"shortcutArea\"]/ul/li[5]/a/span[1]')"
   ]
  },
  {
   "cell_type": "code",
   "execution_count": 11,
   "id": "d578ecb6-1134-4cb8-9dc8-a06d7ca948bf",
   "metadata": {},
   "outputs": [],
   "source": [
    "driver.find_element(By.XPATH,'//*[@id=\"shortcutArea\"]/ul/li[5]/a/span[1]').click()"
   ]
  },
  {
   "cell_type": "code",
   "execution_count": 13,
   "id": "2ec16348-cad7-4e8b-89cd-7fc5dc365022",
   "metadata": {},
   "outputs": [],
   "source": [
    "from selenium import webdriver\n",
    "from selenium.webdriver.common.by import By\n",
    "from selenium.webdriver.chrome.options import Options\n",
    "import time, random, pandas as pd\n",
    "\n",
    "options = Options()\n",
    "options.add_argument('--window-size=974,1047')\n",
    "options.add_argument('--window-position=-7,0')\n",
    "options.add_experimental_option(\"detach\", True)\n",
    "\n",
    "driver = webdriver.Chrome( options = options)\n",
    "url = 'https://play.google.com/store/apps/details?id=com.estsoft.picnic'\n",
    "driver.get(url)\n",
    "time.sleep(random.randint(2,3))"
   ]
  },
  {
   "cell_type": "code",
   "execution_count": 14,
   "id": "1e521f46-4d62-4bc9-9666-1bfc8dcbe799",
   "metadata": {},
   "outputs": [],
   "source": [
    "driver.find_element(By.XPATH,'//*[@id=\"yDmH0d\"]/c-wiz[2]/div/div/div[1]/div/div[2]/div/div[1]/div[1]/c-wiz[4]/section/div/div[2]/div[5]/div/div/button/span').click()"
   ]
  },
  {
   "cell_type": "code",
   "execution_count": 17,
   "id": "b1b22fa8-ee53-4b78-87d9-7d7c6f1190b4",
   "metadata": {},
   "outputs": [],
   "source": [
    "import time\n",
    "import requests\n",
    "from bs4 import BeautifulSoup\n",
    "import os\n",
    "\n",
    "url = \"http://naver.com\"\n",
    "response = requests.get(url)\n",
    "soup = BeautifulSoup(response.content, 'html.parser')"
   ]
  },
  {
   "cell_type": "code",
   "execution_count": 22,
   "id": "e308bee2-9949-4438-acbf-05a891f26a84",
   "metadata": {},
   "outputs": [],
   "source": [
    "from bs4 import BeautifulSoup\n",
    "import requests\n",
    "import os\n",
    "from selenium import webdriver\n",
    "from selenium.webdriver.common.by import By\n",
    "from selenium.webdriver.chrome.options import Options\n",
    "\n",
    "PATH= 'https://naver.com/'\n",
    "resp= requests.get(PATH)\n",
    "src = resp.text\n",
    "soup = BeautifulSoup(src, 'lxml') \n",
    "\n",
    "driver = webdriver.Chrome(options=options)\n",
    "\n",
    "driver.get(PATH)"
   ]
  },
  {
   "cell_type": "code",
   "execution_count": 23,
   "id": "68076c97-4891-4be7-aa6b-47dc08b582ce",
   "metadata": {},
   "outputs": [
    {
     "name": "stdout",
     "output_type": "stream",
     "text": [
      "Image extraction complete.\n"
     ]
    }
   ],
   "source": [
    "pages = soup.find_all('div', class_='page')\n",
    "output_dir = \"images\"\n",
    "os.makedirs(output_dir, exist_ok=True)\n",
    "\n",
    "for page in pages:\n",
    "    page_number = page.get('data-page-number')\n",
    "    image_tag = page.find('img')  # img 태그를 찾습니다\n",
    "    if image_tag and 'src' in image_tag.attrs:\n",
    "        image_url = image_tag['src']\n",
    "        image_response = requests.get(image_url)\n",
    "        \n",
    "        # 이미지를 파일로 저장\n",
    "        with open(os.path.join(output_dir, f\"page_{page_number}.jpg\"), 'wb') as file:\n",
    "            file.write(image_response.content)\n",
    "        print(f\"Saved page {page_number} image.\")\n",
    "    else:\n",
    "        print(f\"No image found for page {page_number}.\")\n",
    "\n",
    "print(\"Image extraction complete.\")"
   ]
  },
  {
   "cell_type": "code",
   "execution_count": 1,
   "id": "2cbcd32a-68eb-4552-827f-4b9fcb7caeb4",
   "metadata": {},
   "outputs": [],
   "source": [
    "from bs4 import BeautifulSoup\n",
    "from selenium import webdriver\n",
    "from selenium.webdriver.common.by import By\n",
    "from selenium.webdriver.common.keys import Keys\n",
    "from selenium.webdriver.chrome.options import Options\n",
    "\n",
    "options = Options()\n",
    "options.add_argument('--window-size=974,1047')\n",
    "options.add_argument('--window-position=-7,0')\n",
    "options.add_experimental_option(\"detach\", True)"
   ]
  },
  {
   "cell_type": "code",
   "execution_count": 2,
   "id": "d738339e-51ef-4ae1-a5bb-09bb33e27a86",
   "metadata": {},
   "outputs": [],
   "source": [
    "import os\n",
    "f_dir = 'stock'\n",
    "os.makedirs(os.getcwd()+'\\\\' + f_dir)\n",
    "\n",
    "driver = webdriver.Chrome(options=options)\n",
    "URL = 'http://data.krx.co.kr/contents/MDC/MDI/mdiLoader/index.cmd?menuId=MDC0301'  \n",
    "driver.get(URL)"
   ]
  },
  {
   "cell_type": "code",
   "execution_count": 3,
   "id": "e1955c70-6137-48cc-be05-30820ad678f5",
   "metadata": {},
   "outputs": [],
   "source": [
    "from selenium import webdriver\n",
    "from selenium.webdriver.common.by import By\n",
    "from selenium.webdriver.chrome.options import Options\n",
    "import math, time\n",
    "\n",
    "options = Options()\n",
    "options.add_argument('--window-size=974,1047')\n",
    "options.add_argument('--window-position=-7,0')\n",
    "options.add_experimental_option(\"detach\", True)"
   ]
  },
  {
   "cell_type": "code",
   "execution_count": 6,
   "id": "ddc9597c-d914-4ed7-a6da-6e56db66fc71",
   "metadata": {},
   "outputs": [
    {
     "name": "stdin",
     "output_type": "stream",
     "text": [
      "검색어: 종로\n",
      "크롤링 할 건수는 몇건입니까?:  5\n"
     ]
    }
   ],
   "source": [
    "search = input('검색어:')\n",
    "cnt = int(input('크롤링 할 건수는 몇건입니까?: '))\n",
    "page_cnt = math.ceil(cnt / 10)  # 크롤링 할 전체 페이지 수"
   ]
  },
  {
   "cell_type": "code",
   "execution_count": 7,
   "id": "830b4ee0-d9aa-445d-97ac-466859a99ae4",
   "metadata": {},
   "outputs": [],
   "source": [
    "URL = 'https://korean.visitkorea.or.kr/search/search_list.do?keyword='+search\n",
    "driver = webdriver.Chrome(options=options)\n",
    "driver.get(URL)\n",
    "time.sleep(3)"
   ]
  },
  {
   "cell_type": "code",
   "execution_count": 9,
   "id": "eff9f3a6-f5ef-4ee1-bf7b-cd5d0072d61e",
   "metadata": {},
   "outputs": [],
   "source": [
    "driver.find_element(By.CSS_SELECTOR, \"#s_attraction > .more_view > a\").click()"
   ]
  }
 ],
 "metadata": {
  "kernelspec": {
   "display_name": "Python 3 (ipykernel)",
   "language": "python",
   "name": "python3"
  },
  "language_info": {
   "codemirror_mode": {
    "name": "ipython",
    "version": 3
   },
   "file_extension": ".py",
   "mimetype": "text/x-python",
   "name": "python",
   "nbconvert_exporter": "python",
   "pygments_lexer": "ipython3",
   "version": "3.11.7"
  }
 },
 "nbformat": 4,
 "nbformat_minor": 5
}
