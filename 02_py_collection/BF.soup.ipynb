{
 "cells": [
  {
   "cell_type": "code",
   "execution_count": 3,
   "id": "5ec72df4-e15b-4aa4-a78c-b4bbbaa5164e",
   "metadata": {},
   "outputs": [
    {
     "name": "stdout",
     "output_type": "stream",
     "text": [
      "Requirement already satisfied: lxml in c:\\users\\dlftk\\anaconda3\\lib\\site-packages (4.9.3)\n",
      "Note: you may need to restart the kernel to use updated packages.\n"
     ]
    }
   ],
   "source": [
    "pip install lxml"
   ]
  },
  {
   "cell_type": "markdown",
   "id": "50b10e61-c626-475f-b369-913dbe5a5f44",
   "metadata": {},
   "source": [
    "# PArser"
   ]
  },
  {
   "cell_type": "code",
   "execution_count": 6,
   "id": "7243feaf-387e-4c4b-ab33-81b749563c77",
   "metadata": {},
   "outputs": [
    {
     "data": {
      "text/plain": [
       "\u001b[1;31mInit signature:\u001b[0m \u001b[0mBeautifulStoneSoup\u001b[0m\u001b[1;33m(\u001b[0m\u001b[1;33m*\u001b[0m\u001b[0margs\u001b[0m\u001b[1;33m,\u001b[0m \u001b[1;33m**\u001b[0m\u001b[0mkwargs\u001b[0m\u001b[1;33m)\u001b[0m\u001b[1;33m\u001b[0m\u001b[1;33m\u001b[0m\u001b[0m\n",
       "\u001b[1;31mDocstring:\u001b[0m      Deprecated interface to an XML parser.\n",
       "\u001b[1;31mInit docstring:\u001b[0m\n",
       "Constructor.\n",
       "\n",
       ":param markup: A string or a file-like object representing\n",
       " markup to be parsed.\n",
       "\n",
       ":param features: Desirable features of the parser to be\n",
       " used. This may be the name of a specific parser (\"lxml\",\n",
       " \"lxml-xml\", \"html.parser\", or \"html5lib\") or it may be the\n",
       " type of markup to be used (\"html\", \"html5\", \"xml\"). It's\n",
       " recommended that you name a specific parser, so that\n",
       " Beautiful Soup gives you the same results across platforms\n",
       " and virtual environments.\n",
       "\n",
       ":param builder: A TreeBuilder subclass to instantiate (or\n",
       " instance to use) instead of looking one up based on\n",
       " `features`. You only need to use this if you've implemented a\n",
       " custom TreeBuilder.\n",
       "\n",
       ":param parse_only: A SoupStrainer. Only parts of the document\n",
       " matching the SoupStrainer will be considered. This is useful\n",
       " when parsing part of a document that would otherwise be too\n",
       " large to fit into memory.\n",
       "\n",
       ":param from_encoding: A string indicating the encoding of the\n",
       " document to be parsed. Pass this in if Beautiful Soup is\n",
       " guessing wrongly about the document's encoding.\n",
       "\n",
       ":param exclude_encodings: A list of strings indicating\n",
       " encodings known to be wrong. Pass this in if you don't know\n",
       " the document's encoding but you know Beautiful Soup's guess is\n",
       " wrong.\n",
       "\n",
       ":param element_classes: A dictionary mapping BeautifulSoup\n",
       " classes like Tag and NavigableString, to other classes you'd\n",
       " like to be instantiated instead as the parse tree is\n",
       " built. This is useful for subclassing Tag or NavigableString\n",
       " to modify default behavior.\n",
       "\n",
       ":param kwargs: For backwards compatibility purposes, the\n",
       " constructor accepts certain keyword arguments used in\n",
       " Beautiful Soup 3. None of these arguments do anything in\n",
       " Beautiful Soup 4; they will result in a warning and then be\n",
       " ignored.\n",
       " \n",
       " Apart from this, any keyword arguments passed into the\n",
       " BeautifulSoup constructor are propagated to the TreeBuilder\n",
       " constructor. This makes it possible to configure a\n",
       " TreeBuilder by passing in arguments, not just by saying which\n",
       " one to use.\n",
       "\u001b[1;31mFile:\u001b[0m           c:\\users\\dlftk\\anaconda3\\lib\\site-packages\\bs4\\__init__.py\n",
       "\u001b[1;31mType:\u001b[0m           type\n",
       "\u001b[1;31mSubclasses:\u001b[0m     "
      ]
     },
     "metadata": {},
     "output_type": "display_data"
    }
   ],
   "source": [
    "from bs4 import BeautifulStoneSoup\n",
    "import lxml\n",
    "BeautifulStoneSoup?"
   ]
  },
  {
   "cell_type": "code",
   "execution_count": 9,
   "id": "168ab845-42f5-453f-8cc1-588d50aa3e3c",
   "metadata": {},
   "outputs": [],
   "source": [
    "html = '''\n",
    "<div id=prices >\n",
    "    <table >\n",
    "        <tr class=bb>\n",
    "            <th class=\"bb lm lft\">Date\n",
    "            <th class=\"rgt bb\">Open\n",
    "            <th class=\"rgt bb\">High\n",
    "            <th class=\"rgt bb\">Low\n",
    "            <th class=\"rgt bb\">Close\n",
    "            <th class=\"rgt bb rm\">Volume\n",
    "        <tr>\n",
    "            <td class=\"lm\">Feb 28, 2014\n",
    "            <td class=\"rgt\">100.71\n",
    "            <td class=\"rgt\">100.71\n",
    "            <td class=\"rgt\">100.71\n",
    "            <td class=\"rgt\">100.71\n",
    "            <td class=\"rgt rm\">0\n",
    "     </table>\n",
    " '''"
   ]
  },
  {
   "cell_type": "code",
   "execution_count": null,
   "id": "3bc5b417-d4ba-48c5-aaf0-a9e255d15107",
   "metadata": {},
   "outputs": [],
   "source": []
  }
 ],
 "metadata": {
  "kernelspec": {
   "display_name": "Python 3 (ipykernel)",
   "language": "python",
   "name": "python3"
  },
  "language_info": {
   "codemirror_mode": {
    "name": "ipython",
    "version": 3
   },
   "file_extension": ".py",
   "mimetype": "text/x-python",
   "name": "python",
   "nbconvert_exporter": "python",
   "pygments_lexer": "ipython3",
   "version": "3.11.7"
  }
 },
 "nbformat": 4,
 "nbformat_minor": 5
}
